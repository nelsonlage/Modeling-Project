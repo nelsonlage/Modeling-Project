{
 "cells": [
  {
   "cell_type": "markdown",
   "id": "63565ed1",
   "metadata": {},
   "source": [
    "# Project name!"
   ]
  },
  {
   "cell_type": "markdown",
   "id": "71a61960",
   "metadata": {},
   "source": [
    "## About the dataset\n",
    "\n",
    "#### Source:\n",
    "[Wine quality dataset](https://archive.ics.uci.edu/ml/datasets/wine+quality)\n",
    "\n",
    "Two datasets are included, related to red and white wine samples from the demarcated region of *vinho verde* (northeast region of Portugal). Due to privacy and logistic issues, only physicochemical (inputs) and sensory (the output) variables are available (e.g. there is no data about grape types, wine brand, wine selling price, etc.). \n",
    "\n",
    "Each sample was evaluated by a minimum of three sensory assessors (using blind tastes), which graded the wine in a scale that ranges from 0 (very bad) to 10 (excellent). The final sensory score is given by the *median* of these evaluations.\n",
    "\n",
    "#### Attribute Information:    \n",
    "##### &ensp;- Input variables (based on physicochemical tests):    \n",
    "`fixed acidity` (tartaric acid - g$\\cdot$dm<sup>-3</sup>):<br>\n",
    "&ensp;&ensp;Acidity is a fundamental property of wine, imparting sourness and resistance to microbial infection.<br>\n",
    "`volatile acidity` (acetic acid - g$\\cdot$dm<sup>-3</sup>):<br>\n",
    "&ensp;&ensp;The primary volatile acid in wine is acetic acid, which is also the primary acid associated with the smell and taste of vinegar.<br>\n",
    "`citric acid` (g$\\cdot$dm<sup>-3</sup>)<br>\n",
    "&ensp;&ensp;Most used as an acid supplement during the fermentation process to help boost wine's acidity. It also gives the wine “freshness”.<br>\n",
    "`residual sugar` (g$\\cdot$dm<sup>-3</sup>)<br>\n",
    "&ensp;&ensp;Refers to the sugars left unfermented in a finished wine. The amount of residual sugar affects a wine’s sweetness.<br>\n",
    "`chlorides` (sodium chloride - g$\\cdot$dm<sup>-3</sup>)<br>\n",
    "&ensp;&ensp;Reflects the mount of salt in the wine, used to help adjust acidity and taste.<br>\n",
    "`total sulfur dioxide` (mg$\\cdot$dm<sup>-3</sup>)<br>\n",
    "&ensp;&ensp;Prevents the wine from oxidating and inhibits the growth of bacteria and undesirable wild yeasts. It's also present in its free form.<br>\n",
    "`free sulfur dioxide` (mg$\\cdot$dm<sup>-3</sup>)<br>\n",
    "`density` (g$\\cdot$dm<sup>-3</sup>)<br>\n",
    "&ensp;&ensp;Addition of sugar, alcohol, and other ingredients to enhance the quality of the wine might affect the density.<br>\n",
    "`pH`:<br>\n",
    "&ensp;&ensp;Wines are acid in nature and typical pH levels in wine normally range from 2.9 to 3.9<br>\n",
    "`sulphates` (potassium sulphate - g$\\cdot$dm<sup>-3</sup>)<br>\n",
    "&ensp;&ensp;Help to minimize oxidation in wine and maintain its freshness, improving its taste and appearance.<br>\n",
    "`alcohol` (% by volume)<br>\n",
    "&ensp;&ensp;Important component of the taste: higher alcohol content will have a fuller, richer body, while a lower-level alcohol wine will taste lighter and more delicate on the palate.\n",
    "\n",
    "##### &ensp;- Output variable (based on sensory data):    \n",
    "&ensp;&ensp;`quality` (score between 0 and 10)\n",
    "\n",
    "\n",
    "#### Main goal:\n",
    "Model wine quality based on physicochemical tests"
   ]
  },
  {
   "cell_type": "markdown",
   "id": "03d79195",
   "metadata": {},
   "source": [
    "## Import libraries"
   ]
  },
  {
   "cell_type": "code",
   "execution_count": 59,
   "id": "a4aba852",
   "metadata": {},
   "outputs": [],
   "source": [
    "import pandas as pd\n",
    "import numpy as np\n",
    "import seaborn as sns\n",
    "import matplotlib.pyplot as plt\n",
    "from scipy.stats import ttest_ind, kruskal, chi2_contingency\n",
    "from sklearn.preprocessing import StandardScaler\n",
    "from sklearn.linear_model import LinearRegression, LogisticRegression, LogisticRegressionCV\n",
    "from sklearn.metrics import confusion_matrix, accuracy_score, recall_score, classification_report\n",
    "from sklearn.model_selection import train_test_split, KFold, cross_val_score, cross_validate\n",
    "from sklearn.tree import DecisionTreeClassifier\n",
    "from sklearn.ensemble import RandomForestClassifier\n",
    "import statsmodels.api as sm\n",
    "\n",
    "%config Completer.use_jedi = False\n",
    "%matplotlib inline"
   ]
  },
  {
   "cell_type": "markdown",
   "id": "f03163dc",
   "metadata": {},
   "source": [
    "## Load the data"
   ]
  },
  {
   "cell_type": "code",
   "execution_count": 2,
   "id": "be4742c7",
   "metadata": {
    "scrolled": false
   },
   "outputs": [
    {
     "data": {
      "text/html": [
       "<div>\n",
       "<style scoped>\n",
       "    .dataframe tbody tr th:only-of-type {\n",
       "        vertical-align: middle;\n",
       "    }\n",
       "\n",
       "    .dataframe tbody tr th {\n",
       "        vertical-align: top;\n",
       "    }\n",
       "\n",
       "    .dataframe thead th {\n",
       "        text-align: right;\n",
       "    }\n",
       "</style>\n",
       "<table border=\"1\" class=\"dataframe\">\n",
       "  <thead>\n",
       "    <tr style=\"text-align: right;\">\n",
       "      <th></th>\n",
       "      <th>fixed acidity</th>\n",
       "      <th>volatile acidity</th>\n",
       "      <th>citric acid</th>\n",
       "      <th>residual sugar</th>\n",
       "      <th>chlorides</th>\n",
       "      <th>free sulfur dioxide</th>\n",
       "      <th>total sulfur dioxide</th>\n",
       "      <th>density</th>\n",
       "      <th>pH</th>\n",
       "      <th>sulphates</th>\n",
       "      <th>alcohol</th>\n",
       "      <th>quality</th>\n",
       "    </tr>\n",
       "  </thead>\n",
       "  <tbody>\n",
       "    <tr>\n",
       "      <th>0</th>\n",
       "      <td>7.4</td>\n",
       "      <td>0.70</td>\n",
       "      <td>0.00</td>\n",
       "      <td>1.9</td>\n",
       "      <td>0.076</td>\n",
       "      <td>11.0</td>\n",
       "      <td>34.0</td>\n",
       "      <td>0.9978</td>\n",
       "      <td>3.51</td>\n",
       "      <td>0.56</td>\n",
       "      <td>9.4</td>\n",
       "      <td>5</td>\n",
       "    </tr>\n",
       "    <tr>\n",
       "      <th>1</th>\n",
       "      <td>7.8</td>\n",
       "      <td>0.88</td>\n",
       "      <td>0.00</td>\n",
       "      <td>2.6</td>\n",
       "      <td>0.098</td>\n",
       "      <td>25.0</td>\n",
       "      <td>67.0</td>\n",
       "      <td>0.9968</td>\n",
       "      <td>3.20</td>\n",
       "      <td>0.68</td>\n",
       "      <td>9.8</td>\n",
       "      <td>5</td>\n",
       "    </tr>\n",
       "    <tr>\n",
       "      <th>2</th>\n",
       "      <td>7.8</td>\n",
       "      <td>0.76</td>\n",
       "      <td>0.04</td>\n",
       "      <td>2.3</td>\n",
       "      <td>0.092</td>\n",
       "      <td>15.0</td>\n",
       "      <td>54.0</td>\n",
       "      <td>0.9970</td>\n",
       "      <td>3.26</td>\n",
       "      <td>0.65</td>\n",
       "      <td>9.8</td>\n",
       "      <td>5</td>\n",
       "    </tr>\n",
       "    <tr>\n",
       "      <th>3</th>\n",
       "      <td>11.2</td>\n",
       "      <td>0.28</td>\n",
       "      <td>0.56</td>\n",
       "      <td>1.9</td>\n",
       "      <td>0.075</td>\n",
       "      <td>17.0</td>\n",
       "      <td>60.0</td>\n",
       "      <td>0.9980</td>\n",
       "      <td>3.16</td>\n",
       "      <td>0.58</td>\n",
       "      <td>9.8</td>\n",
       "      <td>6</td>\n",
       "    </tr>\n",
       "    <tr>\n",
       "      <th>4</th>\n",
       "      <td>7.4</td>\n",
       "      <td>0.70</td>\n",
       "      <td>0.00</td>\n",
       "      <td>1.9</td>\n",
       "      <td>0.076</td>\n",
       "      <td>11.0</td>\n",
       "      <td>34.0</td>\n",
       "      <td>0.9978</td>\n",
       "      <td>3.51</td>\n",
       "      <td>0.56</td>\n",
       "      <td>9.4</td>\n",
       "      <td>5</td>\n",
       "    </tr>\n",
       "  </tbody>\n",
       "</table>\n",
       "</div>"
      ],
      "text/plain": [
       "   fixed acidity  volatile acidity  citric acid  residual sugar  chlorides  \\\n",
       "0            7.4              0.70         0.00             1.9      0.076   \n",
       "1            7.8              0.88         0.00             2.6      0.098   \n",
       "2            7.8              0.76         0.04             2.3      0.092   \n",
       "3           11.2              0.28         0.56             1.9      0.075   \n",
       "4            7.4              0.70         0.00             1.9      0.076   \n",
       "\n",
       "   free sulfur dioxide  total sulfur dioxide  density    pH  sulphates  \\\n",
       "0                 11.0                  34.0   0.9978  3.51       0.56   \n",
       "1                 25.0                  67.0   0.9968  3.20       0.68   \n",
       "2                 15.0                  54.0   0.9970  3.26       0.65   \n",
       "3                 17.0                  60.0   0.9980  3.16       0.58   \n",
       "4                 11.0                  34.0   0.9978  3.51       0.56   \n",
       "\n",
       "   alcohol  quality  \n",
       "0      9.4        5  \n",
       "1      9.8        5  \n",
       "2      9.8        5  \n",
       "3      9.8        6  \n",
       "4      9.4        5  "
      ]
     },
     "execution_count": 2,
     "metadata": {},
     "output_type": "execute_result"
    }
   ],
   "source": [
    "red_wine = pd.read_csv('Wine quality/winequality-red.csv', sep=\";\")\n",
    "red_wine.head()"
   ]
  },
  {
   "cell_type": "code",
   "execution_count": 3,
   "id": "c9d30143",
   "metadata": {
    "scrolled": true
   },
   "outputs": [
    {
     "name": "stdout",
     "output_type": "stream",
     "text": [
      "<class 'pandas.core.frame.DataFrame'>\n",
      "RangeIndex: 1599 entries, 0 to 1598\n",
      "Data columns (total 12 columns):\n",
      " #   Column                Non-Null Count  Dtype  \n",
      "---  ------                --------------  -----  \n",
      " 0   fixed acidity         1599 non-null   float64\n",
      " 1   volatile acidity      1599 non-null   float64\n",
      " 2   citric acid           1599 non-null   float64\n",
      " 3   residual sugar        1599 non-null   float64\n",
      " 4   chlorides             1599 non-null   float64\n",
      " 5   free sulfur dioxide   1599 non-null   float64\n",
      " 6   total sulfur dioxide  1599 non-null   float64\n",
      " 7   density               1599 non-null   float64\n",
      " 8   pH                    1599 non-null   float64\n",
      " 9   sulphates             1599 non-null   float64\n",
      " 10  alcohol               1599 non-null   float64\n",
      " 11  quality               1599 non-null   int64  \n",
      "dtypes: float64(11), int64(1)\n",
      "memory usage: 150.0 KB\n"
     ]
    }
   ],
   "source": [
    "red_wine.info()"
   ]
  },
  {
   "cell_type": "code",
   "execution_count": 4,
   "id": "61bfc291",
   "metadata": {},
   "outputs": [
    {
     "data": {
      "text/html": [
       "<div>\n",
       "<style scoped>\n",
       "    .dataframe tbody tr th:only-of-type {\n",
       "        vertical-align: middle;\n",
       "    }\n",
       "\n",
       "    .dataframe tbody tr th {\n",
       "        vertical-align: top;\n",
       "    }\n",
       "\n",
       "    .dataframe thead th {\n",
       "        text-align: right;\n",
       "    }\n",
       "</style>\n",
       "<table border=\"1\" class=\"dataframe\">\n",
       "  <thead>\n",
       "    <tr style=\"text-align: right;\">\n",
       "      <th></th>\n",
       "      <th>fixed acidity</th>\n",
       "      <th>volatile acidity</th>\n",
       "      <th>citric acid</th>\n",
       "      <th>residual sugar</th>\n",
       "      <th>chlorides</th>\n",
       "      <th>free sulfur dioxide</th>\n",
       "      <th>total sulfur dioxide</th>\n",
       "      <th>density</th>\n",
       "      <th>pH</th>\n",
       "      <th>sulphates</th>\n",
       "      <th>alcohol</th>\n",
       "      <th>quality</th>\n",
       "    </tr>\n",
       "  </thead>\n",
       "  <tbody>\n",
       "    <tr>\n",
       "      <th>0</th>\n",
       "      <td>7.0</td>\n",
       "      <td>0.27</td>\n",
       "      <td>0.36</td>\n",
       "      <td>20.7</td>\n",
       "      <td>0.045</td>\n",
       "      <td>45.0</td>\n",
       "      <td>170.0</td>\n",
       "      <td>1.0010</td>\n",
       "      <td>3.00</td>\n",
       "      <td>0.45</td>\n",
       "      <td>8.8</td>\n",
       "      <td>6</td>\n",
       "    </tr>\n",
       "    <tr>\n",
       "      <th>1</th>\n",
       "      <td>6.3</td>\n",
       "      <td>0.30</td>\n",
       "      <td>0.34</td>\n",
       "      <td>1.6</td>\n",
       "      <td>0.049</td>\n",
       "      <td>14.0</td>\n",
       "      <td>132.0</td>\n",
       "      <td>0.9940</td>\n",
       "      <td>3.30</td>\n",
       "      <td>0.49</td>\n",
       "      <td>9.5</td>\n",
       "      <td>6</td>\n",
       "    </tr>\n",
       "    <tr>\n",
       "      <th>2</th>\n",
       "      <td>8.1</td>\n",
       "      <td>0.28</td>\n",
       "      <td>0.40</td>\n",
       "      <td>6.9</td>\n",
       "      <td>0.050</td>\n",
       "      <td>30.0</td>\n",
       "      <td>97.0</td>\n",
       "      <td>0.9951</td>\n",
       "      <td>3.26</td>\n",
       "      <td>0.44</td>\n",
       "      <td>10.1</td>\n",
       "      <td>6</td>\n",
       "    </tr>\n",
       "    <tr>\n",
       "      <th>3</th>\n",
       "      <td>7.2</td>\n",
       "      <td>0.23</td>\n",
       "      <td>0.32</td>\n",
       "      <td>8.5</td>\n",
       "      <td>0.058</td>\n",
       "      <td>47.0</td>\n",
       "      <td>186.0</td>\n",
       "      <td>0.9956</td>\n",
       "      <td>3.19</td>\n",
       "      <td>0.40</td>\n",
       "      <td>9.9</td>\n",
       "      <td>6</td>\n",
       "    </tr>\n",
       "    <tr>\n",
       "      <th>4</th>\n",
       "      <td>7.2</td>\n",
       "      <td>0.23</td>\n",
       "      <td>0.32</td>\n",
       "      <td>8.5</td>\n",
       "      <td>0.058</td>\n",
       "      <td>47.0</td>\n",
       "      <td>186.0</td>\n",
       "      <td>0.9956</td>\n",
       "      <td>3.19</td>\n",
       "      <td>0.40</td>\n",
       "      <td>9.9</td>\n",
       "      <td>6</td>\n",
       "    </tr>\n",
       "  </tbody>\n",
       "</table>\n",
       "</div>"
      ],
      "text/plain": [
       "   fixed acidity  volatile acidity  citric acid  residual sugar  chlorides  \\\n",
       "0            7.0              0.27         0.36            20.7      0.045   \n",
       "1            6.3              0.30         0.34             1.6      0.049   \n",
       "2            8.1              0.28         0.40             6.9      0.050   \n",
       "3            7.2              0.23         0.32             8.5      0.058   \n",
       "4            7.2              0.23         0.32             8.5      0.058   \n",
       "\n",
       "   free sulfur dioxide  total sulfur dioxide  density    pH  sulphates  \\\n",
       "0                 45.0                 170.0   1.0010  3.00       0.45   \n",
       "1                 14.0                 132.0   0.9940  3.30       0.49   \n",
       "2                 30.0                  97.0   0.9951  3.26       0.44   \n",
       "3                 47.0                 186.0   0.9956  3.19       0.40   \n",
       "4                 47.0                 186.0   0.9956  3.19       0.40   \n",
       "\n",
       "   alcohol  quality  \n",
       "0      8.8        6  \n",
       "1      9.5        6  \n",
       "2     10.1        6  \n",
       "3      9.9        6  \n",
       "4      9.9        6  "
      ]
     },
     "execution_count": 4,
     "metadata": {},
     "output_type": "execute_result"
    }
   ],
   "source": [
    "white_wine = pd.read_csv('Wine quality/winequality-white.csv', sep=\";\")\n",
    "white_wine.head()"
   ]
  },
  {
   "cell_type": "code",
   "execution_count": 5,
   "id": "3bd8839b",
   "metadata": {
    "scrolled": true
   },
   "outputs": [
    {
     "name": "stdout",
     "output_type": "stream",
     "text": [
      "<class 'pandas.core.frame.DataFrame'>\n",
      "RangeIndex: 4898 entries, 0 to 4897\n",
      "Data columns (total 12 columns):\n",
      " #   Column                Non-Null Count  Dtype  \n",
      "---  ------                --------------  -----  \n",
      " 0   fixed acidity         4898 non-null   float64\n",
      " 1   volatile acidity      4898 non-null   float64\n",
      " 2   citric acid           4898 non-null   float64\n",
      " 3   residual sugar        4898 non-null   float64\n",
      " 4   chlorides             4898 non-null   float64\n",
      " 5   free sulfur dioxide   4898 non-null   float64\n",
      " 6   total sulfur dioxide  4898 non-null   float64\n",
      " 7   density               4898 non-null   float64\n",
      " 8   pH                    4898 non-null   float64\n",
      " 9   sulphates             4898 non-null   float64\n",
      " 10  alcohol               4898 non-null   float64\n",
      " 11  quality               4898 non-null   int64  \n",
      "dtypes: float64(11), int64(1)\n",
      "memory usage: 459.3 KB\n"
     ]
    }
   ],
   "source": [
    "white_wine.info()"
   ]
  },
  {
   "cell_type": "markdown",
   "id": "4fb8ae38",
   "metadata": {},
   "source": [
    "Both datasets have consistent columns, all columns are numerical and there are no missing values. Let's concatenate them in a single dataframe."
   ]
  },
  {
   "cell_type": "code",
   "execution_count": 6,
   "id": "27bd4b5c",
   "metadata": {
    "scrolled": false
   },
   "outputs": [
    {
     "data": {
      "text/html": [
       "<div>\n",
       "<style scoped>\n",
       "    .dataframe tbody tr th:only-of-type {\n",
       "        vertical-align: middle;\n",
       "    }\n",
       "\n",
       "    .dataframe tbody tr th {\n",
       "        vertical-align: top;\n",
       "    }\n",
       "\n",
       "    .dataframe thead th {\n",
       "        text-align: right;\n",
       "    }\n",
       "</style>\n",
       "<table border=\"1\" class=\"dataframe\">\n",
       "  <thead>\n",
       "    <tr style=\"text-align: right;\">\n",
       "      <th></th>\n",
       "      <th>fixed acidity</th>\n",
       "      <th>volatile acidity</th>\n",
       "      <th>citric acid</th>\n",
       "      <th>residual sugar</th>\n",
       "      <th>chlorides</th>\n",
       "      <th>free sulfur dioxide</th>\n",
       "      <th>total sulfur dioxide</th>\n",
       "      <th>density</th>\n",
       "      <th>pH</th>\n",
       "      <th>sulphates</th>\n",
       "      <th>alcohol</th>\n",
       "      <th>quality</th>\n",
       "    </tr>\n",
       "  </thead>\n",
       "  <tbody>\n",
       "    <tr>\n",
       "      <th>0</th>\n",
       "      <td>7.4</td>\n",
       "      <td>0.70</td>\n",
       "      <td>0.00</td>\n",
       "      <td>1.9</td>\n",
       "      <td>0.076</td>\n",
       "      <td>11.0</td>\n",
       "      <td>34.0</td>\n",
       "      <td>0.9978</td>\n",
       "      <td>3.51</td>\n",
       "      <td>0.56</td>\n",
       "      <td>9.4</td>\n",
       "      <td>5</td>\n",
       "    </tr>\n",
       "    <tr>\n",
       "      <th>1</th>\n",
       "      <td>7.8</td>\n",
       "      <td>0.88</td>\n",
       "      <td>0.00</td>\n",
       "      <td>2.6</td>\n",
       "      <td>0.098</td>\n",
       "      <td>25.0</td>\n",
       "      <td>67.0</td>\n",
       "      <td>0.9968</td>\n",
       "      <td>3.20</td>\n",
       "      <td>0.68</td>\n",
       "      <td>9.8</td>\n",
       "      <td>5</td>\n",
       "    </tr>\n",
       "    <tr>\n",
       "      <th>2</th>\n",
       "      <td>7.8</td>\n",
       "      <td>0.76</td>\n",
       "      <td>0.04</td>\n",
       "      <td>2.3</td>\n",
       "      <td>0.092</td>\n",
       "      <td>15.0</td>\n",
       "      <td>54.0</td>\n",
       "      <td>0.9970</td>\n",
       "      <td>3.26</td>\n",
       "      <td>0.65</td>\n",
       "      <td>9.8</td>\n",
       "      <td>5</td>\n",
       "    </tr>\n",
       "    <tr>\n",
       "      <th>3</th>\n",
       "      <td>11.2</td>\n",
       "      <td>0.28</td>\n",
       "      <td>0.56</td>\n",
       "      <td>1.9</td>\n",
       "      <td>0.075</td>\n",
       "      <td>17.0</td>\n",
       "      <td>60.0</td>\n",
       "      <td>0.9980</td>\n",
       "      <td>3.16</td>\n",
       "      <td>0.58</td>\n",
       "      <td>9.8</td>\n",
       "      <td>6</td>\n",
       "    </tr>\n",
       "    <tr>\n",
       "      <th>4</th>\n",
       "      <td>7.4</td>\n",
       "      <td>0.70</td>\n",
       "      <td>0.00</td>\n",
       "      <td>1.9</td>\n",
       "      <td>0.076</td>\n",
       "      <td>11.0</td>\n",
       "      <td>34.0</td>\n",
       "      <td>0.9978</td>\n",
       "      <td>3.51</td>\n",
       "      <td>0.56</td>\n",
       "      <td>9.4</td>\n",
       "      <td>5</td>\n",
       "    </tr>\n",
       "  </tbody>\n",
       "</table>\n",
       "</div>"
      ],
      "text/plain": [
       "   fixed acidity  volatile acidity  citric acid  residual sugar  chlorides  \\\n",
       "0            7.4              0.70         0.00             1.9      0.076   \n",
       "1            7.8              0.88         0.00             2.6      0.098   \n",
       "2            7.8              0.76         0.04             2.3      0.092   \n",
       "3           11.2              0.28         0.56             1.9      0.075   \n",
       "4            7.4              0.70         0.00             1.9      0.076   \n",
       "\n",
       "   free sulfur dioxide  total sulfur dioxide  density    pH  sulphates  \\\n",
       "0                 11.0                  34.0   0.9978  3.51       0.56   \n",
       "1                 25.0                  67.0   0.9968  3.20       0.68   \n",
       "2                 15.0                  54.0   0.9970  3.26       0.65   \n",
       "3                 17.0                  60.0   0.9980  3.16       0.58   \n",
       "4                 11.0                  34.0   0.9978  3.51       0.56   \n",
       "\n",
       "   alcohol  quality  \n",
       "0      9.4        5  \n",
       "1      9.8        5  \n",
       "2      9.8        5  \n",
       "3      9.8        6  \n",
       "4      9.4        5  "
      ]
     },
     "execution_count": 6,
     "metadata": {},
     "output_type": "execute_result"
    }
   ],
   "source": [
    "wine_df = pd.concat([red_wine, white_wine]).reset_index(drop=True)\n",
    "wine_df.head()"
   ]
  },
  {
   "cell_type": "markdown",
   "id": "3b13704d",
   "metadata": {},
   "source": [
    "Before we proceed, let's just convert the column names to camel case"
   ]
  },
  {
   "cell_type": "code",
   "execution_count": 7,
   "id": "9ec16a0e",
   "metadata": {},
   "outputs": [
    {
     "data": {
      "text/plain": [
       "Index(['fixed_acidity', 'volatile_acidity', 'citric_acid', 'residual_sugar',\n",
       "       'chlorides', 'free_sulfur_dioxide', 'total_sulfur_dioxide', 'density',\n",
       "       'pH', 'sulphates', 'alcohol', 'quality'],\n",
       "      dtype='object')"
      ]
     },
     "execution_count": 7,
     "metadata": {},
     "output_type": "execute_result"
    }
   ],
   "source": [
    "red_wine.columns = [x.replace(' ', '_') for x in red_wine.columns]\n",
    "white_wine.columns = [x.replace(' ', '_') for x in white_wine.columns]\n",
    "wine_df.columns = [x.replace(' ', '_') for x in wine_df.columns]\n",
    "\n",
    "wine_df.columns"
   ]
  },
  {
   "cell_type": "markdown",
   "id": "8173966d",
   "metadata": {},
   "source": [
    "## Exploratory data analysis"
   ]
  },
  {
   "cell_type": "code",
   "execution_count": 8,
   "id": "cb98ef12",
   "metadata": {},
   "outputs": [
    {
     "data": {
      "text/html": [
       "<div>\n",
       "<style scoped>\n",
       "    .dataframe tbody tr th:only-of-type {\n",
       "        vertical-align: middle;\n",
       "    }\n",
       "\n",
       "    .dataframe tbody tr th {\n",
       "        vertical-align: top;\n",
       "    }\n",
       "\n",
       "    .dataframe thead th {\n",
       "        text-align: right;\n",
       "    }\n",
       "</style>\n",
       "<table border=\"1\" class=\"dataframe\">\n",
       "  <thead>\n",
       "    <tr style=\"text-align: right;\">\n",
       "      <th></th>\n",
       "      <th>fixed_acidity</th>\n",
       "      <th>volatile_acidity</th>\n",
       "      <th>citric_acid</th>\n",
       "      <th>residual_sugar</th>\n",
       "      <th>chlorides</th>\n",
       "      <th>free_sulfur_dioxide</th>\n",
       "      <th>total_sulfur_dioxide</th>\n",
       "      <th>density</th>\n",
       "      <th>pH</th>\n",
       "      <th>sulphates</th>\n",
       "      <th>alcohol</th>\n",
       "      <th>quality</th>\n",
       "    </tr>\n",
       "  </thead>\n",
       "  <tbody>\n",
       "    <tr>\n",
       "      <th>count</th>\n",
       "      <td>6497.000</td>\n",
       "      <td>6497.000</td>\n",
       "      <td>6497.000</td>\n",
       "      <td>6497.000</td>\n",
       "      <td>6497.000</td>\n",
       "      <td>6497.000</td>\n",
       "      <td>6497.000</td>\n",
       "      <td>6497.000</td>\n",
       "      <td>6497.000</td>\n",
       "      <td>6497.000</td>\n",
       "      <td>6497.000</td>\n",
       "      <td>6497.000</td>\n",
       "    </tr>\n",
       "    <tr>\n",
       "      <th>mean</th>\n",
       "      <td>7.215</td>\n",
       "      <td>0.340</td>\n",
       "      <td>0.319</td>\n",
       "      <td>5.443</td>\n",
       "      <td>0.056</td>\n",
       "      <td>30.525</td>\n",
       "      <td>115.745</td>\n",
       "      <td>0.995</td>\n",
       "      <td>3.219</td>\n",
       "      <td>0.531</td>\n",
       "      <td>10.492</td>\n",
       "      <td>5.818</td>\n",
       "    </tr>\n",
       "    <tr>\n",
       "      <th>std</th>\n",
       "      <td>1.296</td>\n",
       "      <td>0.165</td>\n",
       "      <td>0.145</td>\n",
       "      <td>4.758</td>\n",
       "      <td>0.035</td>\n",
       "      <td>17.749</td>\n",
       "      <td>56.522</td>\n",
       "      <td>0.003</td>\n",
       "      <td>0.161</td>\n",
       "      <td>0.149</td>\n",
       "      <td>1.193</td>\n",
       "      <td>0.873</td>\n",
       "    </tr>\n",
       "    <tr>\n",
       "      <th>min</th>\n",
       "      <td>3.800</td>\n",
       "      <td>0.080</td>\n",
       "      <td>0.000</td>\n",
       "      <td>0.600</td>\n",
       "      <td>0.009</td>\n",
       "      <td>1.000</td>\n",
       "      <td>6.000</td>\n",
       "      <td>0.987</td>\n",
       "      <td>2.720</td>\n",
       "      <td>0.220</td>\n",
       "      <td>8.000</td>\n",
       "      <td>3.000</td>\n",
       "    </tr>\n",
       "    <tr>\n",
       "      <th>25%</th>\n",
       "      <td>6.400</td>\n",
       "      <td>0.230</td>\n",
       "      <td>0.250</td>\n",
       "      <td>1.800</td>\n",
       "      <td>0.038</td>\n",
       "      <td>17.000</td>\n",
       "      <td>77.000</td>\n",
       "      <td>0.992</td>\n",
       "      <td>3.110</td>\n",
       "      <td>0.430</td>\n",
       "      <td>9.500</td>\n",
       "      <td>5.000</td>\n",
       "    </tr>\n",
       "    <tr>\n",
       "      <th>50%</th>\n",
       "      <td>7.000</td>\n",
       "      <td>0.290</td>\n",
       "      <td>0.310</td>\n",
       "      <td>3.000</td>\n",
       "      <td>0.047</td>\n",
       "      <td>29.000</td>\n",
       "      <td>118.000</td>\n",
       "      <td>0.995</td>\n",
       "      <td>3.210</td>\n",
       "      <td>0.510</td>\n",
       "      <td>10.300</td>\n",
       "      <td>6.000</td>\n",
       "    </tr>\n",
       "    <tr>\n",
       "      <th>75%</th>\n",
       "      <td>7.700</td>\n",
       "      <td>0.400</td>\n",
       "      <td>0.390</td>\n",
       "      <td>8.100</td>\n",
       "      <td>0.065</td>\n",
       "      <td>41.000</td>\n",
       "      <td>156.000</td>\n",
       "      <td>0.997</td>\n",
       "      <td>3.320</td>\n",
       "      <td>0.600</td>\n",
       "      <td>11.300</td>\n",
       "      <td>6.000</td>\n",
       "    </tr>\n",
       "    <tr>\n",
       "      <th>max</th>\n",
       "      <td>15.900</td>\n",
       "      <td>1.580</td>\n",
       "      <td>1.660</td>\n",
       "      <td>65.800</td>\n",
       "      <td>0.611</td>\n",
       "      <td>289.000</td>\n",
       "      <td>440.000</td>\n",
       "      <td>1.039</td>\n",
       "      <td>4.010</td>\n",
       "      <td>2.000</td>\n",
       "      <td>14.900</td>\n",
       "      <td>9.000</td>\n",
       "    </tr>\n",
       "  </tbody>\n",
       "</table>\n",
       "</div>"
      ],
      "text/plain": [
       "       fixed_acidity  volatile_acidity  citric_acid  residual_sugar  \\\n",
       "count       6497.000          6497.000     6497.000        6497.000   \n",
       "mean           7.215             0.340        0.319           5.443   \n",
       "std            1.296             0.165        0.145           4.758   \n",
       "min            3.800             0.080        0.000           0.600   \n",
       "25%            6.400             0.230        0.250           1.800   \n",
       "50%            7.000             0.290        0.310           3.000   \n",
       "75%            7.700             0.400        0.390           8.100   \n",
       "max           15.900             1.580        1.660          65.800   \n",
       "\n",
       "       chlorides  free_sulfur_dioxide  total_sulfur_dioxide   density  \\\n",
       "count   6497.000             6497.000              6497.000  6497.000   \n",
       "mean       0.056               30.525               115.745     0.995   \n",
       "std        0.035               17.749                56.522     0.003   \n",
       "min        0.009                1.000                 6.000     0.987   \n",
       "25%        0.038               17.000                77.000     0.992   \n",
       "50%        0.047               29.000               118.000     0.995   \n",
       "75%        0.065               41.000               156.000     0.997   \n",
       "max        0.611              289.000               440.000     1.039   \n",
       "\n",
       "             pH  sulphates   alcohol   quality  \n",
       "count  6497.000   6497.000  6497.000  6497.000  \n",
       "mean      3.219      0.531    10.492     5.818  \n",
       "std       0.161      0.149     1.193     0.873  \n",
       "min       2.720      0.220     8.000     3.000  \n",
       "25%       3.110      0.430     9.500     5.000  \n",
       "50%       3.210      0.510    10.300     6.000  \n",
       "75%       3.320      0.600    11.300     6.000  \n",
       "max       4.010      2.000    14.900     9.000  "
      ]
     },
     "execution_count": 8,
     "metadata": {},
     "output_type": "execute_result"
    }
   ],
   "source": [
    "wine_df.describe().round(3)"
   ]
  },
  {
   "cell_type": "markdown",
   "id": "ea427bf5",
   "metadata": {},
   "source": [
    "**Some insights about the data:**<br>\n",
    "\n",
    "&ensp;- `residual sugar` has a wide range of values meaning that there are dry and sweet wines.    \n",
    "&ensp;- For the `quality`, there are no values with score lower than 3 and no wines received the maximum score (10). We could further categorize them.    \n",
    "&ensp;- Based on common knowledge about wines, the other values seem plausible."
   ]
  },
  {
   "cell_type": "markdown",
   "id": "0d4e1738",
   "metadata": {},
   "source": [
    "### Box-plots"
   ]
  },
  {
   "cell_type": "code",
   "execution_count": 9,
   "id": "22ba62dd",
   "metadata": {
    "scrolled": false
   },
   "outputs": [],
   "source": [
    "color = sns.color_palette('tab10', n_colors=11)\n",
    "\n",
    "def box_plots(columns_list):\n",
    "    \n",
    "    i = 0\n",
    "    \n",
    "    while i < len(columns_list) - 1: # to exclude the 'quality' column\n",
    "        \n",
    "        if i == 0:\n",
    "            fig, ax = plt.subplots(1, 3, figsize=(18,6))\n",
    "            sns.boxplot(x='quality', y=columns_list[i], data=red_wine, color=color[i], ax=ax[0]).set(title='Red', xlabel=None, ylabel=columns_list[i])\n",
    "            sns.boxplot(x='quality', y=columns_list[i], data=white_wine, color=color[i], ax=ax[1]).set(title='White', xlabel=None, ylabel=None)\n",
    "            sns.boxplot(x='quality', y=columns_list[i], data=wine_df, color=color[i], ax=ax[2]).set(title='Combined', xlabel=None, ylabel=None)\n",
    "        \n",
    "        else:\n",
    "            fig, ax = plt.subplots(1, 3, figsize=(18,6))\n",
    "            sns.boxplot(x='quality', y=columns_list[i], data=red_wine, color=color[i], ax=ax[0]).set(xlabel=None, ylabel=columns_list[i])\n",
    "            sns.boxplot(x='quality', y=columns_list[i], data=white_wine, color=color[i], ax=ax[1]).set(xlabel=None, ylabel=None)\n",
    "            sns.boxplot(x='quality', y=columns_list[i], data=wine_df, color=color[i], ax=ax[2]).set(xlabel=None, ylabel=None)\n",
    "        \n",
    "        plt.show()\n",
    "        \n",
    "        i += 1"
   ]
  },
  {
   "cell_type": "code",
   "execution_count": 10,
   "id": "39388cd5",
   "metadata": {
    "scrolled": false
   },
   "outputs": [
    {
     "data": {
      "image/png": "[encoded data removed]",
      "text/plain": [
       "<Figure size 1296x432 with 3 Axes>"
      ]
     },
     "metadata": {
      "needs_background": "light"
     },
     "output_type": "display_data"
    },
    {
     "data": {
      "image/png": "[encoded data removed]",
      "text/plain": [
       "<Figure size 1296x432 with 3 Axes>"
      ]
     },
     "metadata": {
      "needs_background": "light"
     },
     "output_type": "display_data"
    },
    {
     "data": {
      "image/png": "[encoded data removed]",
      "text/plain": [
       "<Figure size 1296x432 with 3 Axes>"
      ]
     },
     "metadata": {
      "needs_background": "light"
     },
     "output_type": "display_data"
    },
    {
     "data": {
      "image/png": "[encoded data removed]",
      "text/plain": [
       "<Figure size 1296x432 with 3 Axes>"
      ]
     },
     "metadata": {
      "needs_background": "light"
     },
     "output_type": "display_data"
    },
    {
     "data": {
      "image/png": "[encoded data removed]",
      "text/plain": [
       "<Figure size 1296x432 with 3 Axes>"
      ]
     },
     "metadata": {
      "needs_background": "light"
     },
     "output_type": "display_data"
    },
    {
     "data": {
      "image/png": "[encoded data removed]",
      "text/plain": [
       "<Figure size 1296x432 with 3 Axes>"
      ]
     },
     "metadata": {
      "needs_background": "light"
     },
     "output_type": "display_data"
    },
    {
     "data": {
      "image/png": "[encoded data removed]",
      "text/plain": [
       "<Figure size 1296x432 with 3 Axes>"
      ]
     },
     "metadata": {
      "needs_background": "light"
     },
     "output_type": "display_data"
    },
    {
     "data": {
      "image/png": "[encoded data removed]",
      "text/plain": [
       "<Figure size 1296x432 with 3 Axes>"
      ]
     },
     "metadata": {
      "needs_background": "light"
     },
     "output_type": "display_data"
    },
    {
     "data": {
      "image/png": "[encoded data removed]",
      "text/plain": [
       "<Figure size 1296x432 with 3 Axes>"
      ]
     },
     "metadata": {
      "needs_background": "light"
     },
     "output_type": "display_data"
    },
    {
     "data": {
      "image/png": "[encoded data removed]",
      "text/plain": [
       "<Figure size 1296x432 with 3 Axes>"
      ]
     },
     "metadata": {
      "needs_background": "light"
     },
     "output_type": "display_data"
    },
    {
     "data": {
      "image/png": "[encoded data removed]",
      "text/plain": [
       "<Figure size 1296x432 with 3 Axes>"
      ]
     },
     "metadata": {
      "needs_background": "light"
     },
     "output_type": "display_data"
    }
   ],
   "source": [
    "box_plots(wine_df.columns)"
   ]
  },
  {
   "cell_type": "markdown",
   "id": "2f434c0f",
   "metadata": {},
   "source": [
    "There are outliers for every category in both datasets. Moreover, the number of outliers seem to increase when the datasets are joined."
   ]
  },
  {
   "cell_type": "code",
   "execution_count": 11,
   "id": "a66b2fbf",
   "metadata": {},
   "outputs": [],
   "source": [
    "def outliers_count(df, column):\n",
    "    \n",
    "    Q1 = df[column].quantile(0.25)\n",
    "    Q3 = df[column].quantile(0.75)\n",
    "    IQR = Q3 - Q1  # Interquartile range\n",
    "    \n",
    "    # An array of booleans where the True values represent the outliers\n",
    "    outliers = (df[column] < (Q1 - 1.5 * IQR)) | (df[column] > (Q3 + 1.5 * IQR))\n",
    "    \n",
    "    # As True values are interpreted as 1, the sum() returns the number of outliers\n",
    "    return outliers.sum()"
   ]
  },
  {
   "cell_type": "code",
   "execution_count": 12,
   "id": "47f3bac6",
   "metadata": {},
   "outputs": [
    {
     "data": {
      "text/html": [
       "<div>\n",
       "<style scoped>\n",
       "    .dataframe tbody tr th:only-of-type {\n",
       "        vertical-align: middle;\n",
       "    }\n",
       "\n",
       "    .dataframe tbody tr th {\n",
       "        vertical-align: top;\n",
       "    }\n",
       "\n",
       "    .dataframe thead th {\n",
       "        text-align: right;\n",
       "    }\n",
       "</style>\n",
       "<table border=\"1\" class=\"dataframe\">\n",
       "  <thead>\n",
       "    <tr style=\"text-align: right;\">\n",
       "      <th></th>\n",
       "      <th>red_outliers</th>\n",
       "      <th>white_outliers</th>\n",
       "      <th>combined_outliers</th>\n",
       "    </tr>\n",
       "  </thead>\n",
       "  <tbody>\n",
       "    <tr>\n",
       "      <th>fixed_acidity</th>\n",
       "      <td>49</td>\n",
       "      <td>119</td>\n",
       "      <td>357</td>\n",
       "    </tr>\n",
       "    <tr>\n",
       "      <th>volatile_acidity</th>\n",
       "      <td>19</td>\n",
       "      <td>186</td>\n",
       "      <td>377</td>\n",
       "    </tr>\n",
       "    <tr>\n",
       "      <th>citric_acid</th>\n",
       "      <td>1</td>\n",
       "      <td>270</td>\n",
       "      <td>509</td>\n",
       "    </tr>\n",
       "    <tr>\n",
       "      <th>residual_sugar</th>\n",
       "      <td>155</td>\n",
       "      <td>7</td>\n",
       "      <td>118</td>\n",
       "    </tr>\n",
       "    <tr>\n",
       "      <th>chlorides</th>\n",
       "      <td>112</td>\n",
       "      <td>208</td>\n",
       "      <td>286</td>\n",
       "    </tr>\n",
       "    <tr>\n",
       "      <th>free_sulfur_dioxide</th>\n",
       "      <td>30</td>\n",
       "      <td>50</td>\n",
       "      <td>62</td>\n",
       "    </tr>\n",
       "    <tr>\n",
       "      <th>total_sulfur_dioxide</th>\n",
       "      <td>55</td>\n",
       "      <td>19</td>\n",
       "      <td>10</td>\n",
       "    </tr>\n",
       "    <tr>\n",
       "      <th>density</th>\n",
       "      <td>45</td>\n",
       "      <td>5</td>\n",
       "      <td>3</td>\n",
       "    </tr>\n",
       "    <tr>\n",
       "      <th>pH</th>\n",
       "      <td>35</td>\n",
       "      <td>75</td>\n",
       "      <td>73</td>\n",
       "    </tr>\n",
       "    <tr>\n",
       "      <th>sulphates</th>\n",
       "      <td>59</td>\n",
       "      <td>124</td>\n",
       "      <td>191</td>\n",
       "    </tr>\n",
       "    <tr>\n",
       "      <th>alcohol</th>\n",
       "      <td>13</td>\n",
       "      <td>0</td>\n",
       "      <td>3</td>\n",
       "    </tr>\n",
       "    <tr>\n",
       "      <th>quality</th>\n",
       "      <td>28</td>\n",
       "      <td>200</td>\n",
       "      <td>228</td>\n",
       "    </tr>\n",
       "  </tbody>\n",
       "</table>\n",
       "</div>"
      ],
      "text/plain": [
       "                      red_outliers  white_outliers  combined_outliers\n",
       "fixed_acidity                   49             119                357\n",
       "volatile_acidity                19             186                377\n",
       "citric_acid                      1             270                509\n",
       "residual_sugar                 155               7                118\n",
       "chlorides                      112             208                286\n",
       "free_sulfur_dioxide             30              50                 62\n",
       "total_sulfur_dioxide            55              19                 10\n",
       "density                         45               5                  3\n",
       "pH                              35              75                 73\n",
       "sulphates                       59             124                191\n",
       "alcohol                         13               0                  3\n",
       "quality                         28             200                228"
      ]
     },
     "execution_count": 12,
     "metadata": {},
     "output_type": "execute_result"
    }
   ],
   "source": [
    "outliers = pd.DataFrame({\n",
    "    'red_outliers': outliers_count(red_wine, red_wine.columns),\n",
    "    'white_outliers': outliers_count(white_wine, white_wine.columns),\n",
    "    'combined_outliers': outliers_count(wine_df, wine_df.columns)\n",
    "})\n",
    "outliers"
   ]
  },
  {
   "cell_type": "markdown",
   "id": "7ba872f6",
   "metadata": {},
   "source": [
    "In most cases, the number of outliers in the joined dataset is higher than the sum of the outliers in each dataset. We could potentially loose 2200+ rows if we decide to drop them. As most of the outliers are in the higher end, we could take another approach and have only values over the 99% percentile dropped."
   ]
  },
  {
   "cell_type": "code",
   "execution_count": 13,
   "id": "0b5ae8d8",
   "metadata": {},
   "outputs": [],
   "source": [
    "def outliers_count_1pct(df, column):\n",
    "    \n",
    "    Q99 = df[column].quantile(0.99)\n",
    "        \n",
    "    # An array of booleans where the True values represent the outliers\n",
    "    outliers = df[column] > Q99\n",
    "    \n",
    "    # As True values are interpreted as 1, the sum() returns the number of outliers\n",
    "    return outliers.sum()"
   ]
  },
  {
   "cell_type": "code",
   "execution_count": 14,
   "id": "cb0ba14c",
   "metadata": {},
   "outputs": [
    {
     "data": {
      "text/html": [
       "<div>\n",
       "<style scoped>\n",
       "    .dataframe tbody tr th:only-of-type {\n",
       "        vertical-align: middle;\n",
       "    }\n",
       "\n",
       "    .dataframe tbody tr th {\n",
       "        vertical-align: top;\n",
       "    }\n",
       "\n",
       "    .dataframe thead th {\n",
       "        text-align: right;\n",
       "    }\n",
       "</style>\n",
       "<table border=\"1\" class=\"dataframe\">\n",
       "  <thead>\n",
       "    <tr style=\"text-align: right;\">\n",
       "      <th></th>\n",
       "      <th>red_outliers</th>\n",
       "      <th>white_outliers</th>\n",
       "      <th>combined_outliers</th>\n",
       "    </tr>\n",
       "  </thead>\n",
       "  <tbody>\n",
       "    <tr>\n",
       "      <th>fixed_acidity</th>\n",
       "      <td>14</td>\n",
       "      <td>45</td>\n",
       "      <td>60</td>\n",
       "    </tr>\n",
       "    <tr>\n",
       "      <th>volatile_acidity</th>\n",
       "      <td>15</td>\n",
       "      <td>48</td>\n",
       "      <td>62</td>\n",
       "    </tr>\n",
       "    <tr>\n",
       "      <th>citric_acid</th>\n",
       "      <td>16</td>\n",
       "      <td>22</td>\n",
       "      <td>29</td>\n",
       "    </tr>\n",
       "    <tr>\n",
       "      <th>residual_sugar</th>\n",
       "      <td>16</td>\n",
       "      <td>47</td>\n",
       "      <td>63</td>\n",
       "    </tr>\n",
       "    <tr>\n",
       "      <th>chlorides</th>\n",
       "      <td>16</td>\n",
       "      <td>48</td>\n",
       "      <td>65</td>\n",
       "    </tr>\n",
       "    <tr>\n",
       "      <th>free_sulfur_dioxide</th>\n",
       "      <td>16</td>\n",
       "      <td>43</td>\n",
       "      <td>62</td>\n",
       "    </tr>\n",
       "    <tr>\n",
       "      <th>total_sulfur_dioxide</th>\n",
       "      <td>15</td>\n",
       "      <td>49</td>\n",
       "      <td>61</td>\n",
       "    </tr>\n",
       "    <tr>\n",
       "      <th>density</th>\n",
       "      <td>16</td>\n",
       "      <td>49</td>\n",
       "      <td>58</td>\n",
       "    </tr>\n",
       "    <tr>\n",
       "      <th>pH</th>\n",
       "      <td>16</td>\n",
       "      <td>43</td>\n",
       "      <td>64</td>\n",
       "    </tr>\n",
       "    <tr>\n",
       "      <th>sulphates</th>\n",
       "      <td>16</td>\n",
       "      <td>48</td>\n",
       "      <td>63</td>\n",
       "    </tr>\n",
       "    <tr>\n",
       "      <th>alcohol</th>\n",
       "      <td>14</td>\n",
       "      <td>41</td>\n",
       "      <td>55</td>\n",
       "    </tr>\n",
       "    <tr>\n",
       "      <th>quality</th>\n",
       "      <td>0</td>\n",
       "      <td>5</td>\n",
       "      <td>5</td>\n",
       "    </tr>\n",
       "  </tbody>\n",
       "</table>\n",
       "</div>"
      ],
      "text/plain": [
       "                      red_outliers  white_outliers  combined_outliers\n",
       "fixed_acidity                   14              45                 60\n",
       "volatile_acidity                15              48                 62\n",
       "citric_acid                     16              22                 29\n",
       "residual_sugar                  16              47                 63\n",
       "chlorides                       16              48                 65\n",
       "free_sulfur_dioxide             16              43                 62\n",
       "total_sulfur_dioxide            15              49                 61\n",
       "density                         16              49                 58\n",
       "pH                              16              43                 64\n",
       "sulphates                       16              48                 63\n",
       "alcohol                         14              41                 55\n",
       "quality                          0               5                  5"
      ]
     },
     "execution_count": 14,
     "metadata": {},
     "output_type": "execute_result"
    }
   ],
   "source": [
    "outliers = pd.DataFrame({\n",
    "    'red_outliers': outliers_count_1pct(red_wine, red_wine.columns),\n",
    "    'white_outliers': outliers_count_1pct(white_wine, white_wine.columns),\n",
    "    'combined_outliers': outliers_count_1pct(wine_df, wine_df.columns)\n",
    "})\n",
    "outliers"
   ]
  },
  {
   "cell_type": "markdown",
   "id": "e4af596c",
   "metadata": {},
   "source": [
    "For now, let's leave the data as it is."
   ]
  },
  {
   "cell_type": "markdown",
   "id": "a2a2c793",
   "metadata": {},
   "source": [
    "### Distribution plots"
   ]
  },
  {
   "cell_type": "code",
   "execution_count": 15,
   "id": "2ebd8f79",
   "metadata": {},
   "outputs": [
    {
     "data": {
      "image/png": "[encoded data removed]",
      "text/plain": [
       "<Figure size 1080x1152 with 11 Axes>"
      ]
     },
     "metadata": {
      "needs_background": "light"
     },
     "output_type": "display_data"
    }
   ],
   "source": [
    "color = sns.color_palette('tab10', n_colors=11)\n",
    "\n",
    "fig, ax = plt.subplots(4,3, figsize=(15,16))\n",
    "#fig.tight_layout(h_pad=5, w_pad=0.8)\n",
    "fig.delaxes(ax[3,2])\n",
    "\n",
    "color = sns.color_palette('tab10', n_colors=11)\n",
    "\n",
    "sns.histplot(x='fixed_acidity', data=wine_df, color=color[0], ax=ax[0,0], kde=True, element='step')\n",
    "sns.histplot(x='volatile_acidity', data=wine_df, color=color[1], ax=ax[0,1], kde=True, element='step')\n",
    "sns.histplot(x='citric_acid', data=wine_df, color=color[2], ax=ax[0,2], kde=True, element='step')\n",
    "sns.histplot(x='residual_sugar', data=wine_df, color=color[3], ax=ax[1,0], kde=True, element='step')\n",
    "sns.histplot(x='chlorides', data=wine_df, color=color[4], ax=ax[1,1], kde=True, element='step')\n",
    "sns.histplot(x='free_sulfur_dioxide', data=wine_df, color=color[5], ax=ax[1,2], kde=True, element='step')\n",
    "sns.histplot(x='total_sulfur_dioxide', data=wine_df, color=color[6], ax=ax[2,0], kde=True, element='step')\n",
    "sns.histplot(x='density', data=wine_df, color=color[7], ax=ax[2,1], kde=True, element='step')\n",
    "sns.histplot(x='pH', data=wine_df, color=color[8], ax=ax[2,2], kde=True, element='step')\n",
    "sns.histplot(x='sulphates', data=wine_df, color=color[9], ax=ax[3,0], kde=True, element='step')\n",
    "sns.histplot(x='alcohol', data=wine_df, color=color[10], ax=ax[3,1], kde=True, element='step')\n",
    "\n",
    "plt.show()"
   ]
  },
  {
   "cell_type": "code",
   "execution_count": 16,
   "id": "6e18dd97",
   "metadata": {},
   "outputs": [],
   "source": [
    "# corr = red_wine.corr() # returns a dataframe with the correlation values\n",
    "# matrix = np.triu(corr) # sets all the values of the lower triangle (under the main diagonal) to 0 (= False)\n",
    "# \n",
    "# fig, ax = plt.subplots(1,1, figsize=(12,12))\n",
    "# \n",
    "# sns.heatmap(\n",
    "#     corr,  # the data for the heatmap\n",
    "#     annot=True,  # show the actual values of correlation\n",
    "#     cmap='seismic',  # provide the 'seismic' colormap\n",
    "#     center=0,  # specify the value at which to center the colormap\n",
    "#     fmt='.2g', # specify the format for the annotation \n",
    "#     mask=matrix # hides the values where mask = True (= upper triangle)\n",
    "#            )\n",
    "# plt.show()"
   ]
  },
  {
   "cell_type": "code",
   "execution_count": 17,
   "id": "1718cbe4",
   "metadata": {},
   "outputs": [],
   "source": [
    "# corr = white_wine.corr() # returns a dataframe with the correlation values\n",
    "# matrix = np.triu(corr) # sets all the values of the lower triangle (under the main diagonal) to 0 (= False)\n",
    "# \n",
    "# fig, ax = plt.subplots(1,1, figsize=(12,12))\n",
    "# \n",
    "# sns.heatmap(\n",
    "#     corr,  # the data for the heatmap\n",
    "#     annot=True,  # show the actual values of correlation\n",
    "#     cmap='seismic',  # provide the 'seismic' colormap\n",
    "#     center=0,  # specify the value at which to center the colormap\n",
    "#     fmt='.2g', # specify the format for the annotation \n",
    "#     mask=matrix # hides the values where mask = True (= upper triangle)\n",
    "#            )\n",
    "# plt.show()"
   ]
  },
  {
   "cell_type": "code",
   "execution_count": 18,
   "id": "b78e0d97",
   "metadata": {},
   "outputs": [
    {
     "data": {
      "image/png": "[encoded data removed]",
      "text/plain": [
       "<Figure size 864x864 with 2 Axes>"
      ]
     },
     "metadata": {
      "needs_background": "light"
     },
     "output_type": "display_data"
    }
   ],
   "source": [
    "corr = wine_df.corr() # returns a dataframe with the correlation values\n",
    "matrix = np.triu(corr) # sets all the values of the lower triangle (under the main diagonal) to 0 (= False)\n",
    "\n",
    "fig, ax = plt.subplots(1,1, figsize=(12,12))\n",
    "\n",
    "sns.heatmap(\n",
    "    corr,  # the data for the heatmap\n",
    "    annot=True,  # show the actual values of correlation\n",
    "    cmap='coolwarm',  # provide the 'seismic' colormap\n",
    "    center=0,  # specify the value at which to center the colormap\n",
    "    fmt='.2g', # specify the format for the annotation \n",
    "    mask=matrix # hides the values where mask = True (= upper triangle)\n",
    "           )\n",
    "plt.show()"
   ]
  },
  {
   "cell_type": "markdown",
   "id": "30c24fbc",
   "metadata": {},
   "source": [
    "Based on what we have so far, we could try answering some questions:\n",
    "\n",
    "1. Is there a difference in the average quality of red and white wine?\n",
    "2. What are the variables that influence the quality of the wine? Are they the same for both types?\n",
    "3. What's the best regression model for the data? Is it best to apply the model to each data separately?"
   ]
  },
  {
   "cell_type": "markdown",
   "id": "0e974f10",
   "metadata": {},
   "source": [
    "### Red or white: which is better?"
   ]
  },
  {
   "cell_type": "markdown",
   "id": "ea683372",
   "metadata": {},
   "source": [
    "The mean, median and standard deviations for the `quality` are:\n",
    "\n",
    "```python\n",
    "# White wine\n",
    "white_wine['quality'].mean(), white_wine['quality'].std(), white_wine['quality'].median()\n",
    ">> (5.87790935075541, 0.8856385749678454, 6.0)\n",
    "\n",
    "# Red wine\n",
    "red_wine['quality'].mean(), red_wine['quality'].std(), red_wine['quality'].median()\n",
    ">> (5.6360225140712945, 0.8075694397347023, 6.0)\n",
    "```\n",
    "\n",
    "To answer our question, let's set up a hypothesis test as follows:<br>\n",
    "\n",
    "Null hypothesis - H<sub>0</sub>: $\\mu$<sub>red</sub> = $\\mu$<sub>white</sub><br>\n",
    "Alternative hypothesis - H<sub>A</sub>: $\\mu$<sub>red</sub> $\\neq$ $\\mu$<sub>white</sub><br>\n",
    "Significance level: $\\alpha$ = 0.05<br>\n",
    "\n",
    "As we don't know the population's variance, we should apply a t-test on the means."
   ]
  },
  {
   "cell_type": "code",
   "execution_count": 19,
   "id": "6fb43e62",
   "metadata": {},
   "outputs": [
    {
     "data": {
      "text/plain": [
       "(5.87790935075541, 0.8856385749678454, 6.0)"
      ]
     },
     "execution_count": 19,
     "metadata": {},
     "output_type": "execute_result"
    }
   ],
   "source": [
    "white_wine['quality'].mean(), white_wine['quality'].std(), white_wine['quality'].median()"
   ]
  },
  {
   "cell_type": "code",
   "execution_count": 20,
   "id": "993acfd4",
   "metadata": {},
   "outputs": [
    {
     "data": {
      "text/plain": [
       "Ttest_indResult(statistic=9.685649554187696, pvalue=4.888069044201508e-22)"
      ]
     },
     "execution_count": 20,
     "metadata": {},
     "output_type": "execute_result"
    }
   ],
   "source": [
    "ttest_ind(white_wine['quality'], red_wine['quality'])"
   ]
  },
  {
   "cell_type": "markdown",
   "id": "1209d71a",
   "metadata": {},
   "source": [
    "With p-value = 4.88$\\cdot$10<sup>-22</sup> < $\\alpha$ = 0.05, there's strong evidence against the null hypothesis. Therefore, the means are different and the white wines performed better than the red wines on average."
   ]
  },
  {
   "cell_type": "markdown",
   "id": "65dd2cdf",
   "metadata": {},
   "source": [
    "## Modelling"
   ]
  },
  {
   "cell_type": "markdown",
   "id": "592bbedc",
   "metadata": {},
   "source": [
    "## Logistic regression"
   ]
  },
  {
   "cell_type": "markdown",
   "id": "ab266fc0",
   "metadata": {},
   "source": [
    "**Categorizing the quality score**<br>\n",
    "\n",
    "We can set an arbitrary threshold to classify the wines into 'low quality' e 'high quality'.<br>\n",
    "'Low quality': score lower than 6 - encoded as 0<br>\n",
    "'High quality': score equal or higher than 6 - encoded as 1"
   ]
  },
  {
   "cell_type": "markdown",
   "id": "ae94e21f",
   "metadata": {},
   "source": [
    "RED WINE"
   ]
  },
  {
   "cell_type": "code",
   "execution_count": 21,
   "id": "29b4ec70",
   "metadata": {
    "scrolled": true
   },
   "outputs": [
    {
     "data": {
      "image/png": "[encoded data removed]",
      "text/plain": [
       "<Figure size 432x288 with 1 Axes>"
      ]
     },
     "metadata": {
      "needs_background": "light"
     },
     "output_type": "display_data"
    }
   ],
   "source": [
    "# Applying the categorization criteria\n",
    "red_wine['quality_categorized'] = red_wine['quality'].apply(lambda x: 0 if x < 7 else 1)\n",
    "\n",
    "# Plotting the result\n",
    "red_wine['quality_categorized'].value_counts(normalize=True).sort_values().plot.bar(rot=0, color='#722F37')\n",
    "\n",
    "plt.title('Proportion of \\'low\\' and \\'high\\' quality wine in red wines')\n",
    "plt.xticks([0, 1], ['High', 'Low'])\n",
    "plt.show()"
   ]
  },
  {
   "cell_type": "markdown",
   "id": "fc80ebf8",
   "metadata": {},
   "source": [
    "X/y split"
   ]
  },
  {
   "cell_type": "code",
   "execution_count": 22,
   "id": "977a982b",
   "metadata": {},
   "outputs": [],
   "source": [
    "X = red_wine.drop(['quality', 'quality_categorized'], axis=1)\n",
    "y = red_wine['quality_categorized']"
   ]
  },
  {
   "cell_type": "markdown",
   "id": "533d33b3",
   "metadata": {},
   "source": [
    "Train/test split"
   ]
  },
  {
   "cell_type": "code",
   "execution_count": 23,
   "id": "ee17b5d5",
   "metadata": {},
   "outputs": [],
   "source": [
    "X_train, X_test, y_train, y_test = train_test_split(X, y, test_size=.20, random_state=0)"
   ]
  },
  {
   "cell_type": "markdown",
   "id": "639f3cc6",
   "metadata": {},
   "source": [
    "Standardize data"
   ]
  },
  {
   "cell_type": "code",
   "execution_count": 24,
   "id": "7a079ba7",
   "metadata": {},
   "outputs": [],
   "source": [
    "X_train_scaled = StandardScaler().fit_transform(X_train)\n",
    "X_test_scaled = StandardScaler().fit_transform(X_test)"
   ]
  },
  {
   "cell_type": "markdown",
   "id": "815b5b4e",
   "metadata": {},
   "source": [
    "Apply regression"
   ]
  },
  {
   "cell_type": "code",
   "execution_count": 25,
   "id": "d282debd",
   "metadata": {},
   "outputs": [
    {
     "name": "stdout",
     "output_type": "stream",
     "text": [
      "Optimization terminated successfully.\n",
      "         Current function value: 0.279444\n",
      "         Iterations 8\n",
      "                            Logit Regression Results                           \n",
      "===============================================================================\n",
      "Dep. Variable:     quality_categorized   No. Observations:                 1279\n",
      "Model:                           Logit   Df Residuals:                     1267\n",
      "Method:                            MLE   Df Model:                           11\n",
      "Date:                 Thu, 18 Nov 2021   Pseudo R-squ.:                  0.3284\n",
      "Time:                         17:01:32   Log-Likelihood:                -357.41\n",
      "converged:                        True   LL-Null:                       -532.16\n",
      "Covariance Type:             nonrobust   LLR p-value:                 3.092e-68\n",
      "==============================================================================\n",
      "                 coef    std err          z      P>|z|      [0.025      0.975]\n",
      "------------------------------------------------------------------------------\n",
      "const         -2.7332      0.151    -18.142      0.000      -3.028      -2.438\n",
      "x1             0.6945      0.239      2.907      0.004       0.226       1.163\n",
      "x2            -0.5743      0.157     -3.657      0.000      -0.882      -0.267\n",
      "x3             0.1031      0.178      0.578      0.563      -0.247       0.453\n",
      "x4             0.4092      0.115      3.544      0.000       0.183       0.635\n",
      "x5            -0.3724      0.169     -2.203      0.028      -0.704      -0.041\n",
      "x6             0.0867      0.135      0.642      0.521      -0.178       0.351\n",
      "x7            -0.4197      0.161     -2.611      0.009      -0.735      -0.105\n",
      "x8            -0.6400      0.228     -2.807      0.005      -1.087      -0.193\n",
      "x9             0.2531      0.167      1.512      0.131      -0.075       0.581\n",
      "x10            0.6517      0.101      6.456      0.000       0.454       0.849\n",
      "x11            0.7431      0.152      4.892      0.000       0.445       1.041\n",
      "==============================================================================\n"
     ]
    }
   ],
   "source": [
    "X_train_const = sm.add_constant(X_train_scaled)\n",
    "log_reg = sm.Logit(y_train, X_train_const)\n",
    "results = log_reg.fit()\n",
    "\n",
    "print(results.summary())"
   ]
  },
  {
   "cell_type": "markdown",
   "id": "3a0e4495",
   "metadata": {},
   "source": [
    "Most important variables"
   ]
  },
  {
   "cell_type": "code",
   "execution_count": 26,
   "id": "3a87cc5b",
   "metadata": {},
   "outputs": [
    {
     "data": {
      "text/plain": [
       "Index(['fixed_acidity', 'volatile_acidity', 'residual_sugar', 'chlorides',\n",
       "       'total_sulfur_dioxide', 'density', 'sulphates', 'alcohol'],\n",
       "      dtype='object')"
      ]
     },
     "execution_count": 26,
     "metadata": {},
     "output_type": "execute_result"
    }
   ],
   "source": [
    "X.columns[results.pvalues[1:] < 0.05]"
   ]
  },
  {
   "cell_type": "markdown",
   "id": "84f41461",
   "metadata": {},
   "source": [
    "Check model"
   ]
  },
  {
   "cell_type": "code",
   "execution_count": 27,
   "id": "2e11f6be",
   "metadata": {},
   "outputs": [
    {
     "name": "stdout",
     "output_type": "stream",
     "text": [
      "Classification report\n",
      "\n",
      "              precision    recall  f1-score   support\n",
      "\n",
      "           0     0.9345    0.9377    0.9361       289\n",
      "           1     0.4000    0.3871    0.3934        31\n",
      "\n",
      "    accuracy                         0.8844       320\n",
      "   macro avg     0.6672    0.6624    0.6648       320\n",
      "weighted avg     0.8827    0.8844    0.8835       320\n",
      "\n",
      "Confusion matrix\n"
     ]
    },
    {
     "data": {
      "text/html": [
       "<div>\n",
       "<style scoped>\n",
       "    .dataframe tbody tr th:only-of-type {\n",
       "        vertical-align: middle;\n",
       "    }\n",
       "\n",
       "    .dataframe tbody tr th {\n",
       "        vertical-align: top;\n",
       "    }\n",
       "\n",
       "    .dataframe thead th {\n",
       "        text-align: right;\n",
       "    }\n",
       "</style>\n",
       "<table border=\"1\" class=\"dataframe\">\n",
       "  <thead>\n",
       "    <tr style=\"text-align: right;\">\n",
       "      <th></th>\n",
       "      <th>predicted_0</th>\n",
       "      <th>predicted_1</th>\n",
       "    </tr>\n",
       "  </thead>\n",
       "  <tbody>\n",
       "    <tr>\n",
       "      <th>label_0</th>\n",
       "      <td>271</td>\n",
       "      <td>18</td>\n",
       "    </tr>\n",
       "    <tr>\n",
       "      <th>label_1</th>\n",
       "      <td>19</td>\n",
       "      <td>12</td>\n",
       "    </tr>\n",
       "  </tbody>\n",
       "</table>\n",
       "</div>"
      ],
      "text/plain": [
       "         predicted_0  predicted_1\n",
       "label_0          271           18\n",
       "label_1           19           12"
      ]
     },
     "execution_count": 27,
     "metadata": {},
     "output_type": "execute_result"
    }
   ],
   "source": [
    "# Add a constant\n",
    "X_test_const = sm.add_constant(X_test_scaled)\n",
    "\n",
    "# Return float values between 0 and 1, so we round and convert them to int\n",
    "y_hat = results.predict(X_test_const).round().astype(int)  \n",
    "\n",
    "# Performance metrics\n",
    "print('Classification report\\n')\n",
    "print(classification_report(y_hat,y_test, digits=4))\n",
    "\n",
    "print('Confusion matrix')\n",
    "matrix = confusion_matrix(y_hat,y_test)\n",
    "pd.DataFrame(matrix, index=['label_0','label_1'], columns=['predicted_0', 'predicted_1'])"
   ]
  },
  {
   "cell_type": "markdown",
   "id": "e58c6256",
   "metadata": {},
   "source": [
    "Improve model"
   ]
  },
  {
   "cell_type": "code",
   "execution_count": 28,
   "id": "126a8954",
   "metadata": {},
   "outputs": [
    {
     "name": "stdout",
     "output_type": "stream",
     "text": [
      "Optimization terminated successfully.\n",
      "         Current function value: 0.280669\n",
      "         Iterations 8\n",
      "                            Logit Regression Results                           \n",
      "===============================================================================\n",
      "Dep. Variable:     quality_categorized   No. Observations:                 1279\n",
      "Model:                           Logit   Df Residuals:                     1270\n",
      "Method:                            MLE   Df Model:                            8\n",
      "Date:                 Thu, 18 Nov 2021   Pseudo R-squ.:                  0.3254\n",
      "Time:                         17:01:32   Log-Likelihood:                -358.98\n",
      "converged:                        True   LL-Null:                       -532.16\n",
      "Covariance Type:             nonrobust   LLR p-value:                 5.395e-70\n",
      "==============================================================================\n",
      "                 coef    std err          z      P>|z|      [0.025      0.975]\n",
      "------------------------------------------------------------------------------\n",
      "const         -2.7102      0.148    -18.304      0.000      -3.000      -2.420\n",
      "x1             0.4664      0.153      3.058      0.002       0.167       0.765\n",
      "x2            -0.6321      0.132     -4.791      0.000      -0.891      -0.374\n",
      "x3             0.3523      0.110      3.208      0.001       0.137       0.568\n",
      "x4            -0.3899      0.165     -2.362      0.018      -0.713      -0.066\n",
      "x5            -0.3739      0.116     -3.210      0.001      -0.602      -0.146\n",
      "x6            -0.4464      0.190     -2.350      0.019      -0.819      -0.074\n",
      "x7             0.6119      0.097      6.305      0.000       0.422       0.802\n",
      "x8             0.8571      0.131      6.535      0.000       0.600       1.114\n",
      "==============================================================================\n"
     ]
    }
   ],
   "source": [
    "# select only the significant colums\n",
    "columns_to_keep = X.columns[results.pvalues[1:] < 0.05]\n",
    "X_clean = X[columns_to_keep]\n",
    "\n",
    "# train/test split\n",
    "X_train, X_test, y_train, y_test = train_test_split(X_clean, y, test_size=.20, random_state=0)\n",
    "X_train_scaled = StandardScaler().fit_transform(X_train)\n",
    "X_test_scaled = StandardScaler().fit_transform(X_test)\n",
    "\n",
    "\n",
    "# apply regression\n",
    "X_train_const = sm.add_constant(X_train_scaled)\n",
    "log_reg = sm.Logit(y_train, X_train_const)\n",
    "results = log_reg.fit()\n",
    "\n",
    "print(results.summary())"
   ]
  },
  {
   "cell_type": "code",
   "execution_count": 29,
   "id": "cbef2b1d",
   "metadata": {},
   "outputs": [
    {
     "name": "stdout",
     "output_type": "stream",
     "text": [
      "Classification report\n",
      "\n",
      "              precision    recall  f1-score   support\n",
      "\n",
      "           0     0.9517    0.9356    0.9436       295\n",
      "           1     0.3667    0.4400    0.4000        25\n",
      "\n",
      "    accuracy                         0.8969       320\n",
      "   macro avg     0.6592    0.6878    0.6718       320\n",
      "weighted avg     0.9060    0.8969    0.9011       320\n",
      "\n",
      "Confusion matrix\n"
     ]
    },
    {
     "data": {
      "text/html": [
       "<div>\n",
       "<style scoped>\n",
       "    .dataframe tbody tr th:only-of-type {\n",
       "        vertical-align: middle;\n",
       "    }\n",
       "\n",
       "    .dataframe tbody tr th {\n",
       "        vertical-align: top;\n",
       "    }\n",
       "\n",
       "    .dataframe thead th {\n",
       "        text-align: right;\n",
       "    }\n",
       "</style>\n",
       "<table border=\"1\" class=\"dataframe\">\n",
       "  <thead>\n",
       "    <tr style=\"text-align: right;\">\n",
       "      <th></th>\n",
       "      <th>predicted_0</th>\n",
       "      <th>predicted_1</th>\n",
       "    </tr>\n",
       "  </thead>\n",
       "  <tbody>\n",
       "    <tr>\n",
       "      <th>label_0</th>\n",
       "      <td>276</td>\n",
       "      <td>19</td>\n",
       "    </tr>\n",
       "    <tr>\n",
       "      <th>label_1</th>\n",
       "      <td>14</td>\n",
       "      <td>11</td>\n",
       "    </tr>\n",
       "  </tbody>\n",
       "</table>\n",
       "</div>"
      ],
      "text/plain": [
       "         predicted_0  predicted_1\n",
       "label_0          276           19\n",
       "label_1           14           11"
      ]
     },
     "execution_count": 29,
     "metadata": {},
     "output_type": "execute_result"
    }
   ],
   "source": [
    "# Add a constant\n",
    "X_test_const = sm.add_constant(X_test_scaled)\n",
    "\n",
    "# Return float values between 0 and 1, so we round and convert them to int\n",
    "y_hat = results.predict(X_test_const).round().astype(int)  \n",
    "\n",
    "# Performance metrics\n",
    "print('Classification report\\n')\n",
    "print(classification_report(y_hat,y_test, digits=4))\n",
    "\n",
    "print('Confusion matrix')\n",
    "matrix = confusion_matrix(y_hat,y_test)\n",
    "pd.DataFrame(matrix, index=['label_0','label_1'], columns=['predicted_0', 'predicted_1'])"
   ]
  },
  {
   "cell_type": "code",
   "execution_count": 30,
   "id": "4d318fb9",
   "metadata": {},
   "outputs": [
    {
     "data": {
      "text/plain": [
       "Index(['fixed_acidity', 'volatile_acidity', 'residual_sugar', 'chlorides',\n",
       "       'total_sulfur_dioxide', 'density', 'sulphates', 'alcohol'],\n",
       "      dtype='object')"
      ]
     },
     "execution_count": 30,
     "metadata": {},
     "output_type": "execute_result"
    }
   ],
   "source": [
    "# Most relevant columns\n",
    "X_clean.columns[results.pvalues[1:] < 0.05]"
   ]
  },
  {
   "cell_type": "code",
   "execution_count": 31,
   "id": "72b9f1c9",
   "metadata": {
    "scrolled": true
   },
   "outputs": [
    {
     "data": {
      "image/png": "[encoded data removed]",
      "text/plain": [
       "<Figure size 432x288 with 1 Axes>"
      ]
     },
     "metadata": {
      "needs_background": "light"
     },
     "output_type": "display_data"
    }
   ],
   "source": [
    "#Summary\n",
    "\n",
    "features_importances = pd.DataFrame(data={\n",
    "    'Attribute': X_clean.columns,\n",
    "    'Importance': abs(results.params[1:].values)\n",
    "}).sort_values(by='Importance', ascending=False)\n",
    "\n",
    "\n",
    "sns.barplot(x = 'Importance', y = 'Attribute', data = features_importances)\n",
    "plt.show()"
   ]
  },
  {
   "cell_type": "markdown",
   "id": "0a023d55",
   "metadata": {},
   "source": [
    "WHITE WINE"
   ]
  },
  {
   "cell_type": "code",
   "execution_count": 137,
   "id": "eb274bae",
   "metadata": {},
   "outputs": [
    {
     "data": {
      "image/png": "[encoded data removed]",
      "text/plain": [
       "<Figure size 432x288 with 1 Axes>"
      ]
     },
     "metadata": {
      "needs_background": "light"
     },
     "output_type": "display_data"
    }
   ],
   "source": [
    "# Applying the categorization criteria\n",
    "white_wine['quality_categorized'] = white_wine['quality'].apply(lambda x: 0 if x < 7 else 1)\n",
    "\n",
    "# Plotting the result\n",
    "white_wine['quality_categorized'].value_counts(normalize=True).sort_values().plot.bar(rot=0, color='#EEEDC4')\n",
    "\n",
    "plt.title('Proportion of \\'low\\' and \\'high\\' quality wine in white wines')\n",
    "plt.xticks([0, 1], ['High', 'Low'])\n",
    "plt.show()"
   ]
  },
  {
   "cell_type": "markdown",
   "id": "6ada7148",
   "metadata": {},
   "source": [
    "X/y split"
   ]
  },
  {
   "cell_type": "code",
   "execution_count": 138,
   "id": "c7f77612",
   "metadata": {},
   "outputs": [],
   "source": [
    "X = white_wine.drop(['quality', 'quality_categorized'], axis=1)\n",
    "y = white_wine['quality_categorized']"
   ]
  },
  {
   "cell_type": "markdown",
   "id": "f9f43d43",
   "metadata": {},
   "source": [
    "Train/test split"
   ]
  },
  {
   "cell_type": "code",
   "execution_count": 139,
   "id": "7530c91f",
   "metadata": {},
   "outputs": [],
   "source": [
    "X_train, X_test, y_train, y_test = train_test_split(X, y, test_size=.20, random_state=0)"
   ]
  },
  {
   "cell_type": "markdown",
   "id": "95cd1253",
   "metadata": {},
   "source": [
    "Standardize data"
   ]
  },
  {
   "cell_type": "code",
   "execution_count": 140,
   "id": "b89891e0",
   "metadata": {},
   "outputs": [],
   "source": [
    "X_train_scaled = StandardScaler().fit_transform(X_train)\n",
    "X_test_scaled = StandardScaler().fit_transform(X_test)"
   ]
  },
  {
   "cell_type": "markdown",
   "id": "9b194c0c",
   "metadata": {},
   "source": [
    "Apply regression"
   ]
  },
  {
   "cell_type": "code",
   "execution_count": 141,
   "id": "59d1b004",
   "metadata": {},
   "outputs": [
    {
     "name": "stdout",
     "output_type": "stream",
     "text": [
      "Optimization terminated successfully.\n",
      "         Current function value: 0.420876\n",
      "         Iterations 7\n",
      "                            Logit Regression Results                           \n",
      "===============================================================================\n",
      "Dep. Variable:     quality_categorized   No. Observations:                 3918\n",
      "Model:                           Logit   Df Residuals:                     3906\n",
      "Method:                            MLE   Df Model:                           11\n",
      "Date:                 Thu, 18 Nov 2021   Pseudo R-squ.:                  0.1922\n",
      "Time:                         19:44:26   Log-Likelihood:                -1649.0\n",
      "converged:                        True   LL-Null:                       -2041.5\n",
      "Covariance Type:             nonrobust   LLR p-value:                3.277e-161\n",
      "==============================================================================\n",
      "                 coef    std err          z      P>|z|      [0.025      0.975]\n",
      "------------------------------------------------------------------------------\n",
      "const         -1.7146      0.055    -31.390      0.000      -1.822      -1.608\n",
      "x1             0.4221      0.086      4.887      0.000       0.253       0.591\n",
      "x2            -0.4062      0.055     -7.400      0.000      -0.514      -0.299\n",
      "x3            -0.0768      0.054     -1.433      0.152      -0.182       0.028\n",
      "x4             1.3653      0.203      6.742      0.000       0.968       1.762\n",
      "x5            -0.2617      0.093     -2.820      0.005      -0.444      -0.080\n",
      "x6             0.1655      0.060      2.774      0.006       0.049       0.282\n",
      "x7            -0.0178      0.072     -0.249      0.804      -0.158       0.123\n",
      "x8            -1.7348      0.318     -5.462      0.000      -2.357      -1.112\n",
      "x9             0.4647      0.073      6.366      0.000       0.322       0.608\n",
      "x10            0.2370      0.045      5.310      0.000       0.150       0.325\n",
      "x11            0.2996      0.160      1.876      0.061      -0.013       0.613\n",
      "==============================================================================\n"
     ]
    }
   ],
   "source": [
    "X_train_const = sm.add_constant(X_train_scaled)\n",
    "log_reg = sm.Logit(y_train, X_train_const)\n",
    "results = log_reg.fit()\n",
    "\n",
    "print(results.summary())"
   ]
  },
  {
   "cell_type": "markdown",
   "id": "3e5f3d2e",
   "metadata": {},
   "source": [
    "Most important variables"
   ]
  },
  {
   "cell_type": "code",
   "execution_count": 142,
   "id": "af31a43b",
   "metadata": {},
   "outputs": [
    {
     "data": {
      "text/plain": [
       "Index(['fixed_acidity', 'volatile_acidity', 'residual_sugar', 'chlorides',\n",
       "       'free_sulfur_dioxide', 'density', 'pH', 'sulphates'],\n",
       "      dtype='object')"
      ]
     },
     "execution_count": 142,
     "metadata": {},
     "output_type": "execute_result"
    }
   ],
   "source": [
    "X.columns[results.pvalues[1:] < 0.05]"
   ]
  },
  {
   "cell_type": "markdown",
   "id": "5ab33db7",
   "metadata": {},
   "source": [
    "Check model"
   ]
  },
  {
   "cell_type": "code",
   "execution_count": 143,
   "id": "21a5312d",
   "metadata": {},
   "outputs": [
    {
     "name": "stdout",
     "output_type": "stream",
     "text": [
      "Classification report\n",
      "\n",
      "              precision    recall  f1-score   support\n",
      "\n",
      "           0     0.9686    0.8150    0.8852       908\n",
      "           1     0.2222    0.6667    0.3333        72\n",
      "\n",
      "    accuracy                         0.8041       980\n",
      "   macro avg     0.5954    0.7408    0.6093       980\n",
      "weighted avg     0.9138    0.8041    0.8446       980\n",
      "\n",
      "Confusion matrix\n"
     ]
    },
    {
     "data": {
      "text/html": [
       "<div>\n",
       "<style scoped>\n",
       "    .dataframe tbody tr th:only-of-type {\n",
       "        vertical-align: middle;\n",
       "    }\n",
       "\n",
       "    .dataframe tbody tr th {\n",
       "        vertical-align: top;\n",
       "    }\n",
       "\n",
       "    .dataframe thead th {\n",
       "        text-align: right;\n",
       "    }\n",
       "</style>\n",
       "<table border=\"1\" class=\"dataframe\">\n",
       "  <thead>\n",
       "    <tr style=\"text-align: right;\">\n",
       "      <th></th>\n",
       "      <th>predicted_0</th>\n",
       "      <th>predicted_1</th>\n",
       "    </tr>\n",
       "  </thead>\n",
       "  <tbody>\n",
       "    <tr>\n",
       "      <th>label_0</th>\n",
       "      <td>740</td>\n",
       "      <td>168</td>\n",
       "    </tr>\n",
       "    <tr>\n",
       "      <th>label_1</th>\n",
       "      <td>24</td>\n",
       "      <td>48</td>\n",
       "    </tr>\n",
       "  </tbody>\n",
       "</table>\n",
       "</div>"
      ],
      "text/plain": [
       "         predicted_0  predicted_1\n",
       "label_0          740          168\n",
       "label_1           24           48"
      ]
     },
     "execution_count": 143,
     "metadata": {},
     "output_type": "execute_result"
    }
   ],
   "source": [
    "# Add a constant\n",
    "X_test_const = sm.add_constant(X_test_scaled)\n",
    "\n",
    "# Return float values between 0 and 1, so we round and convert them to int\n",
    "y_hat = results.predict(X_test_const).round().astype(int)  \n",
    "\n",
    "# Performance metrics\n",
    "print('Classification report\\n')\n",
    "print(classification_report(y_hat,y_test, digits=4))\n",
    "\n",
    "print('Confusion matrix')\n",
    "matrix = confusion_matrix(y_hat,y_test)\n",
    "pd.DataFrame(matrix, index=['label_0','label_1'], columns=['predicted_0', 'predicted_1'])"
   ]
  },
  {
   "cell_type": "markdown",
   "id": "63bbc772",
   "metadata": {},
   "source": [
    "Improve model"
   ]
  },
  {
   "cell_type": "code",
   "execution_count": 144,
   "id": "250d1524",
   "metadata": {},
   "outputs": [
    {
     "name": "stdout",
     "output_type": "stream",
     "text": [
      "Optimization terminated successfully.\n",
      "         Current function value: 0.421548\n",
      "         Iterations 7\n",
      "                            Logit Regression Results                           \n",
      "===============================================================================\n",
      "Dep. Variable:     quality_categorized   No. Observations:                 3918\n",
      "Model:                           Logit   Df Residuals:                     3909\n",
      "Method:                            MLE   Df Model:                            8\n",
      "Date:                 Thu, 18 Nov 2021   Pseudo R-squ.:                  0.1910\n",
      "Time:                         19:44:29   Log-Likelihood:                -1651.6\n",
      "converged:                        True   LL-Null:                       -2041.5\n",
      "Covariance Type:             nonrobust   LLR p-value:                4.994e-163\n",
      "==============================================================================\n",
      "                 coef    std err          z      P>|z|      [0.025      0.975]\n",
      "------------------------------------------------------------------------------\n",
      "const         -1.7116      0.054    -31.462      0.000      -1.818      -1.605\n",
      "x1             0.5159      0.059      8.685      0.000       0.399       0.632\n",
      "x2            -0.3786      0.052     -7.326      0.000      -0.480      -0.277\n",
      "x3             1.6740      0.108     15.431      0.000       1.461       1.887\n",
      "x4            -0.2551      0.092     -2.781      0.005      -0.435      -0.075\n",
      "x5             0.1505      0.047      3.190      0.001       0.058       0.243\n",
      "x6            -2.2739      0.117    -19.402      0.000      -2.504      -2.044\n",
      "x7             0.5500      0.056      9.883      0.000       0.441       0.659\n",
      "x8             0.2617      0.042      6.249      0.000       0.180       0.344\n",
      "==============================================================================\n"
     ]
    }
   ],
   "source": [
    "# select only the significant colums\n",
    "columns_to_keep = X.columns[results.pvalues[1:] < 0.05]\n",
    "X_clean = X[columns_to_keep]\n",
    "\n",
    "# train/test split\n",
    "X_train, X_test, y_train, y_test = train_test_split(X_clean, y, test_size=.20, random_state=0)\n",
    "X_train_scaled = StandardScaler().fit_transform(X_train)\n",
    "X_test_scaled = StandardScaler().fit_transform(X_test)\n",
    "\n",
    "\n",
    "# apply regression\n",
    "X_train_const = sm.add_constant(X_train_scaled)\n",
    "log_reg = sm.Logit(y_train, X_train_const)\n",
    "results = log_reg.fit()\n",
    "\n",
    "print(results.summary())"
   ]
  },
  {
   "cell_type": "code",
   "execution_count": 145,
   "id": "be7865b5",
   "metadata": {},
   "outputs": [
    {
     "name": "stdout",
     "output_type": "stream",
     "text": [
      "Classification report\n",
      "\n",
      "              precision    recall  f1-score   support\n",
      "\n",
      "           0     0.9686    0.8141    0.8846       909\n",
      "           1     0.2176    0.6620    0.3275        71\n",
      "\n",
      "    accuracy                         0.8031       980\n",
      "   macro avg     0.5931    0.7380    0.6061       980\n",
      "weighted avg     0.9142    0.8031    0.8443       980\n",
      "\n",
      "Confusion matrix\n"
     ]
    },
    {
     "data": {
      "text/html": [
       "<div>\n",
       "<style scoped>\n",
       "    .dataframe tbody tr th:only-of-type {\n",
       "        vertical-align: middle;\n",
       "    }\n",
       "\n",
       "    .dataframe tbody tr th {\n",
       "        vertical-align: top;\n",
       "    }\n",
       "\n",
       "    .dataframe thead th {\n",
       "        text-align: right;\n",
       "    }\n",
       "</style>\n",
       "<table border=\"1\" class=\"dataframe\">\n",
       "  <thead>\n",
       "    <tr style=\"text-align: right;\">\n",
       "      <th></th>\n",
       "      <th>predicted_0</th>\n",
       "      <th>predicted_1</th>\n",
       "    </tr>\n",
       "  </thead>\n",
       "  <tbody>\n",
       "    <tr>\n",
       "      <th>label_0</th>\n",
       "      <td>740</td>\n",
       "      <td>169</td>\n",
       "    </tr>\n",
       "    <tr>\n",
       "      <th>label_1</th>\n",
       "      <td>24</td>\n",
       "      <td>47</td>\n",
       "    </tr>\n",
       "  </tbody>\n",
       "</table>\n",
       "</div>"
      ],
      "text/plain": [
       "         predicted_0  predicted_1\n",
       "label_0          740          169\n",
       "label_1           24           47"
      ]
     },
     "execution_count": 145,
     "metadata": {},
     "output_type": "execute_result"
    }
   ],
   "source": [
    "# Add a constant\n",
    "X_test_const = sm.add_constant(X_test_scaled)\n",
    "\n",
    "# Return float values between 0 and 1, so we round and convert them to int\n",
    "y_hat = results.predict(X_test_const).round().astype(int)  \n",
    "\n",
    "# Performance metrics\n",
    "print('Classification report\\n')\n",
    "print(classification_report(y_hat,y_test, digits=4))\n",
    "\n",
    "print('Confusion matrix')\n",
    "matrix = confusion_matrix(y_hat,y_test)\n",
    "pd.DataFrame(matrix, index=['label_0','label_1'], columns=['predicted_0', 'predicted_1'])"
   ]
  },
  {
   "cell_type": "code",
   "execution_count": 146,
   "id": "c2ead3ff",
   "metadata": {},
   "outputs": [
    {
     "data": {
      "text/plain": [
       "Index(['fixed_acidity', 'volatile_acidity', 'residual_sugar', 'chlorides',\n",
       "       'free_sulfur_dioxide', 'density', 'pH', 'sulphates'],\n",
       "      dtype='object')"
      ]
     },
     "execution_count": 146,
     "metadata": {},
     "output_type": "execute_result"
    }
   ],
   "source": [
    "# Most relevant columns\n",
    "X_clean.columns[results.pvalues[1:] < 0.05]"
   ]
  },
  {
   "cell_type": "code",
   "execution_count": 147,
   "id": "f524b7f0",
   "metadata": {},
   "outputs": [
    {
     "data": {
      "image/png": "[encoded data removed]",
      "text/plain": [
       "<Figure size 432x288 with 1 Axes>"
      ]
     },
     "metadata": {
      "needs_background": "light"
     },
     "output_type": "display_data"
    }
   ],
   "source": [
    "#Summary\n",
    "\n",
    "features_importances = pd.DataFrame(data={\n",
    "    'Attribute': X_clean.columns,\n",
    "    'Importance': abs(results.params[1:].values)\n",
    "}).sort_values(by='Importance', ascending=False)\n",
    "\n",
    "\n",
    "sns.barplot(x = 'Importance', y = 'Attribute', data = features_importances)\n",
    "plt.show()"
   ]
  },
  {
   "cell_type": "markdown",
   "id": "8c3ee1e5",
   "metadata": {},
   "source": [
    "###### Now we can have an overview of the results\n",
    "\n",
    "Red wine:<br>\n",
    "Overall accuracy: 0.8969 <br>\n",
    "Relevant columns: `alcohol`, `volatile_acidity`, `sulphates`, `fixed_acidity`<br>\n",
    "\n",
    "White wine:<br>\n",
    "Overall accuracy: 0.8031 <br>\n",
    "Relevant columns: `density`, `residual_sugar`, `pH`, `fixed_acidity`<br>\n",
    "\n",
    "The features and the coefficients (described as importance in the last plot) are different for red and white wines. The only common variable among the top4 is `fixed_acidity`. The accuracy was higher for the red wines.\n",
    "\n",
    "What would happen if we combine the datasets?"
   ]
  },
  {
   "cell_type": "markdown",
   "id": "3553cdf6",
   "metadata": {},
   "source": [
    "COMBINED"
   ]
  },
  {
   "cell_type": "code",
   "execution_count": 74,
   "id": "c912c346",
   "metadata": {
    "scrolled": true
   },
   "outputs": [
    {
     "data": {
      "image/png": "[encoded data removed]",
      "text/plain": [
       "<Figure size 432x288 with 1 Axes>"
      ]
     },
     "metadata": {
      "needs_background": "light"
     },
     "output_type": "display_data"
    }
   ],
   "source": [
    "# Applying the categorization criteria\n",
    "wine_df['quality_categorized'] = wine_df['quality'].apply(lambda x: 0 if x < 7 else 1)\n",
    "\n",
    "# Plotting the result\n",
    "wine_df['quality_categorized'].value_counts(normalize=True).sort_values().plot.bar(rot=0, color='#9d5c75')\n",
    "\n",
    "plt.title('Proportion of \\'low\\' and \\'high\\' quality wine')\n",
    "plt.xticks([0, 1], ['High', 'Low'])\n",
    "plt.show()"
   ]
  },
  {
   "cell_type": "markdown",
   "id": "05d027bc",
   "metadata": {},
   "source": [
    "X/y split"
   ]
  },
  {
   "cell_type": "code",
   "execution_count": 75,
   "id": "3fa0fc22",
   "metadata": {},
   "outputs": [],
   "source": [
    "X = wine_df.drop(['quality', 'quality_categorized'], axis=1)\n",
    "y = wine_df['quality_categorized']"
   ]
  },
  {
   "cell_type": "markdown",
   "id": "1ccd9956",
   "metadata": {},
   "source": [
    "Train/test split"
   ]
  },
  {
   "cell_type": "code",
   "execution_count": 76,
   "id": "4fe5d742",
   "metadata": {},
   "outputs": [],
   "source": [
    "X_train, X_test, y_train, y_test = train_test_split(X, y, test_size=.20, random_state=0)"
   ]
  },
  {
   "cell_type": "markdown",
   "id": "72698451",
   "metadata": {},
   "source": [
    "Standardize data"
   ]
  },
  {
   "cell_type": "code",
   "execution_count": 77,
   "id": "5dce5e1d",
   "metadata": {},
   "outputs": [],
   "source": [
    "X_train_scaled = StandardScaler().fit_transform(X_train)\n",
    "X_test_scaled = StandardScaler().fit_transform(X_test)"
   ]
  },
  {
   "cell_type": "markdown",
   "id": "99e01e99",
   "metadata": {},
   "source": [
    "Apply regression"
   ]
  },
  {
   "cell_type": "code",
   "execution_count": 78,
   "id": "b6102748",
   "metadata": {},
   "outputs": [
    {
     "name": "stdout",
     "output_type": "stream",
     "text": [
      "Optimization terminated successfully.\n",
      "         Current function value: 0.392378\n",
      "         Iterations 7\n",
      "                            Logit Regression Results                           \n",
      "===============================================================================\n",
      "Dep. Variable:     quality_categorized   No. Observations:                 5197\n",
      "Model:                           Logit   Df Residuals:                     5185\n",
      "Method:                            MLE   Df Model:                           11\n",
      "Date:                 Thu, 18 Nov 2021   Pseudo R-squ.:                  0.2093\n",
      "Time:                         17:11:25   Log-Likelihood:                -2039.2\n",
      "converged:                        True   LL-Null:                       -2579.1\n",
      "Covariance Type:             nonrobust   LLR p-value:                1.256e-224\n",
      "==============================================================================\n",
      "                 coef    std err          z      P>|z|      [0.025      0.975]\n",
      "------------------------------------------------------------------------------\n",
      "const         -1.8902      0.051    -37.095      0.000      -1.990      -1.790\n",
      "x1             0.5249      0.091      5.747      0.000       0.346       0.704\n",
      "x2            -0.5419      0.068     -7.915      0.000      -0.676      -0.408\n",
      "x3            -0.0519      0.057     -0.915      0.360      -0.163       0.059\n",
      "x4             0.7898      0.113      6.995      0.000       0.569       1.011\n",
      "x5            -0.1728      0.088     -1.967      0.049      -0.345      -0.001\n",
      "x6             0.2174      0.057      3.789      0.000       0.105       0.330\n",
      "x7            -0.3289      0.073     -4.497      0.000      -0.472      -0.186\n",
      "x8            -0.8049      0.172     -4.685      0.000      -1.142      -0.468\n",
      "x9             0.3817      0.063      6.036      0.000       0.258       0.506\n",
      "x10            0.3653      0.047      7.819      0.000       0.274       0.457\n",
      "x11            0.7514      0.092      8.199      0.000       0.572       0.931\n",
      "==============================================================================\n"
     ]
    }
   ],
   "source": [
    "X_train_const = sm.add_constant(X_train_scaled)\n",
    "log_reg = sm.Logit(y_train, X_train_const)\n",
    "results = log_reg.fit()\n",
    "\n",
    "print(results.summary())"
   ]
  },
  {
   "cell_type": "code",
   "execution_count": 80,
   "id": "011c6eb1",
   "metadata": {},
   "outputs": [
    {
     "data": {
      "image/png": "[encoded data removed]",
      "text/plain": [
       "<Figure size 432x288 with 1 Axes>"
      ]
     },
     "metadata": {
      "needs_background": "light"
     },
     "output_type": "display_data"
    }
   ],
   "source": [
    "features_importances = pd.DataFrame(data={\n",
    "    'Attribute': X.columns,\n",
    "    'Importance': abs(results.params[1:].values)\n",
    "}).sort_values(by='Importance', ascending=False)\n",
    "\n",
    "sns.barplot(x = 'Importance', y = 'Attribute', data = features_importances)\n",
    "plt.show()"
   ]
  },
  {
   "cell_type": "markdown",
   "id": "da532c44",
   "metadata": {},
   "source": [
    "Most important variables"
   ]
  },
  {
   "cell_type": "code",
   "execution_count": 48,
   "id": "da025d96",
   "metadata": {},
   "outputs": [
    {
     "data": {
      "text/plain": [
       "Index(['fixed_acidity', 'volatile_acidity', 'residual_sugar', 'chlorides',\n",
       "       'free_sulfur_dioxide', 'total_sulfur_dioxide', 'density', 'pH',\n",
       "       'sulphates', 'alcohol'],\n",
       "      dtype='object')"
      ]
     },
     "execution_count": 48,
     "metadata": {},
     "output_type": "execute_result"
    }
   ],
   "source": [
    "X.columns[results.pvalues[1:] < 0.05]"
   ]
  },
  {
   "cell_type": "markdown",
   "id": "74bc84b6",
   "metadata": {},
   "source": [
    "Check model"
   ]
  },
  {
   "cell_type": "code",
   "execution_count": 49,
   "id": "8453b4f4",
   "metadata": {},
   "outputs": [
    {
     "name": "stdout",
     "output_type": "stream",
     "text": [
      "Classification report\n",
      "\n",
      "              precision    recall  f1-score   support\n",
      "\n",
      "           0     0.9532    0.8358    0.8907      1194\n",
      "           1     0.2253    0.5377    0.3175       106\n",
      "\n",
      "    accuracy                         0.8115      1300\n",
      "   macro avg     0.5892    0.6868    0.6041      1300\n",
      "weighted avg     0.8938    0.8115    0.8439      1300\n",
      "\n",
      "Confusion matrix\n"
     ]
    },
    {
     "data": {
      "text/html": [
       "<div>\n",
       "<style scoped>\n",
       "    .dataframe tbody tr th:only-of-type {\n",
       "        vertical-align: middle;\n",
       "    }\n",
       "\n",
       "    .dataframe tbody tr th {\n",
       "        vertical-align: top;\n",
       "    }\n",
       "\n",
       "    .dataframe thead th {\n",
       "        text-align: right;\n",
       "    }\n",
       "</style>\n",
       "<table border=\"1\" class=\"dataframe\">\n",
       "  <thead>\n",
       "    <tr style=\"text-align: right;\">\n",
       "      <th></th>\n",
       "      <th>predicted_0</th>\n",
       "      <th>predicted_1</th>\n",
       "    </tr>\n",
       "  </thead>\n",
       "  <tbody>\n",
       "    <tr>\n",
       "      <th>label_0</th>\n",
       "      <td>998</td>\n",
       "      <td>196</td>\n",
       "    </tr>\n",
       "    <tr>\n",
       "      <th>label_1</th>\n",
       "      <td>49</td>\n",
       "      <td>57</td>\n",
       "    </tr>\n",
       "  </tbody>\n",
       "</table>\n",
       "</div>"
      ],
      "text/plain": [
       "         predicted_0  predicted_1\n",
       "label_0          998          196\n",
       "label_1           49           57"
      ]
     },
     "execution_count": 49,
     "metadata": {},
     "output_type": "execute_result"
    }
   ],
   "source": [
    "# Add a constant\n",
    "X_test_const = sm.add_constant(X_test_scaled)\n",
    "\n",
    "# Return float values between 0 and 1, so we round and convert them to int\n",
    "y_hat = results.predict(X_test_const).round().astype(int)  \n",
    "\n",
    "# Performance metrics\n",
    "print('Classification report\\n')\n",
    "print(classification_report(y_hat,y_test, digits=4))\n",
    "\n",
    "print('Confusion matrix')\n",
    "matrix = confusion_matrix(y_hat,y_test)\n",
    "pd.DataFrame(matrix, index=['label_0','label_1'], columns=['predicted_0', 'predicted_1'])"
   ]
  },
  {
   "cell_type": "markdown",
   "id": "de99b501",
   "metadata": {},
   "source": [
    "Improve model"
   ]
  },
  {
   "cell_type": "code",
   "execution_count": 50,
   "id": "ff783c70",
   "metadata": {},
   "outputs": [
    {
     "name": "stdout",
     "output_type": "stream",
     "text": [
      "Optimization terminated successfully.\n",
      "         Current function value: 0.392459\n",
      "         Iterations 7\n",
      "                            Logit Regression Results                           \n",
      "===============================================================================\n",
      "Dep. Variable:     quality_categorized   No. Observations:                 5197\n",
      "Model:                           Logit   Df Residuals:                     5186\n",
      "Method:                            MLE   Df Model:                           10\n",
      "Date:                 Thu, 18 Nov 2021   Pseudo R-squ.:                  0.2092\n",
      "Time:                         17:01:33   Log-Likelihood:                -2039.6\n",
      "converged:                        True   LL-Null:                       -2579.1\n",
      "Covariance Type:             nonrobust   LLR p-value:                1.789e-225\n",
      "==============================================================================\n",
      "                 coef    std err          z      P>|z|      [0.025      0.975]\n",
      "------------------------------------------------------------------------------\n",
      "const         -1.8888      0.051    -37.111      0.000      -1.989      -1.789\n",
      "x1             0.5059      0.089      5.698      0.000       0.332       0.680\n",
      "x2            -0.5181      0.063     -8.199      0.000      -0.642      -0.394\n",
      "x3             0.7893      0.113      6.999      0.000       0.568       1.010\n",
      "x4            -0.1787      0.087     -2.050      0.040      -0.349      -0.008\n",
      "x5             0.2205      0.057      3.848      0.000       0.108       0.333\n",
      "x6            -0.3382      0.073     -4.664      0.000      -0.480      -0.196\n",
      "x7            -0.8119      0.171     -4.738      0.000      -1.148      -0.476\n",
      "x8             0.3843      0.063      6.089      0.000       0.261       0.508\n",
      "x9             0.3636      0.047      7.790      0.000       0.272       0.455\n",
      "x10            0.7394      0.091      8.164      0.000       0.562       0.917\n",
      "==============================================================================\n"
     ]
    }
   ],
   "source": [
    "# select only the significant colums\n",
    "columns_to_keep = X.columns[results.pvalues[1:] < 0.05]\n",
    "X_clean = X[columns_to_keep]\n",
    "\n",
    "# train/test split\n",
    "X_train, X_test, y_train, y_test = train_test_split(X_clean, y, test_size=.20, random_state=0)\n",
    "X_train_scaled = StandardScaler().fit_transform(X_train)\n",
    "X_test_scaled = StandardScaler().fit_transform(X_test)\n",
    "\n",
    "\n",
    "# apply regression\n",
    "X_train_const = sm.add_constant(X_train_scaled)\n",
    "log_reg = sm.Logit(y_train, X_train_const)\n",
    "results = log_reg.fit()\n",
    "\n",
    "print(results.summary())"
   ]
  },
  {
   "cell_type": "code",
   "execution_count": 51,
   "id": "6f22bfd3",
   "metadata": {},
   "outputs": [
    {
     "name": "stdout",
     "output_type": "stream",
     "text": [
      "Classification report\n",
      "\n",
      "              precision    recall  f1-score   support\n",
      "\n",
      "           0     0.9532    0.8372    0.8915      1192\n",
      "           1     0.2332    0.5463    0.3269       108\n",
      "\n",
      "    accuracy                         0.8131      1300\n",
      "   macro avg     0.5932    0.6918    0.6092      1300\n",
      "weighted avg     0.8934    0.8131    0.8446      1300\n",
      "\n",
      "Confusion matrix\n"
     ]
    },
    {
     "data": {
      "text/html": [
       "<div>\n",
       "<style scoped>\n",
       "    .dataframe tbody tr th:only-of-type {\n",
       "        vertical-align: middle;\n",
       "    }\n",
       "\n",
       "    .dataframe tbody tr th {\n",
       "        vertical-align: top;\n",
       "    }\n",
       "\n",
       "    .dataframe thead th {\n",
       "        text-align: right;\n",
       "    }\n",
       "</style>\n",
       "<table border=\"1\" class=\"dataframe\">\n",
       "  <thead>\n",
       "    <tr style=\"text-align: right;\">\n",
       "      <th></th>\n",
       "      <th>predicted_0</th>\n",
       "      <th>predicted_1</th>\n",
       "    </tr>\n",
       "  </thead>\n",
       "  <tbody>\n",
       "    <tr>\n",
       "      <th>label_0</th>\n",
       "      <td>998</td>\n",
       "      <td>194</td>\n",
       "    </tr>\n",
       "    <tr>\n",
       "      <th>label_1</th>\n",
       "      <td>49</td>\n",
       "      <td>59</td>\n",
       "    </tr>\n",
       "  </tbody>\n",
       "</table>\n",
       "</div>"
      ],
      "text/plain": [
       "         predicted_0  predicted_1\n",
       "label_0          998          194\n",
       "label_1           49           59"
      ]
     },
     "execution_count": 51,
     "metadata": {},
     "output_type": "execute_result"
    }
   ],
   "source": [
    "# Add a constant\n",
    "X_test_const = sm.add_constant(X_test_scaled)\n",
    "\n",
    "# Return float values between 0 and 1, so we round and convert them to int\n",
    "y_hat = results.predict(X_test_const).round().astype(int)  \n",
    "\n",
    "# Performance metrics\n",
    "print('Classification report\\n')\n",
    "print(classification_report(y_hat,y_test, digits=4))\n",
    "\n",
    "print('Confusion matrix')\n",
    "matrix = confusion_matrix(y_hat,y_test)\n",
    "pd.DataFrame(matrix, index=['label_0','label_1'], columns=['predicted_0', 'predicted_1'])"
   ]
  },
  {
   "cell_type": "code",
   "execution_count": 52,
   "id": "587b0538",
   "metadata": {},
   "outputs": [
    {
     "data": {
      "text/plain": [
       "Index(['fixed_acidity', 'volatile_acidity', 'residual_sugar', 'chlorides',\n",
       "       'free_sulfur_dioxide', 'total_sulfur_dioxide', 'density', 'pH',\n",
       "       'sulphates', 'alcohol'],\n",
       "      dtype='object')"
      ]
     },
     "execution_count": 52,
     "metadata": {},
     "output_type": "execute_result"
    }
   ],
   "source": [
    "# Most relevant columns\n",
    "relevant_columns = X_clean.columns[results.pvalues[1:] < 0.05]\n",
    "relevant_columns"
   ]
  },
  {
   "cell_type": "code",
   "execution_count": 53,
   "id": "dc714a2a",
   "metadata": {},
   "outputs": [
    {
     "data": {
      "image/png": "[encoded data removed]",
      "text/plain": [
       "<Figure size 432x288 with 1 Axes>"
      ]
     },
     "metadata": {
      "needs_background": "light"
     },
     "output_type": "display_data"
    }
   ],
   "source": [
    "#Summary\n",
    "\n",
    "features_importances = pd.DataFrame(data={\n",
    "    'Attribute': X_clean.columns,\n",
    "    'Importance': abs(results.params[1:].values)\n",
    "}).sort_values(by='Importance', ascending=False)\n",
    "\n",
    "sns.barplot(x = 'Importance', y = 'Attribute', data = features_importances)\n",
    "plt.show()"
   ]
  },
  {
   "cell_type": "code",
   "execution_count": 54,
   "id": "9fc06acf",
   "metadata": {},
   "outputs": [
    {
     "data": {
      "text/html": [
       "<div>\n",
       "<style scoped>\n",
       "    .dataframe tbody tr th:only-of-type {\n",
       "        vertical-align: middle;\n",
       "    }\n",
       "\n",
       "    .dataframe tbody tr th {\n",
       "        vertical-align: top;\n",
       "    }\n",
       "\n",
       "    .dataframe thead th {\n",
       "        text-align: right;\n",
       "    }\n",
       "</style>\n",
       "<table border=\"1\" class=\"dataframe\">\n",
       "  <thead>\n",
       "    <tr style=\"text-align: right;\">\n",
       "      <th></th>\n",
       "      <th>Attribute</th>\n",
       "      <th>Coefficient</th>\n",
       "    </tr>\n",
       "  </thead>\n",
       "  <tbody>\n",
       "    <tr>\n",
       "      <th>0</th>\n",
       "      <td>fixed_acidity</td>\n",
       "      <td>0.505878</td>\n",
       "    </tr>\n",
       "    <tr>\n",
       "      <th>1</th>\n",
       "      <td>volatile_acidity</td>\n",
       "      <td>-0.518051</td>\n",
       "    </tr>\n",
       "    <tr>\n",
       "      <th>2</th>\n",
       "      <td>residual_sugar</td>\n",
       "      <td>0.789285</td>\n",
       "    </tr>\n",
       "    <tr>\n",
       "      <th>3</th>\n",
       "      <td>chlorides</td>\n",
       "      <td>-0.178655</td>\n",
       "    </tr>\n",
       "    <tr>\n",
       "      <th>4</th>\n",
       "      <td>free_sulfur_dioxide</td>\n",
       "      <td>0.220512</td>\n",
       "    </tr>\n",
       "    <tr>\n",
       "      <th>5</th>\n",
       "      <td>total_sulfur_dioxide</td>\n",
       "      <td>-0.338191</td>\n",
       "    </tr>\n",
       "    <tr>\n",
       "      <th>6</th>\n",
       "      <td>density</td>\n",
       "      <td>-0.811939</td>\n",
       "    </tr>\n",
       "    <tr>\n",
       "      <th>7</th>\n",
       "      <td>pH</td>\n",
       "      <td>0.384313</td>\n",
       "    </tr>\n",
       "    <tr>\n",
       "      <th>8</th>\n",
       "      <td>sulphates</td>\n",
       "      <td>0.363626</td>\n",
       "    </tr>\n",
       "    <tr>\n",
       "      <th>9</th>\n",
       "      <td>alcohol</td>\n",
       "      <td>0.739419</td>\n",
       "    </tr>\n",
       "  </tbody>\n",
       "</table>\n",
       "</div>"
      ],
      "text/plain": [
       "              Attribute  Coefficient\n",
       "0         fixed_acidity     0.505878\n",
       "1      volatile_acidity    -0.518051\n",
       "2        residual_sugar     0.789285\n",
       "3             chlorides    -0.178655\n",
       "4   free_sulfur_dioxide     0.220512\n",
       "5  total_sulfur_dioxide    -0.338191\n",
       "6               density    -0.811939\n",
       "7                    pH     0.384313\n",
       "8             sulphates     0.363626\n",
       "9               alcohol     0.739419"
      ]
     },
     "execution_count": 54,
     "metadata": {},
     "output_type": "execute_result"
    }
   ],
   "source": [
    "features_coef = pd.DataFrame(data={\n",
    "    'Attribute': relevant_columns,\n",
    "    'Coefficient': results.params[1:]\n",
    "})\n",
    "features_coef.reset_index(drop=True)"
   ]
  },
  {
   "cell_type": "markdown",
   "id": "a092f430",
   "metadata": {},
   "source": [
    "Here the most important features are `density`, `residual_sugar`, `alcohol`, `volatile_acidity`. It's a mix of we found for the individual datasets. As expected, `density` and `volatile_acidity` have negative influence, while the other two produce a positive affect on the quality.\n",
    "\n",
    "The overall accuracy was 0.8131, which is comparable to what we had for white wines. It makes sense, since white wines make up about 80% of the data.\n",
    "\n",
    "For the next models, we're only going to use the combined dataset. This way, we can try to improve this value and have a unified model for both types."
   ]
  },
  {
   "cell_type": "markdown",
   "id": "dbe5a417",
   "metadata": {},
   "source": [
    "### Cross-validation: evaluating estimator performance"
   ]
  },
  {
   "cell_type": "markdown",
   "id": "b3e7bd57",
   "metadata": {},
   "source": [
    "With all features"
   ]
  },
  {
   "cell_type": "code",
   "execution_count": 192,
   "id": "38fdfc9a",
   "metadata": {},
   "outputs": [],
   "source": [
    "X = wine_df.drop(['quality', 'quality_categorized'], axis=1)\n",
    "y = wine_df['quality_categorized']"
   ]
  },
  {
   "cell_type": "code",
   "execution_count": 193,
   "id": "8490d308",
   "metadata": {},
   "outputs": [
    {
     "name": "stdout",
     "output_type": "stream",
     "text": [
      "Accuracy: 0.8150\n",
      "Standard deviation: 0.0044\n"
     ]
    }
   ],
   "source": [
    "cv = KFold(n_splits=5, random_state=0, shuffle=True)\n",
    "model = LogisticRegression(solver='liblinear')\n",
    "results = cross_val_score(model, X, y, cv=cv)\n",
    "\n",
    "print('Accuracy: {:.4f}\\nStandard deviation: {:.4f}'.format(results.mean(), results.std()))"
   ]
  },
  {
   "cell_type": "code",
   "execution_count": 194,
   "id": "36b2f6f4",
   "metadata": {
    "scrolled": true
   },
   "outputs": [
    {
     "data": {
      "text/plain": [
       "array([-0.01533719, -3.62846145, -0.20921381,  0.04701034, -1.82350619,\n",
       "        0.01248611, -0.00539346, -4.38796197, -0.37293115,  1.52115422,\n",
       "        0.84299919])"
      ]
     },
     "execution_count": 194,
     "metadata": {},
     "output_type": "execute_result"
    }
   ],
   "source": [
    "cv_results = cross_validate(model, X, y, cv=cv, return_estimator=True)\n",
    "\n",
    "\n",
    "model_coef = np.mean([model.coef_[0] for model in cv_results['estimator']], axis=0)\n",
    "model_coef"
   ]
  },
  {
   "cell_type": "code",
   "execution_count": 195,
   "id": "c1e5cde2",
   "metadata": {},
   "outputs": [
    {
     "data": {
      "image/png": "[encoded data removed]",
      "text/plain": [
       "<Figure size 432x288 with 1 Axes>"
      ]
     },
     "metadata": {
      "needs_background": "light"
     },
     "output_type": "display_data"
    }
   ],
   "source": [
    "features_importances = pd.DataFrame(data={\n",
    "    'Attribute': X.columns,\n",
    "    'Importance': abs(model_coef)\n",
    "}).sort_values(by='Importance', ascending=False)\n",
    "\n",
    "\n",
    "sns.barplot(x = 'Importance', y = 'Attribute', data = features_importances)\n",
    "plt.show()"
   ]
  },
  {
   "cell_type": "code",
   "execution_count": 196,
   "id": "5618e378",
   "metadata": {},
   "outputs": [
    {
     "data": {
      "text/html": [
       "<div>\n",
       "<style scoped>\n",
       "    .dataframe tbody tr th:only-of-type {\n",
       "        vertical-align: middle;\n",
       "    }\n",
       "\n",
       "    .dataframe tbody tr th {\n",
       "        vertical-align: top;\n",
       "    }\n",
       "\n",
       "    .dataframe thead th {\n",
       "        text-align: right;\n",
       "    }\n",
       "</style>\n",
       "<table border=\"1\" class=\"dataframe\">\n",
       "  <thead>\n",
       "    <tr style=\"text-align: right;\">\n",
       "      <th></th>\n",
       "      <th>Attribute</th>\n",
       "      <th>Coefficients</th>\n",
       "    </tr>\n",
       "  </thead>\n",
       "  <tbody>\n",
       "    <tr>\n",
       "      <th>0</th>\n",
       "      <td>fixed_acidity</td>\n",
       "      <td>-0.015337</td>\n",
       "    </tr>\n",
       "    <tr>\n",
       "      <th>1</th>\n",
       "      <td>volatile_acidity</td>\n",
       "      <td>-3.628461</td>\n",
       "    </tr>\n",
       "    <tr>\n",
       "      <th>2</th>\n",
       "      <td>citric_acid</td>\n",
       "      <td>-0.209214</td>\n",
       "    </tr>\n",
       "    <tr>\n",
       "      <th>3</th>\n",
       "      <td>residual_sugar</td>\n",
       "      <td>0.047010</td>\n",
       "    </tr>\n",
       "    <tr>\n",
       "      <th>4</th>\n",
       "      <td>chlorides</td>\n",
       "      <td>-1.823506</td>\n",
       "    </tr>\n",
       "    <tr>\n",
       "      <th>5</th>\n",
       "      <td>free_sulfur_dioxide</td>\n",
       "      <td>0.012486</td>\n",
       "    </tr>\n",
       "    <tr>\n",
       "      <th>6</th>\n",
       "      <td>total_sulfur_dioxide</td>\n",
       "      <td>-0.005393</td>\n",
       "    </tr>\n",
       "    <tr>\n",
       "      <th>7</th>\n",
       "      <td>density</td>\n",
       "      <td>-4.387962</td>\n",
       "    </tr>\n",
       "    <tr>\n",
       "      <th>8</th>\n",
       "      <td>pH</td>\n",
       "      <td>-0.372931</td>\n",
       "    </tr>\n",
       "    <tr>\n",
       "      <th>9</th>\n",
       "      <td>sulphates</td>\n",
       "      <td>1.521154</td>\n",
       "    </tr>\n",
       "    <tr>\n",
       "      <th>10</th>\n",
       "      <td>alcohol</td>\n",
       "      <td>0.842999</td>\n",
       "    </tr>\n",
       "  </tbody>\n",
       "</table>\n",
       "</div>"
      ],
      "text/plain": [
       "               Attribute  Coefficients\n",
       "0          fixed_acidity     -0.015337\n",
       "1       volatile_acidity     -3.628461\n",
       "2            citric_acid     -0.209214\n",
       "3         residual_sugar      0.047010\n",
       "4              chlorides     -1.823506\n",
       "5    free_sulfur_dioxide      0.012486\n",
       "6   total_sulfur_dioxide     -0.005393\n",
       "7                density     -4.387962\n",
       "8                     pH     -0.372931\n",
       "9              sulphates      1.521154\n",
       "10               alcohol      0.842999"
      ]
     },
     "execution_count": 196,
     "metadata": {},
     "output_type": "execute_result"
    }
   ],
   "source": [
    "features_coef = pd.DataFrame(data={\n",
    "    'Attribute': X.columns,\n",
    "    'Coefficients': model_coef\n",
    "})\n",
    "features_coef"
   ]
  },
  {
   "cell_type": "markdown",
   "id": "149346f1",
   "metadata": {},
   "source": [
    "With selected columns"
   ]
  },
  {
   "cell_type": "code",
   "execution_count": 199,
   "id": "0720b357",
   "metadata": {},
   "outputs": [
    {
     "name": "stdout",
     "output_type": "stream",
     "text": [
      "Accuracy: 0.8148\n",
      "Standard deviation: 0.0052\n"
     ]
    }
   ],
   "source": [
    "X = X[relevant_columns]\n",
    "y = wine_df['quality_categorized']\n",
    "\n",
    "\n",
    "cv = KFold(n_splits=5, random_state=0, shuffle=True)\n",
    "model = LogisticRegression(solver='liblinear')\n",
    "results = cross_val_score(model, X, y, cv=cv)\n",
    "\n",
    "print('Accuracy: {:.4f}\\nStandard deviation: {:.4f}'.format(results.mean(), results.std()))"
   ]
  },
  {
   "cell_type": "code",
   "execution_count": 200,
   "id": "58666aaf",
   "metadata": {},
   "outputs": [
    {
     "data": {
      "text/plain": [
       "array([-0.02472972, -3.54690661,  0.04658422, -1.82308055,  0.01256882,\n",
       "       -0.00546469, -4.39859423, -0.35771343,  1.5004922 ,  0.83995034])"
      ]
     },
     "execution_count": 200,
     "metadata": {},
     "output_type": "execute_result"
    }
   ],
   "source": [
    "cv_results = cross_validate(model, X, y, cv=cv, return_estimator=True)\n",
    "\n",
    "\n",
    "model_coef = np.mean([model.coef_[0] for model in cv_results['estimator']], axis=0)\n",
    "model_coef"
   ]
  },
  {
   "cell_type": "code",
   "execution_count": 201,
   "id": "eeedefb5",
   "metadata": {},
   "outputs": [
    {
     "data": {
      "image/png": "[encoded data removed]",
      "text/plain": [
       "<Figure size 432x288 with 1 Axes>"
      ]
     },
     "metadata": {
      "needs_background": "light"
     },
     "output_type": "display_data"
    }
   ],
   "source": [
    "features_importances = pd.DataFrame(data={\n",
    "    'Attribute': X.columns,\n",
    "    'Importance': abs(model_coef)\n",
    "}).sort_values(by='Importance', ascending=False)\n",
    "\n",
    "\n",
    "sns.barplot(x = 'Importance', y = 'Attribute', data = features_importances)\n",
    "plt.show()"
   ]
  },
  {
   "cell_type": "code",
   "execution_count": 202,
   "id": "664a8c84",
   "metadata": {},
   "outputs": [
    {
     "data": {
      "text/html": [
       "<div>\n",
       "<style scoped>\n",
       "    .dataframe tbody tr th:only-of-type {\n",
       "        vertical-align: middle;\n",
       "    }\n",
       "\n",
       "    .dataframe tbody tr th {\n",
       "        vertical-align: top;\n",
       "    }\n",
       "\n",
       "    .dataframe thead th {\n",
       "        text-align: right;\n",
       "    }\n",
       "</style>\n",
       "<table border=\"1\" class=\"dataframe\">\n",
       "  <thead>\n",
       "    <tr style=\"text-align: right;\">\n",
       "      <th></th>\n",
       "      <th>Attribute</th>\n",
       "      <th>Coefficients</th>\n",
       "    </tr>\n",
       "  </thead>\n",
       "  <tbody>\n",
       "    <tr>\n",
       "      <th>0</th>\n",
       "      <td>fixed_acidity</td>\n",
       "      <td>-0.024730</td>\n",
       "    </tr>\n",
       "    <tr>\n",
       "      <th>1</th>\n",
       "      <td>volatile_acidity</td>\n",
       "      <td>-3.546907</td>\n",
       "    </tr>\n",
       "    <tr>\n",
       "      <th>2</th>\n",
       "      <td>residual_sugar</td>\n",
       "      <td>0.046584</td>\n",
       "    </tr>\n",
       "    <tr>\n",
       "      <th>3</th>\n",
       "      <td>chlorides</td>\n",
       "      <td>-1.823081</td>\n",
       "    </tr>\n",
       "    <tr>\n",
       "      <th>4</th>\n",
       "      <td>free_sulfur_dioxide</td>\n",
       "      <td>0.012569</td>\n",
       "    </tr>\n",
       "    <tr>\n",
       "      <th>5</th>\n",
       "      <td>total_sulfur_dioxide</td>\n",
       "      <td>-0.005465</td>\n",
       "    </tr>\n",
       "    <tr>\n",
       "      <th>6</th>\n",
       "      <td>density</td>\n",
       "      <td>-4.398594</td>\n",
       "    </tr>\n",
       "    <tr>\n",
       "      <th>7</th>\n",
       "      <td>pH</td>\n",
       "      <td>-0.357713</td>\n",
       "    </tr>\n",
       "    <tr>\n",
       "      <th>8</th>\n",
       "      <td>sulphates</td>\n",
       "      <td>1.500492</td>\n",
       "    </tr>\n",
       "    <tr>\n",
       "      <th>9</th>\n",
       "      <td>alcohol</td>\n",
       "      <td>0.839950</td>\n",
       "    </tr>\n",
       "  </tbody>\n",
       "</table>\n",
       "</div>"
      ],
      "text/plain": [
       "              Attribute  Coefficients\n",
       "0         fixed_acidity     -0.024730\n",
       "1      volatile_acidity     -3.546907\n",
       "2        residual_sugar      0.046584\n",
       "3             chlorides     -1.823081\n",
       "4   free_sulfur_dioxide      0.012569\n",
       "5  total_sulfur_dioxide     -0.005465\n",
       "6               density     -4.398594\n",
       "7                    pH     -0.357713\n",
       "8             sulphates      1.500492\n",
       "9               alcohol      0.839950"
      ]
     },
     "execution_count": 202,
     "metadata": {},
     "output_type": "execute_result"
    }
   ],
   "source": [
    "features_coef = pd.DataFrame(data={\n",
    "    'Attribute': X.columns,\n",
    "    'Coefficients': model_coef\n",
    "})\n",
    "features_coef"
   ]
  },
  {
   "cell_type": "markdown",
   "id": "c7a4007a",
   "metadata": {},
   "source": [
    "### Decision Tree"
   ]
  },
  {
   "cell_type": "code",
   "execution_count": 177,
   "id": "3277f2dc",
   "metadata": {},
   "outputs": [],
   "source": [
    "X = wine_df.drop(['quality', 'quality_categorized'], axis=1)\n",
    "y = wine_df['quality_categorized']\n",
    "\n",
    "X_train, X_test, y_train, y_test = train_test_split(X, y, test_size=.20, random_state=0)\n",
    "\n",
    "X_train_scaled = StandardScaler().fit_transform(X_train)\n",
    "X_test_scaled = StandardScaler().fit_transform(X_test)"
   ]
  },
  {
   "cell_type": "code",
   "execution_count": 178,
   "id": "d616594c",
   "metadata": {
    "scrolled": true
   },
   "outputs": [
    {
     "name": "stdout",
     "output_type": "stream",
     "text": [
      "Classification report\n",
      "\n",
      "              precision    recall  f1-score   support\n",
      "\n",
      "           0     0.8892    0.9004    0.8948      1034\n",
      "           1     0.5929    0.5639    0.5780       266\n",
      "\n",
      "    accuracy                         0.8315      1300\n",
      "   macro avg     0.7410    0.7321    0.7364      1300\n",
      "weighted avg     0.8286    0.8315    0.8300      1300\n",
      "\n",
      "Confusion matrix\n"
     ]
    },
    {
     "data": {
      "text/html": [
       "<div>\n",
       "<style scoped>\n",
       "    .dataframe tbody tr th:only-of-type {\n",
       "        vertical-align: middle;\n",
       "    }\n",
       "\n",
       "    .dataframe tbody tr th {\n",
       "        vertical-align: top;\n",
       "    }\n",
       "\n",
       "    .dataframe thead th {\n",
       "        text-align: right;\n",
       "    }\n",
       "</style>\n",
       "<table border=\"1\" class=\"dataframe\">\n",
       "  <thead>\n",
       "    <tr style=\"text-align: right;\">\n",
       "      <th></th>\n",
       "      <th>predicted_0</th>\n",
       "      <th>predicted_1</th>\n",
       "    </tr>\n",
       "  </thead>\n",
       "  <tbody>\n",
       "    <tr>\n",
       "      <th>label_0</th>\n",
       "      <td>931</td>\n",
       "      <td>103</td>\n",
       "    </tr>\n",
       "    <tr>\n",
       "      <th>label_1</th>\n",
       "      <td>116</td>\n",
       "      <td>150</td>\n",
       "    </tr>\n",
       "  </tbody>\n",
       "</table>\n",
       "</div>"
      ],
      "text/plain": [
       "         predicted_0  predicted_1\n",
       "label_0          931          103\n",
       "label_1          116          150"
      ]
     },
     "execution_count": 178,
     "metadata": {},
     "output_type": "execute_result"
    }
   ],
   "source": [
    "model = DecisionTreeClassifier(random_state=0)\n",
    "model.fit(X_train_scaled, y_train)\n",
    "\n",
    "y_hat = model.predict(X_test_scaled)\n",
    "\n",
    "print('Classification report\\n')\n",
    "print(classification_report(y_hat, y_test,  digits=4))\n",
    "\n",
    "print('Confusion matrix')\n",
    "matrix = confusion_matrix(y_hat,y_test)\n",
    "pd.DataFrame(matrix, index=['label_0','label_1'], columns=['predicted_0', 'predicted_1'])"
   ]
  },
  {
   "cell_type": "code",
   "execution_count": 179,
   "id": "8dfc768e",
   "metadata": {
    "scrolled": true
   },
   "outputs": [
    {
     "data": {
      "text/html": [
       "<div>\n",
       "<style scoped>\n",
       "    .dataframe tbody tr th:only-of-type {\n",
       "        vertical-align: middle;\n",
       "    }\n",
       "\n",
       "    .dataframe tbody tr th {\n",
       "        vertical-align: top;\n",
       "    }\n",
       "\n",
       "    .dataframe thead th {\n",
       "        text-align: right;\n",
       "    }\n",
       "</style>\n",
       "<table border=\"1\" class=\"dataframe\">\n",
       "  <thead>\n",
       "    <tr style=\"text-align: right;\">\n",
       "      <th></th>\n",
       "      <th>Attribute</th>\n",
       "      <th>Coefficients</th>\n",
       "    </tr>\n",
       "  </thead>\n",
       "  <tbody>\n",
       "    <tr>\n",
       "      <th>0</th>\n",
       "      <td>fixed_acidity</td>\n",
       "      <td>0.044036</td>\n",
       "    </tr>\n",
       "    <tr>\n",
       "      <th>1</th>\n",
       "      <td>volatile_acidity</td>\n",
       "      <td>0.088685</td>\n",
       "    </tr>\n",
       "    <tr>\n",
       "      <th>2</th>\n",
       "      <td>citric_acid</td>\n",
       "      <td>0.097703</td>\n",
       "    </tr>\n",
       "    <tr>\n",
       "      <th>3</th>\n",
       "      <td>residual_sugar</td>\n",
       "      <td>0.082001</td>\n",
       "    </tr>\n",
       "    <tr>\n",
       "      <th>4</th>\n",
       "      <td>chlorides</td>\n",
       "      <td>0.080983</td>\n",
       "    </tr>\n",
       "    <tr>\n",
       "      <th>5</th>\n",
       "      <td>free_sulfur_dioxide</td>\n",
       "      <td>0.101478</td>\n",
       "    </tr>\n",
       "    <tr>\n",
       "      <th>6</th>\n",
       "      <td>total_sulfur_dioxide</td>\n",
       "      <td>0.069161</td>\n",
       "    </tr>\n",
       "    <tr>\n",
       "      <th>7</th>\n",
       "      <td>density</td>\n",
       "      <td>0.078761</td>\n",
       "    </tr>\n",
       "    <tr>\n",
       "      <th>8</th>\n",
       "      <td>pH</td>\n",
       "      <td>0.071158</td>\n",
       "    </tr>\n",
       "    <tr>\n",
       "      <th>9</th>\n",
       "      <td>sulphates</td>\n",
       "      <td>0.077581</td>\n",
       "    </tr>\n",
       "    <tr>\n",
       "      <th>10</th>\n",
       "      <td>alcohol</td>\n",
       "      <td>0.208452</td>\n",
       "    </tr>\n",
       "  </tbody>\n",
       "</table>\n",
       "</div>"
      ],
      "text/plain": [
       "               Attribute  Coefficients\n",
       "0          fixed_acidity      0.044036\n",
       "1       volatile_acidity      0.088685\n",
       "2            citric_acid      0.097703\n",
       "3         residual_sugar      0.082001\n",
       "4              chlorides      0.080983\n",
       "5    free_sulfur_dioxide      0.101478\n",
       "6   total_sulfur_dioxide      0.069161\n",
       "7                density      0.078761\n",
       "8                     pH      0.071158\n",
       "9              sulphates      0.077581\n",
       "10               alcohol      0.208452"
      ]
     },
     "execution_count": 179,
     "metadata": {},
     "output_type": "execute_result"
    }
   ],
   "source": [
    "features_coef = pd.DataFrame(data={\n",
    "    'Attribute': X.columns,\n",
    "    'Coefficients': model.feature_importances_\n",
    "})\n",
    "features_coef"
   ]
  },
  {
   "cell_type": "code",
   "execution_count": 180,
   "id": "3e10c58e",
   "metadata": {},
   "outputs": [
    {
     "data": {
      "image/png": "[encoded data removed]",
      "text/plain": [
       "<Figure size 432x288 with 1 Axes>"
      ]
     },
     "metadata": {
      "needs_background": "light"
     },
     "output_type": "display_data"
    }
   ],
   "source": [
    "features_importances = pd.DataFrame(data={\n",
    "    'Attribute': X.columns,\n",
    "    'Importance': abs(model.feature_importances_)\n",
    "}).sort_values(by='Importance', ascending=False)\n",
    "\n",
    "\n",
    "sns.barplot(x = 'Importance', y = 'Attribute', data = features_importances)\n",
    "plt.show()"
   ]
  },
  {
   "cell_type": "markdown",
   "id": "f3d00a6d",
   "metadata": {},
   "source": [
    "### Random Forest"
   ]
  },
  {
   "cell_type": "code",
   "execution_count": 181,
   "id": "64a33eb8",
   "metadata": {},
   "outputs": [
    {
     "name": "stdout",
     "output_type": "stream",
     "text": [
      "Classification report\n",
      "\n",
      "              precision    recall  f1-score   support\n",
      "\n",
      "           0     0.9589    0.8869    0.9215      1132\n",
      "           1     0.4941    0.7440    0.5938       168\n",
      "\n",
      "    accuracy                         0.8685      1300\n",
      "   macro avg     0.7265    0.8155    0.7577      1300\n",
      "weighted avg     0.8989    0.8685    0.8792      1300\n",
      "\n",
      "Confusion matrix\n"
     ]
    },
    {
     "data": {
      "text/html": [
       "<div>\n",
       "<style scoped>\n",
       "    .dataframe tbody tr th:only-of-type {\n",
       "        vertical-align: middle;\n",
       "    }\n",
       "\n",
       "    .dataframe tbody tr th {\n",
       "        vertical-align: top;\n",
       "    }\n",
       "\n",
       "    .dataframe thead th {\n",
       "        text-align: right;\n",
       "    }\n",
       "</style>\n",
       "<table border=\"1\" class=\"dataframe\">\n",
       "  <thead>\n",
       "    <tr style=\"text-align: right;\">\n",
       "      <th></th>\n",
       "      <th>predicted_0</th>\n",
       "      <th>predicted_1</th>\n",
       "    </tr>\n",
       "  </thead>\n",
       "  <tbody>\n",
       "    <tr>\n",
       "      <th>label_0</th>\n",
       "      <td>1004</td>\n",
       "      <td>128</td>\n",
       "    </tr>\n",
       "    <tr>\n",
       "      <th>label_1</th>\n",
       "      <td>43</td>\n",
       "      <td>125</td>\n",
       "    </tr>\n",
       "  </tbody>\n",
       "</table>\n",
       "</div>"
      ],
      "text/plain": [
       "         predicted_0  predicted_1\n",
       "label_0         1004          128\n",
       "label_1           43          125"
      ]
     },
     "execution_count": 181,
     "metadata": {},
     "output_type": "execute_result"
    }
   ],
   "source": [
    "model = RandomForestClassifier(random_state=0)\n",
    "model.fit(X_train_scaled, y_train)\n",
    "y_hat = model.predict(X_test_scaled)\n",
    "\n",
    "print('Classification report\\n')\n",
    "print(classification_report(y_hat, y_test,  digits=4))\n",
    "\n",
    "print('Confusion matrix')\n",
    "matrix = confusion_matrix(y_hat,y_test)\n",
    "pd.DataFrame(matrix, index=['label_0','label_1'], columns=['predicted_0', 'predicted_1'])"
   ]
  },
  {
   "cell_type": "code",
   "execution_count": 182,
   "id": "04661ced",
   "metadata": {
    "scrolled": false
   },
   "outputs": [
    {
     "data": {
      "text/plain": [
       "array([0.06814904, 0.08363146, 0.07729035, 0.08401201, 0.08727167,\n",
       "       0.07362702, 0.08118498, 0.1166852 , 0.07948032, 0.08412497,\n",
       "       0.16454297])"
      ]
     },
     "execution_count": 182,
     "metadata": {},
     "output_type": "execute_result"
    }
   ],
   "source": [
    "model.feature_importances_"
   ]
  },
  {
   "cell_type": "code",
   "execution_count": 183,
   "id": "58b3e4ab",
   "metadata": {},
   "outputs": [
    {
     "data": {
      "text/html": [
       "<div>\n",
       "<style scoped>\n",
       "    .dataframe tbody tr th:only-of-type {\n",
       "        vertical-align: middle;\n",
       "    }\n",
       "\n",
       "    .dataframe tbody tr th {\n",
       "        vertical-align: top;\n",
       "    }\n",
       "\n",
       "    .dataframe thead th {\n",
       "        text-align: right;\n",
       "    }\n",
       "</style>\n",
       "<table border=\"1\" class=\"dataframe\">\n",
       "  <thead>\n",
       "    <tr style=\"text-align: right;\">\n",
       "      <th></th>\n",
       "      <th>Attribute</th>\n",
       "      <th>Importance</th>\n",
       "    </tr>\n",
       "  </thead>\n",
       "  <tbody>\n",
       "    <tr>\n",
       "      <th>0</th>\n",
       "      <td>fixed_acidity</td>\n",
       "      <td>0.068149</td>\n",
       "    </tr>\n",
       "    <tr>\n",
       "      <th>1</th>\n",
       "      <td>volatile_acidity</td>\n",
       "      <td>0.083631</td>\n",
       "    </tr>\n",
       "    <tr>\n",
       "      <th>2</th>\n",
       "      <td>citric_acid</td>\n",
       "      <td>0.077290</td>\n",
       "    </tr>\n",
       "    <tr>\n",
       "      <th>3</th>\n",
       "      <td>residual_sugar</td>\n",
       "      <td>0.084012</td>\n",
       "    </tr>\n",
       "    <tr>\n",
       "      <th>4</th>\n",
       "      <td>chlorides</td>\n",
       "      <td>0.087272</td>\n",
       "    </tr>\n",
       "    <tr>\n",
       "      <th>5</th>\n",
       "      <td>free_sulfur_dioxide</td>\n",
       "      <td>0.073627</td>\n",
       "    </tr>\n",
       "    <tr>\n",
       "      <th>6</th>\n",
       "      <td>total_sulfur_dioxide</td>\n",
       "      <td>0.081185</td>\n",
       "    </tr>\n",
       "    <tr>\n",
       "      <th>7</th>\n",
       "      <td>density</td>\n",
       "      <td>0.116685</td>\n",
       "    </tr>\n",
       "    <tr>\n",
       "      <th>8</th>\n",
       "      <td>pH</td>\n",
       "      <td>0.079480</td>\n",
       "    </tr>\n",
       "    <tr>\n",
       "      <th>9</th>\n",
       "      <td>sulphates</td>\n",
       "      <td>0.084125</td>\n",
       "    </tr>\n",
       "    <tr>\n",
       "      <th>10</th>\n",
       "      <td>alcohol</td>\n",
       "      <td>0.164543</td>\n",
       "    </tr>\n",
       "  </tbody>\n",
       "</table>\n",
       "</div>"
      ],
      "text/plain": [
       "               Attribute  Importance\n",
       "0          fixed_acidity    0.068149\n",
       "1       volatile_acidity    0.083631\n",
       "2            citric_acid    0.077290\n",
       "3         residual_sugar    0.084012\n",
       "4              chlorides    0.087272\n",
       "5    free_sulfur_dioxide    0.073627\n",
       "6   total_sulfur_dioxide    0.081185\n",
       "7                density    0.116685\n",
       "8                     pH    0.079480\n",
       "9              sulphates    0.084125\n",
       "10               alcohol    0.164543"
      ]
     },
     "execution_count": 183,
     "metadata": {},
     "output_type": "execute_result"
    }
   ],
   "source": [
    "features_coef = pd.DataFrame(data={\n",
    "    'Attribute': X.columns,\n",
    "    'Importance': model.feature_importances_\n",
    "})\n",
    "features_coef"
   ]
  },
  {
   "cell_type": "code",
   "execution_count": 184,
   "id": "7caf5824",
   "metadata": {},
   "outputs": [
    {
     "data": {
      "image/png": "[encoded data removed]",
      "text/plain": [
       "<Figure size 432x288 with 1 Axes>"
      ]
     },
     "metadata": {
      "needs_background": "light"
     },
     "output_type": "display_data"
    }
   ],
   "source": [
    "features_importances = pd.DataFrame(data={\n",
    "    'Attribute': X.columns,\n",
    "    'Importance': abs(model.feature_importances_)\n",
    "}).sort_values(by='Importance', ascending=False)\n",
    "\n",
    "\n",
    "sns.barplot(x = 'Importance', y = 'Attribute', data = features_importances)\n",
    "plt.show()"
   ]
  },
  {
   "cell_type": "markdown",
   "id": "48f6ded0",
   "metadata": {},
   "source": [
    "Applying random forest model to red..."
   ]
  },
  {
   "cell_type": "code",
   "execution_count": 185,
   "id": "f869279d",
   "metadata": {},
   "outputs": [],
   "source": [
    "X = red_wine.drop(['quality', 'quality_categorized'], axis=1)\n",
    "y = red_wine['quality_categorized']\n",
    "\n",
    "X_scaled = StandardScaler().fit_transform(X)"
   ]
  },
  {
   "cell_type": "code",
   "execution_count": 187,
   "id": "da21f580",
   "metadata": {},
   "outputs": [
    {
     "name": "stdout",
     "output_type": "stream",
     "text": [
      "Classification report\n",
      "\n",
      "              precision    recall  f1-score   support\n",
      "\n",
      "           0     0.9595    0.8770    0.9164      1512\n",
      "           1     0.1429    0.3563    0.2039        87\n",
      "\n",
      "    accuracy                         0.8487      1599\n",
      "   macro avg     0.5512    0.6167    0.5602      1599\n",
      "weighted avg     0.9150    0.8487    0.8776      1599\n",
      "\n",
      "Confusion matrix\n"
     ]
    },
    {
     "data": {
      "text/html": [
       "<div>\n",
       "<style scoped>\n",
       "    .dataframe tbody tr th:only-of-type {\n",
       "        vertical-align: middle;\n",
       "    }\n",
       "\n",
       "    .dataframe tbody tr th {\n",
       "        vertical-align: top;\n",
       "    }\n",
       "\n",
       "    .dataframe thead th {\n",
       "        text-align: right;\n",
       "    }\n",
       "</style>\n",
       "<table border=\"1\" class=\"dataframe\">\n",
       "  <thead>\n",
       "    <tr style=\"text-align: right;\">\n",
       "      <th></th>\n",
       "      <th>predicted_0</th>\n",
       "      <th>predicted_1</th>\n",
       "    </tr>\n",
       "  </thead>\n",
       "  <tbody>\n",
       "    <tr>\n",
       "      <th>label_0</th>\n",
       "      <td>1326</td>\n",
       "      <td>186</td>\n",
       "    </tr>\n",
       "    <tr>\n",
       "      <th>label_1</th>\n",
       "      <td>56</td>\n",
       "      <td>31</td>\n",
       "    </tr>\n",
       "  </tbody>\n",
       "</table>\n",
       "</div>"
      ],
      "text/plain": [
       "         predicted_0  predicted_1\n",
       "label_0         1326          186\n",
       "label_1           56           31"
      ]
     },
     "execution_count": 187,
     "metadata": {},
     "output_type": "execute_result"
    }
   ],
   "source": [
    "y_hat = model.predict(X_scaled)\n",
    "\n",
    "print('Classification report\\n')\n",
    "print(classification_report(y_hat, y,  digits=4))\n",
    "\n",
    "print('Confusion matrix')\n",
    "matrix = confusion_matrix(y_hat, y)\n",
    "pd.DataFrame(matrix, index=['label_0','label_1'], columns=['predicted_0', 'predicted_1'])"
   ]
  },
  {
   "cell_type": "code",
   "execution_count": 188,
   "id": "e65c8eaf",
   "metadata": {},
   "outputs": [
    {
     "data": {
      "image/png": "[encoded data removed]",
      "text/plain": [
       "<Figure size 432x288 with 1 Axes>"
      ]
     },
     "metadata": {
      "needs_background": "light"
     },
     "output_type": "display_data"
    }
   ],
   "source": [
    "features_importances = pd.DataFrame(data={\n",
    "    'Attribute': X.columns,\n",
    "    'Importance': abs(model.feature_importances_)\n",
    "}).sort_values(by='Importance', ascending=False)\n",
    "\n",
    "\n",
    "sns.barplot(x = 'Importance', y = 'Attribute', data = features_importances)\n",
    "plt.show()"
   ]
  },
  {
   "cell_type": "markdown",
   "id": "5f6aa673",
   "metadata": {},
   "source": [
    "... and white wine"
   ]
  },
  {
   "cell_type": "code",
   "execution_count": 189,
   "id": "e9779c92",
   "metadata": {},
   "outputs": [],
   "source": [
    "X = white_wine.drop(['quality', 'quality_categorized'], axis=1)\n",
    "y = white_wine['quality_categorized']\n",
    "\n",
    "X_scaled = StandardScaler().fit_transform(X)"
   ]
  },
  {
   "cell_type": "code",
   "execution_count": 190,
   "id": "40cedcb0",
   "metadata": {},
   "outputs": [
    {
     "name": "stdout",
     "output_type": "stream",
     "text": [
      "Classification report\n",
      "\n",
      "              precision    recall  f1-score   support\n",
      "\n",
      "           0     0.9893    0.8196    0.8965      4633\n",
      "           1     0.2113    0.8453    0.3381       265\n",
      "\n",
      "    accuracy                         0.8209      4898\n",
      "   macro avg     0.6003    0.8324    0.6173      4898\n",
      "weighted avg     0.9472    0.8209    0.8663      4898\n",
      "\n",
      "Confusion matrix\n"
     ]
    },
    {
     "data": {
      "text/html": [
       "<div>\n",
       "<style scoped>\n",
       "    .dataframe tbody tr th:only-of-type {\n",
       "        vertical-align: middle;\n",
       "    }\n",
       "\n",
       "    .dataframe tbody tr th {\n",
       "        vertical-align: top;\n",
       "    }\n",
       "\n",
       "    .dataframe thead th {\n",
       "        text-align: right;\n",
       "    }\n",
       "</style>\n",
       "<table border=\"1\" class=\"dataframe\">\n",
       "  <thead>\n",
       "    <tr style=\"text-align: right;\">\n",
       "      <th></th>\n",
       "      <th>predicted_0</th>\n",
       "      <th>predicted_1</th>\n",
       "    </tr>\n",
       "  </thead>\n",
       "  <tbody>\n",
       "    <tr>\n",
       "      <th>label_0</th>\n",
       "      <td>3797</td>\n",
       "      <td>836</td>\n",
       "    </tr>\n",
       "    <tr>\n",
       "      <th>label_1</th>\n",
       "      <td>41</td>\n",
       "      <td>224</td>\n",
       "    </tr>\n",
       "  </tbody>\n",
       "</table>\n",
       "</div>"
      ],
      "text/plain": [
       "         predicted_0  predicted_1\n",
       "label_0         3797          836\n",
       "label_1           41          224"
      ]
     },
     "execution_count": 190,
     "metadata": {},
     "output_type": "execute_result"
    }
   ],
   "source": [
    "y_hat = model.predict(X_scaled)\n",
    "\n",
    "print('Classification report\\n')\n",
    "print(classification_report(y_hat, y,  digits=4))\n",
    "\n",
    "print('Confusion matrix')\n",
    "matrix = confusion_matrix(y_hat,y)\n",
    "pd.DataFrame(matrix, index=['label_0','label_1'], columns=['predicted_0', 'predicted_1'])"
   ]
  },
  {
   "cell_type": "code",
   "execution_count": 191,
   "id": "566970b1",
   "metadata": {},
   "outputs": [
    {
     "data": {
      "image/png": "[encoded data removed]",
      "text/plain": [
       "<Figure size 432x288 with 1 Axes>"
      ]
     },
     "metadata": {
      "needs_background": "light"
     },
     "output_type": "display_data"
    }
   ],
   "source": [
    "features_importances = pd.DataFrame(data={\n",
    "    'Attribute': X.columns,\n",
    "    'Importance': abs(model.feature_importances_)\n",
    "}).sort_values(by='Importance', ascending=False)\n",
    "\n",
    "\n",
    "sns.barplot(x = 'Importance', y = 'Attribute', data = features_importances)\n",
    "plt.show()"
   ]
  },
  {
   "cell_type": "code",
   "execution_count": null,
   "id": "390eaf25",
   "metadata": {},
   "outputs": [],
   "source": []
  },
  {
   "cell_type": "code",
   "execution_count": null,
   "id": "e401ffac",
   "metadata": {},
   "outputs": [],
   "source": []
  },
  {
   "cell_type": "markdown",
   "id": "cd984ae2",
   "metadata": {},
   "source": [
    "Conclusion:"
   ]
  },
  {
   "cell_type": "markdown",
   "id": "00d56740",
   "metadata": {},
   "source": [
    "**Future improvements:**\n",
    "\n",
    "1. Deal with the class imbalancement\n",
    "2. Deal with outliers\n",
    "3. Check for multicolinearity\n",
    "4. Apply parameter selection methods"
   ]
  },
  {
   "cell_type": "markdown",
   "id": "5a8db374",
   "metadata": {},
   "source": [
    "## Linear regression"
   ]
  },
  {
   "cell_type": "code",
   "execution_count": null,
   "id": "cc38c9c8",
   "metadata": {},
   "outputs": [],
   "source": [
    "X = wine_df.drop('quality', axis=1)\n",
    "y = wine_df['quality']"
   ]
  },
  {
   "cell_type": "code",
   "execution_count": null,
   "id": "f3545640",
   "metadata": {},
   "outputs": [],
   "source": [
    "X_train, X_test, y_train, y_test = train_test_split(X, y, test_size=.20, random_state=0)"
   ]
  },
  {
   "cell_type": "code",
   "execution_count": null,
   "id": "6e3be338",
   "metadata": {},
   "outputs": [],
   "source": [
    "X_train_scaled = StandardScaler().fit_transform(X_train)\n",
    "X_test_scaled = StandardScaler().fit_transform(X_test)"
   ]
  },
  {
   "cell_type": "code",
   "execution_count": null,
   "id": "4d16e03d",
   "metadata": {},
   "outputs": [],
   "source": [
    "model=LinearRegression()\n",
    "model.fit(X_train_scaled, y_train)\n",
    "\n",
    "features_importances = pd.DataFrame(data={\n",
    "    'Attribute': X.columns,\n",
    "    'Importance': abs(model.coef_)\n",
    "})\n",
    "features_importances = features_importances.sort_values(by='Importance', ascending=False)\n",
    "features_importances"
   ]
  },
  {
   "cell_type": "code",
   "execution_count": null,
   "id": "9366e8fe",
   "metadata": {},
   "outputs": [],
   "source": [
    "model.coef_"
   ]
  },
  {
   "cell_type": "markdown",
   "id": "936009da",
   "metadata": {},
   "source": [
    "USE STATSMODEL TO DEFINE THE MOST IMPORTANT VARIABLES"
   ]
  },
  {
   "cell_type": "code",
   "execution_count": null,
   "id": "11f7475c",
   "metadata": {
    "scrolled": true
   },
   "outputs": [],
   "source": [
    "X_train_const = sm.add_constant(X_train) # adding a constant\n",
    "\n",
    "model = sm.OLS(y_train, X_train_const)\n",
    "results = model.fit()\n",
    "print(results.summary())"
   ]
  },
  {
   "cell_type": "markdown",
   "id": "b0ec172a",
   "metadata": {},
   "source": [
    "### Outlier Removal"
   ]
  },
  {
   "cell_type": "code",
   "execution_count": null,
   "id": "e7a19222",
   "metadata": {
    "scrolled": false
   },
   "outputs": [],
   "source": [
    "wine_df.shape"
   ]
  },
  {
   "cell_type": "code",
   "execution_count": null,
   "id": "e76450a9",
   "metadata": {},
   "outputs": [],
   "source": [
    "def remove_outliers_box(df, column):\n",
    "    Q1 = df[column].quantile(0.25)\n",
    "    Q3 = df[column].quantile(0.75)\n",
    "    IQR = Q3 - Q1  # Interquartile range\n",
    "    \n",
    "    filter = (df[column] >= Q1 - 1.5 * IQR) & (df[column] <= Q3 + 1.5 *IQR)\n",
    "    \n",
    "    df=df.loc[filter]\n",
    "    \n",
    "    return  df"
   ]
  },
  {
   "cell_type": "code",
   "execution_count": null,
   "id": "8321026c",
   "metadata": {
    "scrolled": true
   },
   "outputs": [],
   "source": [
    "wine_clean=remove_outliers_box(wine_df, 'alcohol')"
   ]
  },
  {
   "cell_type": "code",
   "execution_count": null,
   "id": "b0e5a10e",
   "metadata": {},
   "outputs": [],
   "source": [
    "wine_clean=remove_outliers_box(wine_df,'density')"
   ]
  },
  {
   "cell_type": "code",
   "execution_count": null,
   "id": "7c4e2148",
   "metadata": {},
   "outputs": [],
   "source": [
    "wine_clean=remove_outliers_box(wine_df,'free_sulfur_dioxide')"
   ]
  },
  {
   "cell_type": "code",
   "execution_count": null,
   "id": "ef3c5c3c",
   "metadata": {},
   "outputs": [],
   "source": [
    "wine_clean=remove_outliers_box(wine_df,'total_sulfur_dioxide')"
   ]
  },
  {
   "cell_type": "code",
   "execution_count": null,
   "id": "26dc37a1",
   "metadata": {},
   "outputs": [],
   "source": [
    "wine_clean.shape"
   ]
  },
  {
   "cell_type": "code",
   "execution_count": null,
   "id": "b0f5a481",
   "metadata": {},
   "outputs": [],
   "source": [
    "def remove_outliers_1pct(df, column):\n",
    "    \n",
    "    Q01 = df[column].quantile(0.01)\n",
    "    Q99 = df[column].quantile(0.99)\n",
    "    \n",
    "    filter = (df[column] >= Q01) & (df[column] <= Q99)\n",
    "    \n",
    "    df=df.loc[filter]\n",
    "    \n",
    "    return df"
   ]
  },
  {
   "cell_type": "code",
   "execution_count": null,
   "id": "4309463e",
   "metadata": {
    "scrolled": true
   },
   "outputs": [],
   "source": [
    "wine_clean=remove_outliers_1pct(wine_df, 'chlorides')"
   ]
  },
  {
   "cell_type": "code",
   "execution_count": null,
   "id": "cf225e24",
   "metadata": {},
   "outputs": [],
   "source": [
    "wine_clean=remove_outliers_1pct(wine_df, 'citric_acid')"
   ]
  },
  {
   "cell_type": "code",
   "execution_count": null,
   "id": "ab0e2ca0",
   "metadata": {},
   "outputs": [],
   "source": [
    "wine_clean=remove_outliers_1pct(wine_df,'volatile_acidity')"
   ]
  },
  {
   "cell_type": "code",
   "execution_count": null,
   "id": "f9a8b918",
   "metadata": {},
   "outputs": [],
   "source": [
    "wine_clean=remove_outliers_1pct(wine_df,'fixed_acidity')"
   ]
  },
  {
   "cell_type": "code",
   "execution_count": null,
   "id": "ddfd8e28",
   "metadata": {},
   "outputs": [],
   "source": [
    "wine_clean=remove_outliers_1pct(wine_df,'sulphates')"
   ]
  },
  {
   "cell_type": "code",
   "execution_count": null,
   "id": "c7beedce",
   "metadata": {},
   "outputs": [],
   "source": [
    "wine_clean=remove_outliers_1pct(wine_df,'residual_sugar')"
   ]
  },
  {
   "cell_type": "code",
   "execution_count": null,
   "id": "649e4898",
   "metadata": {},
   "outputs": [],
   "source": [
    "wine_clean=remove_outliers_1pct(wine_df,'pH')"
   ]
  },
  {
   "cell_type": "code",
   "execution_count": null,
   "id": "ddaf36be",
   "metadata": {
    "scrolled": true
   },
   "outputs": [],
   "source": [
    "wine_clean.shape"
   ]
  },
  {
   "cell_type": "code",
   "execution_count": null,
   "id": "02706b3d",
   "metadata": {},
   "outputs": [],
   "source": [
    "5767/6497"
   ]
  },
  {
   "cell_type": "code",
   "execution_count": null,
   "id": "479f2ff6",
   "metadata": {},
   "outputs": [],
   "source": [
    "fig, ax = plt.subplots(4,3, figsize=(15,16))\n",
    "#fig.tight_layout(h_pad=5, w_pad=0.8)\n",
    "fig.delaxes(ax[3,2])\n",
    "\n",
    "color = sns.color_palette('tab10', n_colors=11)\n",
    "\n",
    "sns.histplot(x='fixed_acidity', data=wine_clean, color=color[0], ax=ax[0,0], kde=True, element='step')\n",
    "sns.histplot(x='volatile_acidity', data=wine_clean, color=color[1], ax=ax[0,1], kde=True, element='step')\n",
    "sns.histplot(x='citric_acid', data=wine_clean, color=color[2], ax=ax[0,2], kde=True, element='step')\n",
    "sns.histplot(x='residual_sugar', data=wine_clean, color=color[3], ax=ax[1,0], kde=True, element='step')\n",
    "sns.histplot(x='chlorides', data=wine_clean, color=color[4], ax=ax[1,1], kde=True, element='step')\n",
    "sns.histplot(x='free_sulfur_dioxide', data=wine_clean, color=color[5], ax=ax[1,2], kde=True, element='step')\n",
    "sns.histplot(x='total_sulfur_dioxide', data=wine_clean, color=color[6], ax=ax[2,0], kde=True, element='step')\n",
    "sns.histplot(x='density', data=wine_clean, color=color[7], ax=ax[2,1], kde=True, element='step')\n",
    "sns.histplot(x='pH', data=wine_clean, color=color[8], ax=ax[2,2], kde=True, element='step')\n",
    "sns.histplot(x='sulphates', data=wine_clean, color=color[9], ax=ax[3,0], kde=True, element='step')\n",
    "sns.histplot(x='alcohol', data=wine_clean, color=color[10], ax=ax[3,1], kde=True, element='step')\n",
    "\n",
    "plt.show()"
   ]
  },
  {
   "cell_type": "markdown",
   "id": "12458f30",
   "metadata": {},
   "source": [
    "#### Apply logistic regression"
   ]
  },
  {
   "cell_type": "code",
   "execution_count": null,
   "id": "63bca3de",
   "metadata": {
    "scrolled": true
   },
   "outputs": [],
   "source": [
    "wine_clean['quality_categorized'] = wine_clean['quality'].apply(lambda x: 0 if x < 7 else 1)\n",
    "wine_clean['quality_categorized'].value_counts(normalize=True)"
   ]
  },
  {
   "cell_type": "code",
   "execution_count": null,
   "id": "f4db14df",
   "metadata": {},
   "outputs": [],
   "source": [
    "X = wine_clean.drop(['quality', 'quality_categorized'], axis=1)\n",
    "y = wine_clean['quality_categorized']"
   ]
  },
  {
   "cell_type": "code",
   "execution_count": null,
   "id": "f6b2a4a5",
   "metadata": {},
   "outputs": [],
   "source": [
    "X_train, X_test, y_train, y_test = train_test_split(X, y, test_size=.20, random_state=0)"
   ]
  },
  {
   "cell_type": "code",
   "execution_count": null,
   "id": "0ebad567",
   "metadata": {},
   "outputs": [],
   "source": [
    "X_train_scaled = StandardScaler().fit_transform(X_train)\n",
    "X_test_scaled = StandardScaler().fit_transform(X_test)"
   ]
  },
  {
   "cell_type": "code",
   "execution_count": null,
   "id": "4049d1a3",
   "metadata": {},
   "outputs": [],
   "source": [
    "X_train_const = sm.add_constant(X_train_scaled)\n",
    "log_reg = sm.Logit(y_train, X_train_const)\n",
    "results = log_reg.fit()\n",
    "\n",
    "print(results.summary())"
   ]
  },
  {
   "cell_type": "code",
   "execution_count": null,
   "id": "53778168",
   "metadata": {},
   "outputs": [],
   "source": [
    "X.columns[results.pvalues[1:] < 0.05]"
   ]
  },
  {
   "cell_type": "code",
   "execution_count": null,
   "id": "bd5d521f",
   "metadata": {},
   "outputs": [],
   "source": [
    "# Add a constant\n",
    "X_test_const = sm.add_constant(X_test_scaled)\n",
    "\n",
    "# Return float values between 0 and 1, so we round and convert them to int\n",
    "y_hat = results.predict(X_test_const).round().astype(int)  \n",
    "\n",
    "# Performance metrics\n",
    "print('Classification report\\n')\n",
    "print(classification_report(y_hat,y_test, digits=4))\n",
    "\n",
    "print('Confusion matrix')\n",
    "matrix = confusion_matrix(y_hat,y_test)\n",
    "pd.DataFrame(matrix, index=['label_0','label_1'], columns=['predicted_0', 'predicted_1'])"
   ]
  },
  {
   "cell_type": "code",
   "execution_count": null,
   "id": "15d05339",
   "metadata": {},
   "outputs": [],
   "source": [
    "# select only the significant colums\n",
    "columns_to_keep = X.columns[results.pvalues[1:] < 0.05]\n",
    "X_clean = X[columns_to_keep]\n",
    "\n",
    "# train/test split\n",
    "X_train, X_test, y_train, y_test = train_test_split(X_clean, y, test_size=.20, random_state=0)\n",
    "X_train_scaled = StandardScaler().fit_transform(X_train)\n",
    "X_test_scaled = StandardScaler().fit_transform(X_test)\n",
    "\n",
    "\n",
    "# apply regression\n",
    "X_train_const = sm.add_constant(X_train_scaled)\n",
    "log_reg = sm.Logit(y_train, X_train_const)\n",
    "results = log_reg.fit()\n",
    "\n",
    "print(results.summary())"
   ]
  },
  {
   "cell_type": "code",
   "execution_count": null,
   "id": "5d0b3211",
   "metadata": {},
   "outputs": [],
   "source": [
    "# Add a constant\n",
    "X_test_const = sm.add_constant(X_test_scaled)\n",
    "\n",
    "# Return float values between 0 and 1, so we round and convert them to int\n",
    "y_hat = results.predict(X_test_const).round().astype(int)  \n",
    "\n",
    "# Performance metrics\n",
    "print('Classification report\\n')\n",
    "print(classification_report(y_hat,y_test, digits=4))\n",
    "\n",
    "print('Confusion matrix')\n",
    "matrix = confusion_matrix(y_hat,y_test)\n",
    "pd.DataFrame(matrix, index=['label_0','label_1'], columns=['predicted_0', 'predicted_1'])"
   ]
  },
  {
   "cell_type": "markdown",
   "id": "069bfde1",
   "metadata": {},
   "source": [
    "Removing outliers didn't improve the accuracy of the model"
   ]
  },
  {
   "cell_type": "markdown",
   "id": "01466e94",
   "metadata": {},
   "source": [
    "**Wine 'sweetness'**<br>\n",
    "\n",
    "We can create a column to address the `sweetness` of the wine. According to the [Commission Delegated Regulation (EU) 2019/33](https://eur-lex.europa.eu/legal-content/EN/TXT/PDF/?uri=CELEX:32019R0033&from=en) that regulates the wine sector, applying the terms dry, medium dry, medium sweet or sweet require the following criteria:\n",
    "\n",
    "**Dry:**<br>\n",
    "If its sugar content does not exceed:<br>\n",
    "&ensp;- 4 g$\\cdot$dm<sup>-3</sup>, or<br>\n",
    "&ensp;- 9 g$\\cdot$dm<sup>-3</sup>, provided that the total acidity is not more than 2 grams below the residual sugar content.<br>\n",
    "\n",
    "**Medium dry:**<br>\n",
    "If its sugar content exceeds the maximum permitted but does not exceed:<br>\n",
    "&ensp;- 12 g$\\cdot$dm<sup>-3</sup>, or<br>\n",
    "&ensp;- 18 g$\\cdot$dm<sup>-3</sup>, provided that the total acidity is not more than 10 grams below the residual sugar content.<br>\n",
    "\n",
    "**Medium sweet:**<br>\n",
    "&ensp;If its sugar content exceeds the maximum permitted but does not exceed 45 g$\\cdot$dm<sup>-3</sup>.<br>\n",
    "\n",
    "**Sweet:**<br>\n",
    "&ensp;If its sugar content is of at least 45 g$\\cdot$dm<sup>-3</sup>.<br>\n",
    "\n",
    "Let's apply these to our data:"
   ]
  },
  {
   "cell_type": "code",
   "execution_count": null,
   "id": "86354f7a",
   "metadata": {},
   "outputs": [],
   "source": [
    "#def sweet_or_dry(x):\n",
    "#    if (x['residual_sugar'] < 4) | (x['residual_sugar'] < 9 and (x['residual_sugar'] - x['fixed_acidity']) < 2):\n",
    "#        return 'dry'\n",
    "#    elif (x['residual_sugar'] < 12) | (x['residual_sugar'] < 18 and (x['residual_sugar'] - x['fixed_acidity']) < 10):\n",
    "#        return 'medium_dry'\n",
    "#    elif (x['residual_sugar'] < 45):\n",
    "#        return 'medium_sweet'\n",
    "#    else:\n",
    "#        return 'sweet'"
   ]
  },
  {
   "cell_type": "code",
   "execution_count": null,
   "id": "59bf442f",
   "metadata": {},
   "outputs": [],
   "source": [
    "#wine_df['sweetness'] = wine_df.apply(lambda x: sweet_or_dry(x), axis=1)\n",
    "#wine_df['sweetness'].value_counts(normalize=True)"
   ]
  },
  {
   "cell_type": "markdown",
   "id": "81cadd6b",
   "metadata": {},
   "source": [
    "The data is totally inbalaced: dry wines correspond to over 77% of the total. Instead of having the other categories, we could further group them into 'sweet' (as opposed to 'dry', not taking into account the formal definition)."
   ]
  },
  {
   "cell_type": "code",
   "execution_count": null,
   "id": "b4e06bc0",
   "metadata": {
    "scrolled": true
   },
   "outputs": [],
   "source": [
    "#wine_df['sweetness'] = wine_df['sweetness'].apply(lambda x: 'dry' if x == 'dry' else 'sweet')\n",
    "#wine_df['sweetness'].value_counts(normalize=True)"
   ]
  },
  {
   "cell_type": "code",
   "execution_count": null,
   "id": "ffa1be33",
   "metadata": {},
   "outputs": [],
   "source": [
    "#wine_df['sweetness_encoded'] = wine_df['sweetness'].apply(lambda x: 0 if x == 'dry' else 1)"
   ]
  }
 ],
 "metadata": {
  "kernelspec": {
   "display_name": "Python 3",
   "language": "python",
   "name": "python3"
  },
  "language_info": {
   "codemirror_mode": {
    "name": "ipython",
    "version": 3
   },
   "file_extension": ".py",
   "mimetype": "text/x-python",
   "name": "python",
   "nbconvert_exporter": "python",
   "pygments_lexer": "ipython3",
   "version": "3.7.11"
  }
 },
 "nbformat": 4,
 "nbformat_minor": 5
}
