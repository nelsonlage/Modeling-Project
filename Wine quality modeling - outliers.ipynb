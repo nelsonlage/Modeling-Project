{
 "cells": [
  {
   "cell_type": "markdown",
   "id": "3b89ea52",
   "metadata": {},
   "source": [
    "# Project name!\n",
    "\n",
    "<span style='background:mistyrose'>&nbsp;</span>&nbsp;"
   ]
  },
  {
   "cell_type": "markdown",
   "id": "cd021531",
   "metadata": {},
   "source": [
    "## About the dataset\n",
    "\n",
    "#### Source:\n",
    "[Wine quality dataset](https://archive.ics.uci.edu/ml/datasets/wine+quality)\n",
    "\n",
    "Two datasets are included, related to red and white wine samples from the demarcated region of *vinho verde* (northeast region of Portugal). Due to privacy and logistic issues, only physicochemical (inputs) and sensory (the output) variables are available (e.g. there is no data about grape types, wine brand, wine selling price, etc.). \n",
    "\n",
    "Each sample was evaluated by a minimum of three sensory assessors (using blind tastes), which graded the wine in a scale that ranges from 0 (very bad) to 10 (excellent). The final sensory score is given by the *median* of these evaluations.\n",
    "\n",
    "#### Attribute Information:    \n",
    "##### &ensp;- Input variables (based on physicochemical tests):    \n",
    "&ensp;`fixed acidity` (tartaric acid - g$\\cdot$dm<sup>-3</sup>):<br>\n",
    "&ensp;&ensp;acidity is a fundamental property of wine, imparting sourness and resistance to microbial infection<br>\n",
    "&ensp;`volatile acidity` (acetic acid - g$\\cdot$dm<sup>-3</sup>):<br>\n",
    "&ensp;&ensp;Wine spoilage is legally defined by volatile acidity, largely composed of acetic acid<br>\n",
    "&ensp;`citric acid` (g$\\cdot$dm<sup>-3</sup>)<br>\n",
    "&ensp;&ensp;description<br>\n",
    "&ensp;`residual sugar` (g$\\cdot$dm<sup>-3</sup>)<br>\n",
    "&ensp;&ensp;description<br>\n",
    "&ensp;`chlorides` (sodium chloride - g$\\cdot$dm<sup>-3</sup>)<br>\n",
    "&ensp;&ensp;description<br>\n",
    "&ensp;`free sulfur dioxide` (mg$\\cdot$dm<sup>-3</sup>)<br>\n",
    "&ensp;&ensp;description<br>\n",
    "&ensp;`total sulfur dioxide` (mg$\\cdot$dm<sup>-3</sup>)<br>\n",
    "&ensp;&ensp;description<br>\n",
    "&ensp;`density` (g$\\cdot$dm<sup>-3</sup>)<br>\n",
    "&ensp;&ensp;description<br>\n",
    "&ensp;`pH`:<br>\n",
    "&ensp;&ensp;Typical pH levels in wine normally range from 2.9 to 3.9<br>\n",
    "&ensp;`sulphates` (potassium sulphate - g$\\cdot$dm<sup>-3</sup>)<br>\n",
    "&ensp;&ensp;description<br>\n",
    "&ensp;`alcohol` (% by volume)<br>\n",
    "&ensp;&ensp;description\n",
    "\n",
    "##### &ensp;- Output variable (based on sensory data):    \n",
    "&ensp;&ensp;`quality` (score between 0 and 10)\n",
    "\n",
    "\n",
    "#### Main goal:\n",
    "Model wine quality based on physicochemical tests"
   ]
  },
  {
   "cell_type": "markdown",
   "id": "2bdcccd2",
   "metadata": {},
   "source": [
    "## Import libraries"
   ]
  },
  {
   "cell_type": "code",
   "execution_count": 2,
   "id": "a25ffa17",
   "metadata": {},
   "outputs": [],
   "source": [
    "import pandas as pd\n",
    "import numpy as np\n",
    "import seaborn as sns\n",
    "import matplotlib.pyplot as plt\n",
    "import matplotlib.gridspec as gridspec\n",
    "from scipy.stats import ttest_ind, kruskal, chi2_contingency\n",
    "from sklearn.preprocessing import StandardScaler\n",
    "from sklearn.linear_model import LinearRegression, LogisticRegression\n",
    "from sklearn import metrics\n",
    "from sklearn.metrics import confusion_matrix, recall_score\n",
    "from sklearn.model_selection import train_test_split\n",
    "from sklearn.preprocessing import PowerTransformer\n",
    "import statsmodels.api as sm\n",
    "# from statsmodels.discrete.discrete_model import Logit\n",
    "from sklearn.metrics import mean_squared_error as mse\n",
    "from sklearn.metrics import mean_absolute_error as mae\n",
    "\n",
    "\n",
    "%config Completer.use_jedi = False\n",
    "%matplotlib inline"
   ]
  },
  {
   "cell_type": "markdown",
   "id": "544f7cbe",
   "metadata": {},
   "source": [
    "## Load the data"
   ]
  },
  {
   "cell_type": "code",
   "execution_count": 4,
   "id": "6e991cd8",
   "metadata": {
    "scrolled": false
   },
   "outputs": [],
   "source": [
    "red_wine = pd.read_csv('Wine quality/winequality-red.csv', sep=\";\")\n",
    "white_wine = pd.read_csv('Wine quality/winequality-white.csv', sep=\";\")\n",
    "\n",
    "# Add a tag to identify each type on a combined dataset\n",
    "# red_wine['type'] = 'red'\n",
    "# white_wine['type'] = 'white'"
   ]
  },
  {
   "cell_type": "code",
   "execution_count": 228,
   "id": "8a12c688",
   "metadata": {
    "scrolled": true
   },
   "outputs": [
    {
     "name": "stdout",
     "output_type": "stream",
     "text": [
      "<class 'pandas.core.frame.DataFrame'>\n",
      "RangeIndex: 1599 entries, 0 to 1598\n",
      "Data columns (total 12 columns):\n",
      " #   Column                Non-Null Count  Dtype  \n",
      "---  ------                --------------  -----  \n",
      " 0   fixed acidity         1599 non-null   float64\n",
      " 1   volatile acidity      1599 non-null   float64\n",
      " 2   citric acid           1599 non-null   float64\n",
      " 3   residual sugar        1599 non-null   float64\n",
      " 4   chlorides             1599 non-null   float64\n",
      " 5   free sulfur dioxide   1599 non-null   float64\n",
      " 6   total sulfur dioxide  1599 non-null   float64\n",
      " 7   density               1599 non-null   float64\n",
      " 8   pH                    1599 non-null   float64\n",
      " 9   sulphates             1599 non-null   float64\n",
      " 10  alcohol               1599 non-null   float64\n",
      " 11  quality               1599 non-null   int64  \n",
      "dtypes: float64(11), int64(1)\n",
      "memory usage: 150.0 KB\n"
     ]
    }
   ],
   "source": [
    "red_wine.info()"
   ]
  },
  {
   "cell_type": "code",
   "execution_count": 229,
   "id": "ad472f93",
   "metadata": {
    "scrolled": true
   },
   "outputs": [
    {
     "name": "stdout",
     "output_type": "stream",
     "text": [
      "<class 'pandas.core.frame.DataFrame'>\n",
      "RangeIndex: 4898 entries, 0 to 4897\n",
      "Data columns (total 12 columns):\n",
      " #   Column                Non-Null Count  Dtype  \n",
      "---  ------                --------------  -----  \n",
      " 0   fixed acidity         4898 non-null   float64\n",
      " 1   volatile acidity      4898 non-null   float64\n",
      " 2   citric acid           4898 non-null   float64\n",
      " 3   residual sugar        4898 non-null   float64\n",
      " 4   chlorides             4898 non-null   float64\n",
      " 5   free sulfur dioxide   4898 non-null   float64\n",
      " 6   total sulfur dioxide  4898 non-null   float64\n",
      " 7   density               4898 non-null   float64\n",
      " 8   pH                    4898 non-null   float64\n",
      " 9   sulphates             4898 non-null   float64\n",
      " 10  alcohol               4898 non-null   float64\n",
      " 11  quality               4898 non-null   int64  \n",
      "dtypes: float64(11), int64(1)\n",
      "memory usage: 459.3 KB\n"
     ]
    }
   ],
   "source": [
    "white_wine.info()"
   ]
  },
  {
   "cell_type": "markdown",
   "id": "b29a7485",
   "metadata": {},
   "source": [
    "Both datasets have consistent columns, all columns are numerical (except for `type` that we just added) **(check if this is necessary)** and there are no missing values. Let's concatenate them in a single dataframe."
   ]
  },
  {
   "cell_type": "code",
   "execution_count": 40,
   "id": "89bae247",
   "metadata": {
    "scrolled": false
   },
   "outputs": [
    {
     "data": {
      "text/html": [
       "<div>\n",
       "<style scoped>\n",
       "    .dataframe tbody tr th:only-of-type {\n",
       "        vertical-align: middle;\n",
       "    }\n",
       "\n",
       "    .dataframe tbody tr th {\n",
       "        vertical-align: top;\n",
       "    }\n",
       "\n",
       "    .dataframe thead th {\n",
       "        text-align: right;\n",
       "    }\n",
       "</style>\n",
       "<table border=\"1\" class=\"dataframe\">\n",
       "  <thead>\n",
       "    <tr style=\"text-align: right;\">\n",
       "      <th></th>\n",
       "      <th>fixed_acidity</th>\n",
       "      <th>volatile_acidity</th>\n",
       "      <th>citric_acid</th>\n",
       "      <th>residual_sugar</th>\n",
       "      <th>chlorides</th>\n",
       "      <th>free_sulfur_dioxide</th>\n",
       "      <th>total_sulfur_dioxide</th>\n",
       "      <th>density</th>\n",
       "      <th>pH</th>\n",
       "      <th>sulphates</th>\n",
       "      <th>alcohol</th>\n",
       "      <th>quality</th>\n",
       "    </tr>\n",
       "  </thead>\n",
       "  <tbody>\n",
       "    <tr>\n",
       "      <th>0</th>\n",
       "      <td>7.4</td>\n",
       "      <td>0.70</td>\n",
       "      <td>0.00</td>\n",
       "      <td>1.9</td>\n",
       "      <td>0.076</td>\n",
       "      <td>11.0</td>\n",
       "      <td>34.0</td>\n",
       "      <td>0.99780</td>\n",
       "      <td>3.51</td>\n",
       "      <td>0.56</td>\n",
       "      <td>9.4</td>\n",
       "      <td>5</td>\n",
       "    </tr>\n",
       "    <tr>\n",
       "      <th>1</th>\n",
       "      <td>7.8</td>\n",
       "      <td>0.88</td>\n",
       "      <td>0.00</td>\n",
       "      <td>2.6</td>\n",
       "      <td>0.098</td>\n",
       "      <td>25.0</td>\n",
       "      <td>67.0</td>\n",
       "      <td>0.99680</td>\n",
       "      <td>3.20</td>\n",
       "      <td>0.68</td>\n",
       "      <td>9.8</td>\n",
       "      <td>5</td>\n",
       "    </tr>\n",
       "    <tr>\n",
       "      <th>2</th>\n",
       "      <td>7.8</td>\n",
       "      <td>0.76</td>\n",
       "      <td>0.04</td>\n",
       "      <td>2.3</td>\n",
       "      <td>0.092</td>\n",
       "      <td>15.0</td>\n",
       "      <td>54.0</td>\n",
       "      <td>0.99700</td>\n",
       "      <td>3.26</td>\n",
       "      <td>0.65</td>\n",
       "      <td>9.8</td>\n",
       "      <td>5</td>\n",
       "    </tr>\n",
       "    <tr>\n",
       "      <th>3</th>\n",
       "      <td>11.2</td>\n",
       "      <td>0.28</td>\n",
       "      <td>0.56</td>\n",
       "      <td>1.9</td>\n",
       "      <td>0.075</td>\n",
       "      <td>17.0</td>\n",
       "      <td>60.0</td>\n",
       "      <td>0.99800</td>\n",
       "      <td>3.16</td>\n",
       "      <td>0.58</td>\n",
       "      <td>9.8</td>\n",
       "      <td>6</td>\n",
       "    </tr>\n",
       "    <tr>\n",
       "      <th>4</th>\n",
       "      <td>7.4</td>\n",
       "      <td>0.70</td>\n",
       "      <td>0.00</td>\n",
       "      <td>1.9</td>\n",
       "      <td>0.076</td>\n",
       "      <td>11.0</td>\n",
       "      <td>34.0</td>\n",
       "      <td>0.99780</td>\n",
       "      <td>3.51</td>\n",
       "      <td>0.56</td>\n",
       "      <td>9.4</td>\n",
       "      <td>5</td>\n",
       "    </tr>\n",
       "    <tr>\n",
       "      <th>...</th>\n",
       "      <td>...</td>\n",
       "      <td>...</td>\n",
       "      <td>...</td>\n",
       "      <td>...</td>\n",
       "      <td>...</td>\n",
       "      <td>...</td>\n",
       "      <td>...</td>\n",
       "      <td>...</td>\n",
       "      <td>...</td>\n",
       "      <td>...</td>\n",
       "      <td>...</td>\n",
       "      <td>...</td>\n",
       "    </tr>\n",
       "    <tr>\n",
       "      <th>6492</th>\n",
       "      <td>6.2</td>\n",
       "      <td>0.21</td>\n",
       "      <td>0.29</td>\n",
       "      <td>1.6</td>\n",
       "      <td>0.039</td>\n",
       "      <td>24.0</td>\n",
       "      <td>92.0</td>\n",
       "      <td>0.99114</td>\n",
       "      <td>3.27</td>\n",
       "      <td>0.50</td>\n",
       "      <td>11.2</td>\n",
       "      <td>6</td>\n",
       "    </tr>\n",
       "    <tr>\n",
       "      <th>6493</th>\n",
       "      <td>6.6</td>\n",
       "      <td>0.32</td>\n",
       "      <td>0.36</td>\n",
       "      <td>8.0</td>\n",
       "      <td>0.047</td>\n",
       "      <td>57.0</td>\n",
       "      <td>168.0</td>\n",
       "      <td>0.99490</td>\n",
       "      <td>3.15</td>\n",
       "      <td>0.46</td>\n",
       "      <td>9.6</td>\n",
       "      <td>5</td>\n",
       "    </tr>\n",
       "    <tr>\n",
       "      <th>6494</th>\n",
       "      <td>6.5</td>\n",
       "      <td>0.24</td>\n",
       "      <td>0.19</td>\n",
       "      <td>1.2</td>\n",
       "      <td>0.041</td>\n",
       "      <td>30.0</td>\n",
       "      <td>111.0</td>\n",
       "      <td>0.99254</td>\n",
       "      <td>2.99</td>\n",
       "      <td>0.46</td>\n",
       "      <td>9.4</td>\n",
       "      <td>6</td>\n",
       "    </tr>\n",
       "    <tr>\n",
       "      <th>6495</th>\n",
       "      <td>5.5</td>\n",
       "      <td>0.29</td>\n",
       "      <td>0.30</td>\n",
       "      <td>1.1</td>\n",
       "      <td>0.022</td>\n",
       "      <td>20.0</td>\n",
       "      <td>110.0</td>\n",
       "      <td>0.98869</td>\n",
       "      <td>3.34</td>\n",
       "      <td>0.38</td>\n",
       "      <td>12.8</td>\n",
       "      <td>7</td>\n",
       "    </tr>\n",
       "    <tr>\n",
       "      <th>6496</th>\n",
       "      <td>6.0</td>\n",
       "      <td>0.21</td>\n",
       "      <td>0.38</td>\n",
       "      <td>0.8</td>\n",
       "      <td>0.020</td>\n",
       "      <td>22.0</td>\n",
       "      <td>98.0</td>\n",
       "      <td>0.98941</td>\n",
       "      <td>3.26</td>\n",
       "      <td>0.32</td>\n",
       "      <td>11.8</td>\n",
       "      <td>6</td>\n",
       "    </tr>\n",
       "  </tbody>\n",
       "</table>\n",
       "<p>6497 rows × 12 columns</p>\n",
       "</div>"
      ],
      "text/plain": [
       "      fixed_acidity  volatile_acidity  citric_acid  residual_sugar  chlorides  \\\n",
       "0               7.4              0.70         0.00             1.9      0.076   \n",
       "1               7.8              0.88         0.00             2.6      0.098   \n",
       "2               7.8              0.76         0.04             2.3      0.092   \n",
       "3              11.2              0.28         0.56             1.9      0.075   \n",
       "4               7.4              0.70         0.00             1.9      0.076   \n",
       "...             ...               ...          ...             ...        ...   \n",
       "6492            6.2              0.21         0.29             1.6      0.039   \n",
       "6493            6.6              0.32         0.36             8.0      0.047   \n",
       "6494            6.5              0.24         0.19             1.2      0.041   \n",
       "6495            5.5              0.29         0.30             1.1      0.022   \n",
       "6496            6.0              0.21         0.38             0.8      0.020   \n",
       "\n",
       "      free_sulfur_dioxide  total_sulfur_dioxide  density    pH  sulphates  \\\n",
       "0                    11.0                  34.0  0.99780  3.51       0.56   \n",
       "1                    25.0                  67.0  0.99680  3.20       0.68   \n",
       "2                    15.0                  54.0  0.99700  3.26       0.65   \n",
       "3                    17.0                  60.0  0.99800  3.16       0.58   \n",
       "4                    11.0                  34.0  0.99780  3.51       0.56   \n",
       "...                   ...                   ...      ...   ...        ...   \n",
       "6492                 24.0                  92.0  0.99114  3.27       0.50   \n",
       "6493                 57.0                 168.0  0.99490  3.15       0.46   \n",
       "6494                 30.0                 111.0  0.99254  2.99       0.46   \n",
       "6495                 20.0                 110.0  0.98869  3.34       0.38   \n",
       "6496                 22.0                  98.0  0.98941  3.26       0.32   \n",
       "\n",
       "      alcohol  quality  \n",
       "0         9.4        5  \n",
       "1         9.8        5  \n",
       "2         9.8        5  \n",
       "3         9.8        6  \n",
       "4         9.4        5  \n",
       "...       ...      ...  \n",
       "6492     11.2        6  \n",
       "6493      9.6        5  \n",
       "6494      9.4        6  \n",
       "6495     12.8        7  \n",
       "6496     11.8        6  \n",
       "\n",
       "[6497 rows x 12 columns]"
      ]
     },
     "execution_count": 40,
     "metadata": {},
     "output_type": "execute_result"
    }
   ],
   "source": [
    "wine_df = pd.concat([red_wine, white_wine]).reset_index(drop=True)\n",
    "wine_df"
   ]
  },
  {
   "cell_type": "markdown",
   "id": "001242a9",
   "metadata": {},
   "source": [
    "Before we proceed, let's just convert the column names to camel case"
   ]
  },
  {
   "cell_type": "code",
   "execution_count": 41,
   "id": "3cdca8d0",
   "metadata": {},
   "outputs": [
    {
     "data": {
      "text/plain": [
       "Index(['fixed_acidity', 'volatile_acidity', 'citric_acid', 'residual_sugar',\n",
       "       'chlorides', 'free_sulfur_dioxide', 'total_sulfur_dioxide', 'density',\n",
       "       'pH', 'sulphates', 'alcohol', 'quality'],\n",
       "      dtype='object')"
      ]
     },
     "execution_count": 41,
     "metadata": {},
     "output_type": "execute_result"
    }
   ],
   "source": [
    "red_wine.columns = [x.replace(' ', '_') for x in red_wine.columns]\n",
    "white_wine.columns = [x.replace(' ', '_') for x in white_wine.columns]\n",
    "wine_df.columns = [x.replace(' ', '_') for x in wine_df.columns]\n",
    "\n",
    "wine_df.columns"
   ]
  },
  {
   "cell_type": "markdown",
   "id": "4d9c2893",
   "metadata": {},
   "source": [
    "## Exploratory data analysis"
   ]
  },
  {
   "cell_type": "code",
   "execution_count": 232,
   "id": "26a1f48c",
   "metadata": {},
   "outputs": [
    {
     "data": {
      "text/html": [
       "<div>\n",
       "<style scoped>\n",
       "    .dataframe tbody tr th:only-of-type {\n",
       "        vertical-align: middle;\n",
       "    }\n",
       "\n",
       "    .dataframe tbody tr th {\n",
       "        vertical-align: top;\n",
       "    }\n",
       "\n",
       "    .dataframe thead th {\n",
       "        text-align: right;\n",
       "    }\n",
       "</style>\n",
       "<table border=\"1\" class=\"dataframe\">\n",
       "  <thead>\n",
       "    <tr style=\"text-align: right;\">\n",
       "      <th></th>\n",
       "      <th>fixed_acidity</th>\n",
       "      <th>volatile_acidity</th>\n",
       "      <th>citric_acid</th>\n",
       "      <th>residual_sugar</th>\n",
       "      <th>chlorides</th>\n",
       "      <th>free_sulfur_dioxide</th>\n",
       "      <th>total_sulfur_dioxide</th>\n",
       "      <th>density</th>\n",
       "      <th>pH</th>\n",
       "      <th>sulphates</th>\n",
       "      <th>alcohol</th>\n",
       "      <th>quality</th>\n",
       "    </tr>\n",
       "  </thead>\n",
       "  <tbody>\n",
       "    <tr>\n",
       "      <th>count</th>\n",
       "      <td>6497.000</td>\n",
       "      <td>6497.000</td>\n",
       "      <td>6497.000</td>\n",
       "      <td>6497.000</td>\n",
       "      <td>6497.000</td>\n",
       "      <td>6497.000</td>\n",
       "      <td>6497.000</td>\n",
       "      <td>6497.000</td>\n",
       "      <td>6497.000</td>\n",
       "      <td>6497.000</td>\n",
       "      <td>6497.000</td>\n",
       "      <td>6497.000</td>\n",
       "    </tr>\n",
       "    <tr>\n",
       "      <th>mean</th>\n",
       "      <td>7.215</td>\n",
       "      <td>0.340</td>\n",
       "      <td>0.319</td>\n",
       "      <td>5.443</td>\n",
       "      <td>0.056</td>\n",
       "      <td>30.525</td>\n",
       "      <td>115.745</td>\n",
       "      <td>0.995</td>\n",
       "      <td>3.219</td>\n",
       "      <td>0.531</td>\n",
       "      <td>10.492</td>\n",
       "      <td>5.818</td>\n",
       "    </tr>\n",
       "    <tr>\n",
       "      <th>std</th>\n",
       "      <td>1.296</td>\n",
       "      <td>0.165</td>\n",
       "      <td>0.145</td>\n",
       "      <td>4.758</td>\n",
       "      <td>0.035</td>\n",
       "      <td>17.749</td>\n",
       "      <td>56.522</td>\n",
       "      <td>0.003</td>\n",
       "      <td>0.161</td>\n",
       "      <td>0.149</td>\n",
       "      <td>1.193</td>\n",
       "      <td>0.873</td>\n",
       "    </tr>\n",
       "    <tr>\n",
       "      <th>min</th>\n",
       "      <td>3.800</td>\n",
       "      <td>0.080</td>\n",
       "      <td>0.000</td>\n",
       "      <td>0.600</td>\n",
       "      <td>0.009</td>\n",
       "      <td>1.000</td>\n",
       "      <td>6.000</td>\n",
       "      <td>0.987</td>\n",
       "      <td>2.720</td>\n",
       "      <td>0.220</td>\n",
       "      <td>8.000</td>\n",
       "      <td>3.000</td>\n",
       "    </tr>\n",
       "    <tr>\n",
       "      <th>25%</th>\n",
       "      <td>6.400</td>\n",
       "      <td>0.230</td>\n",
       "      <td>0.250</td>\n",
       "      <td>1.800</td>\n",
       "      <td>0.038</td>\n",
       "      <td>17.000</td>\n",
       "      <td>77.000</td>\n",
       "      <td>0.992</td>\n",
       "      <td>3.110</td>\n",
       "      <td>0.430</td>\n",
       "      <td>9.500</td>\n",
       "      <td>5.000</td>\n",
       "    </tr>\n",
       "    <tr>\n",
       "      <th>50%</th>\n",
       "      <td>7.000</td>\n",
       "      <td>0.290</td>\n",
       "      <td>0.310</td>\n",
       "      <td>3.000</td>\n",
       "      <td>0.047</td>\n",
       "      <td>29.000</td>\n",
       "      <td>118.000</td>\n",
       "      <td>0.995</td>\n",
       "      <td>3.210</td>\n",
       "      <td>0.510</td>\n",
       "      <td>10.300</td>\n",
       "      <td>6.000</td>\n",
       "    </tr>\n",
       "    <tr>\n",
       "      <th>75%</th>\n",
       "      <td>7.700</td>\n",
       "      <td>0.400</td>\n",
       "      <td>0.390</td>\n",
       "      <td>8.100</td>\n",
       "      <td>0.065</td>\n",
       "      <td>41.000</td>\n",
       "      <td>156.000</td>\n",
       "      <td>0.997</td>\n",
       "      <td>3.320</td>\n",
       "      <td>0.600</td>\n",
       "      <td>11.300</td>\n",
       "      <td>6.000</td>\n",
       "    </tr>\n",
       "    <tr>\n",
       "      <th>max</th>\n",
       "      <td>15.900</td>\n",
       "      <td>1.580</td>\n",
       "      <td>1.660</td>\n",
       "      <td>65.800</td>\n",
       "      <td>0.611</td>\n",
       "      <td>289.000</td>\n",
       "      <td>440.000</td>\n",
       "      <td>1.039</td>\n",
       "      <td>4.010</td>\n",
       "      <td>2.000</td>\n",
       "      <td>14.900</td>\n",
       "      <td>9.000</td>\n",
       "    </tr>\n",
       "  </tbody>\n",
       "</table>\n",
       "</div>"
      ],
      "text/plain": [
       "       fixed_acidity  volatile_acidity  citric_acid  residual_sugar  \\\n",
       "count       6497.000          6497.000     6497.000        6497.000   \n",
       "mean           7.215             0.340        0.319           5.443   \n",
       "std            1.296             0.165        0.145           4.758   \n",
       "min            3.800             0.080        0.000           0.600   \n",
       "25%            6.400             0.230        0.250           1.800   \n",
       "50%            7.000             0.290        0.310           3.000   \n",
       "75%            7.700             0.400        0.390           8.100   \n",
       "max           15.900             1.580        1.660          65.800   \n",
       "\n",
       "       chlorides  free_sulfur_dioxide  total_sulfur_dioxide   density  \\\n",
       "count   6497.000             6497.000              6497.000  6497.000   \n",
       "mean       0.056               30.525               115.745     0.995   \n",
       "std        0.035               17.749                56.522     0.003   \n",
       "min        0.009                1.000                 6.000     0.987   \n",
       "25%        0.038               17.000                77.000     0.992   \n",
       "50%        0.047               29.000               118.000     0.995   \n",
       "75%        0.065               41.000               156.000     0.997   \n",
       "max        0.611              289.000               440.000     1.039   \n",
       "\n",
       "             pH  sulphates   alcohol   quality  \n",
       "count  6497.000   6497.000  6497.000  6497.000  \n",
       "mean      3.219      0.531    10.492     5.818  \n",
       "std       0.161      0.149     1.193     0.873  \n",
       "min       2.720      0.220     8.000     3.000  \n",
       "25%       3.110      0.430     9.500     5.000  \n",
       "50%       3.210      0.510    10.300     6.000  \n",
       "75%       3.320      0.600    11.300     6.000  \n",
       "max       4.010      2.000    14.900     9.000  "
      ]
     },
     "execution_count": 232,
     "metadata": {},
     "output_type": "execute_result"
    }
   ],
   "source": [
    "wine_df.describe().round(3)"
   ]
  },
  {
   "cell_type": "markdown",
   "id": "b35886d8",
   "metadata": {},
   "source": [
    "**Some insights about the data:**<br>\n",
    "\n",
    "&ensp;- `residual sugar` has a wide range of values [0.600, 65.8]. It might have to do with wines being dry or sweet.    \n",
    "&ensp;- For the `quality`, there are no values with score lower than 3 and no wines received the maximum score (10). We could further categotize them.    \n",
    "&ensp;- Based on common knowledge about wines, the other values seem plausible."
   ]
  },
  {
   "cell_type": "code",
   "execution_count": 233,
   "id": "caf45d64",
   "metadata": {},
   "outputs": [
    {
     "data": {
      "text/html": [
       "<div>\n",
       "<style scoped>\n",
       "    .dataframe tbody tr th:only-of-type {\n",
       "        vertical-align: middle;\n",
       "    }\n",
       "\n",
       "    .dataframe tbody tr th {\n",
       "        vertical-align: top;\n",
       "    }\n",
       "\n",
       "    .dataframe thead th {\n",
       "        text-align: right;\n",
       "    }\n",
       "</style>\n",
       "<table border=\"1\" class=\"dataframe\">\n",
       "  <thead>\n",
       "    <tr style=\"text-align: right;\">\n",
       "      <th></th>\n",
       "      <th>fixed_acidity</th>\n",
       "      <th>volatile_acidity</th>\n",
       "      <th>citric_acid</th>\n",
       "      <th>residual_sugar</th>\n",
       "      <th>chlorides</th>\n",
       "      <th>free_sulfur_dioxide</th>\n",
       "      <th>total_sulfur_dioxide</th>\n",
       "      <th>density</th>\n",
       "      <th>pH</th>\n",
       "      <th>sulphates</th>\n",
       "      <th>alcohol</th>\n",
       "      <th>quality</th>\n",
       "    </tr>\n",
       "  </thead>\n",
       "  <tbody>\n",
       "    <tr>\n",
       "      <th>0</th>\n",
       "      <td>7.4</td>\n",
       "      <td>0.70</td>\n",
       "      <td>0.00</td>\n",
       "      <td>1.9</td>\n",
       "      <td>0.076</td>\n",
       "      <td>11.0</td>\n",
       "      <td>34.0</td>\n",
       "      <td>0.99780</td>\n",
       "      <td>3.51</td>\n",
       "      <td>0.56</td>\n",
       "      <td>9.4</td>\n",
       "      <td>5</td>\n",
       "    </tr>\n",
       "    <tr>\n",
       "      <th>1</th>\n",
       "      <td>7.8</td>\n",
       "      <td>0.88</td>\n",
       "      <td>0.00</td>\n",
       "      <td>2.6</td>\n",
       "      <td>0.098</td>\n",
       "      <td>25.0</td>\n",
       "      <td>67.0</td>\n",
       "      <td>0.99680</td>\n",
       "      <td>3.20</td>\n",
       "      <td>0.68</td>\n",
       "      <td>9.8</td>\n",
       "      <td>5</td>\n",
       "    </tr>\n",
       "    <tr>\n",
       "      <th>2</th>\n",
       "      <td>7.8</td>\n",
       "      <td>0.76</td>\n",
       "      <td>0.04</td>\n",
       "      <td>2.3</td>\n",
       "      <td>0.092</td>\n",
       "      <td>15.0</td>\n",
       "      <td>54.0</td>\n",
       "      <td>0.99700</td>\n",
       "      <td>3.26</td>\n",
       "      <td>0.65</td>\n",
       "      <td>9.8</td>\n",
       "      <td>5</td>\n",
       "    </tr>\n",
       "    <tr>\n",
       "      <th>3</th>\n",
       "      <td>11.2</td>\n",
       "      <td>0.28</td>\n",
       "      <td>0.56</td>\n",
       "      <td>1.9</td>\n",
       "      <td>0.075</td>\n",
       "      <td>17.0</td>\n",
       "      <td>60.0</td>\n",
       "      <td>0.99800</td>\n",
       "      <td>3.16</td>\n",
       "      <td>0.58</td>\n",
       "      <td>9.8</td>\n",
       "      <td>6</td>\n",
       "    </tr>\n",
       "    <tr>\n",
       "      <th>4</th>\n",
       "      <td>7.4</td>\n",
       "      <td>0.70</td>\n",
       "      <td>0.00</td>\n",
       "      <td>1.9</td>\n",
       "      <td>0.076</td>\n",
       "      <td>11.0</td>\n",
       "      <td>34.0</td>\n",
       "      <td>0.99780</td>\n",
       "      <td>3.51</td>\n",
       "      <td>0.56</td>\n",
       "      <td>9.4</td>\n",
       "      <td>5</td>\n",
       "    </tr>\n",
       "    <tr>\n",
       "      <th>...</th>\n",
       "      <td>...</td>\n",
       "      <td>...</td>\n",
       "      <td>...</td>\n",
       "      <td>...</td>\n",
       "      <td>...</td>\n",
       "      <td>...</td>\n",
       "      <td>...</td>\n",
       "      <td>...</td>\n",
       "      <td>...</td>\n",
       "      <td>...</td>\n",
       "      <td>...</td>\n",
       "      <td>...</td>\n",
       "    </tr>\n",
       "    <tr>\n",
       "      <th>6492</th>\n",
       "      <td>6.2</td>\n",
       "      <td>0.21</td>\n",
       "      <td>0.29</td>\n",
       "      <td>1.6</td>\n",
       "      <td>0.039</td>\n",
       "      <td>24.0</td>\n",
       "      <td>92.0</td>\n",
       "      <td>0.99114</td>\n",
       "      <td>3.27</td>\n",
       "      <td>0.50</td>\n",
       "      <td>11.2</td>\n",
       "      <td>6</td>\n",
       "    </tr>\n",
       "    <tr>\n",
       "      <th>6493</th>\n",
       "      <td>6.6</td>\n",
       "      <td>0.32</td>\n",
       "      <td>0.36</td>\n",
       "      <td>8.0</td>\n",
       "      <td>0.047</td>\n",
       "      <td>57.0</td>\n",
       "      <td>168.0</td>\n",
       "      <td>0.99490</td>\n",
       "      <td>3.15</td>\n",
       "      <td>0.46</td>\n",
       "      <td>9.6</td>\n",
       "      <td>5</td>\n",
       "    </tr>\n",
       "    <tr>\n",
       "      <th>6494</th>\n",
       "      <td>6.5</td>\n",
       "      <td>0.24</td>\n",
       "      <td>0.19</td>\n",
       "      <td>1.2</td>\n",
       "      <td>0.041</td>\n",
       "      <td>30.0</td>\n",
       "      <td>111.0</td>\n",
       "      <td>0.99254</td>\n",
       "      <td>2.99</td>\n",
       "      <td>0.46</td>\n",
       "      <td>9.4</td>\n",
       "      <td>6</td>\n",
       "    </tr>\n",
       "    <tr>\n",
       "      <th>6495</th>\n",
       "      <td>5.5</td>\n",
       "      <td>0.29</td>\n",
       "      <td>0.30</td>\n",
       "      <td>1.1</td>\n",
       "      <td>0.022</td>\n",
       "      <td>20.0</td>\n",
       "      <td>110.0</td>\n",
       "      <td>0.98869</td>\n",
       "      <td>3.34</td>\n",
       "      <td>0.38</td>\n",
       "      <td>12.8</td>\n",
       "      <td>7</td>\n",
       "    </tr>\n",
       "    <tr>\n",
       "      <th>6496</th>\n",
       "      <td>6.0</td>\n",
       "      <td>0.21</td>\n",
       "      <td>0.38</td>\n",
       "      <td>0.8</td>\n",
       "      <td>0.020</td>\n",
       "      <td>22.0</td>\n",
       "      <td>98.0</td>\n",
       "      <td>0.98941</td>\n",
       "      <td>3.26</td>\n",
       "      <td>0.32</td>\n",
       "      <td>11.8</td>\n",
       "      <td>6</td>\n",
       "    </tr>\n",
       "  </tbody>\n",
       "</table>\n",
       "<p>6497 rows × 12 columns</p>\n",
       "</div>"
      ],
      "text/plain": [
       "      fixed_acidity  volatile_acidity  citric_acid  residual_sugar  chlorides  \\\n",
       "0               7.4              0.70         0.00             1.9      0.076   \n",
       "1               7.8              0.88         0.00             2.6      0.098   \n",
       "2               7.8              0.76         0.04             2.3      0.092   \n",
       "3              11.2              0.28         0.56             1.9      0.075   \n",
       "4               7.4              0.70         0.00             1.9      0.076   \n",
       "...             ...               ...          ...             ...        ...   \n",
       "6492            6.2              0.21         0.29             1.6      0.039   \n",
       "6493            6.6              0.32         0.36             8.0      0.047   \n",
       "6494            6.5              0.24         0.19             1.2      0.041   \n",
       "6495            5.5              0.29         0.30             1.1      0.022   \n",
       "6496            6.0              0.21         0.38             0.8      0.020   \n",
       "\n",
       "      free_sulfur_dioxide  total_sulfur_dioxide  density    pH  sulphates  \\\n",
       "0                    11.0                  34.0  0.99780  3.51       0.56   \n",
       "1                    25.0                  67.0  0.99680  3.20       0.68   \n",
       "2                    15.0                  54.0  0.99700  3.26       0.65   \n",
       "3                    17.0                  60.0  0.99800  3.16       0.58   \n",
       "4                    11.0                  34.0  0.99780  3.51       0.56   \n",
       "...                   ...                   ...      ...   ...        ...   \n",
       "6492                 24.0                  92.0  0.99114  3.27       0.50   \n",
       "6493                 57.0                 168.0  0.99490  3.15       0.46   \n",
       "6494                 30.0                 111.0  0.99254  2.99       0.46   \n",
       "6495                 20.0                 110.0  0.98869  3.34       0.38   \n",
       "6496                 22.0                  98.0  0.98941  3.26       0.32   \n",
       "\n",
       "      alcohol  quality  \n",
       "0         9.4        5  \n",
       "1         9.8        5  \n",
       "2         9.8        5  \n",
       "3         9.8        6  \n",
       "4         9.4        5  \n",
       "...       ...      ...  \n",
       "6492     11.2        6  \n",
       "6493      9.6        5  \n",
       "6494      9.4        6  \n",
       "6495     12.8        7  \n",
       "6496     11.8        6  \n",
       "\n",
       "[6497 rows x 12 columns]"
      ]
     },
     "execution_count": 233,
     "metadata": {},
     "output_type": "execute_result"
    }
   ],
   "source": [
    "wine_df"
   ]
  },
  {
   "cell_type": "markdown",
   "id": "a2554a8e",
   "metadata": {},
   "source": [
    "Based on what we have so far, we could try answering some questions:\n",
    "\n",
    "1. Is there a difference in the average quality of red and white wine?\n",
    "2. What are the variables that influence the quality of the wine? Are they the same for both types?\n",
    "3. What's the best regression model for the data? Is it best to apply the model to each data separately?\n",
    "> More questions?"
   ]
  },
  {
   "cell_type": "code",
   "execution_count": 234,
   "id": "8cb14228",
   "metadata": {
    "scrolled": false
   },
   "outputs": [
    {
     "data": {
      "image/png": "[encoded data removed]",
      "text/plain": [
       "<Figure size 1080x360 with 3 Axes>"
      ]
     },
     "metadata": {
      "needs_background": "light"
     },
     "output_type": "display_data"
    }
   ],
   "source": [
    "fig, ax = plt.subplots(1,3, figsize=(15,5), sharex=True, sharey=True)\n",
    "#fig.tight_layout(h_pad=5, w_pad=0.8)\n",
    "#fig.delaxes(ax[3,2])\n",
    "\n",
    "color = sns.color_palette('tab10', n_colors=3)\n",
    "\n",
    "sns.boxplot(x='fixed_acidity', data=red_wine, color=color[0], ax=ax[0]).set(xlabel=None)\n",
    "sns.boxplot(x='fixed_acidity', data=white_wine, color=color[0], ax=ax[1]).set(title='fixed_acidity', xlabel=None)\n",
    "sns.boxplot(x='fixed_acidity', data=wine_df, color=color[0], ax=ax[2]).set(xlabel=None)\n",
    "\n",
    "#sns.boxplot(x='volatile_acidity', data=wine_df, color=color[1], ax=ax[0,1])\n",
    "#sns.boxplot(x='citric_acid', data=wine_df, color=color[2], ax=ax[0,2])\n",
    "#sns.boxplot(x='residual_sugar', data=wine_df, color=color[3], ax=ax[1,0])\n",
    "#sns.boxplot(x='chlorides', data=wine_df, color=color[4], ax=ax[1,1])\n",
    "#sns.boxplot(x='free_sulfur_dioxide', data=wine_df, color=color[5], ax=ax[1,2])\n",
    "#sns.boxplot(x='total_sulfur_dioxide', data=wine_df, color=color[6], ax=ax[2,0])\n",
    "#sns.boxplot(x='density', data=wine_df, color=color[7], ax=ax[2,1])\n",
    "#sns.boxplot(x='pH', data=wine_df, color=color[8], ax=ax[2,2])\n",
    "#sns.boxplot(x='sulphates', data=wine_df, color=color[9], ax=ax[3,0])\n",
    "#sns.boxplot(x='alcohol', data=wine_df, color=color[10], ax=ax[3,1])\n",
    "\n",
    "plt.show()"
   ]
  },
  {
   "cell_type": "code",
   "execution_count": 235,
   "id": "f1cf71ad",
   "metadata": {},
   "outputs": [],
   "source": [
    "def outliers_count(df, column):\n",
    "    \n",
    "    Q1 = df[column].quantile(0.25)\n",
    "    Q3 = df[column].quantile(0.75)\n",
    "    IQR = Q3 - Q1  # Interquartile range\n",
    "    \n",
    "    # An array of booleans where the True values represent the outliers\n",
    "    outliers = (df[column] < (Q1 - 1.5 * IQR)) | (df[column] > (Q3 + 1.5 * IQR))\n",
    "    \n",
    "    # As True values are interpreted as 1, the sum() returns the number of outliers\n",
    "    return outliers.sum()"
   ]
  },
  {
   "cell_type": "code",
   "execution_count": 236,
   "id": "ff625a27",
   "metadata": {
    "scrolled": true
   },
   "outputs": [
    {
     "name": "stdout",
     "output_type": "stream",
     "text": [
      "fixed_acidity 357\n",
      "volatile_acidity 377\n",
      "citric_acid 509\n",
      "residual_sugar 118\n",
      "chlorides 286\n",
      "free_sulfur_dioxide 62\n",
      "total_sulfur_dioxide 10\n",
      "density 3\n",
      "pH 73\n",
      "sulphates 191\n",
      "alcohol 3\n",
      "quality 228\n"
     ]
    }
   ],
   "source": [
    "for c in wine_df.columns:\n",
    "    print(c, outliers_count(wine_df, c))"
   ]
  },
  {
   "cell_type": "code",
   "execution_count": 237,
   "id": "639c9c8e",
   "metadata": {},
   "outputs": [],
   "source": [
    "def outliers_count_1pct(df, column):\n",
    "    \n",
    "    Q1 = df[column].quantile(0.01)\n",
    "    Q99 = df[column].quantile(0.99)\n",
    "        \n",
    "    # An array of booleans where the True values represent the outliers\n",
    "    outliers = df[column] > Q99\n",
    "    \n",
    "    # As True values are interpreted as 1, the sum() returns the number of outliers\n",
    "    return outliers.sum()"
   ]
  },
  {
   "cell_type": "code",
   "execution_count": 238,
   "id": "310501bf",
   "metadata": {},
   "outputs": [
    {
     "name": "stdout",
     "output_type": "stream",
     "text": [
      "fixed_acidity 60\n",
      "volatile_acidity 62\n",
      "citric_acid 29\n",
      "residual_sugar 63\n",
      "chlorides 65\n",
      "free_sulfur_dioxide 62\n",
      "total_sulfur_dioxide 61\n",
      "density 58\n",
      "pH 64\n",
      "sulphates 63\n",
      "alcohol 55\n",
      "quality 5\n"
     ]
    }
   ],
   "source": [
    "for c in wine_df.columns:\n",
    "    print(c, outliers_count_1pct(wine_df, c))"
   ]
  },
  {
   "cell_type": "markdown",
   "id": "add92c3c",
   "metadata": {},
   "source": [
    "> What to do with the outliers? Are they really outliers? Seaborn boxplot and histograms give different perspectives."
   ]
  },
  {
   "cell_type": "code",
   "execution_count": 239,
   "id": "f0a69bc8",
   "metadata": {},
   "outputs": [
    {
     "data": {
      "image/png": "[encoded data removed]",
      "text/plain": [
       "<Figure size 1080x1152 with 11 Axes>"
      ]
     },
     "metadata": {
      "needs_background": "light"
     },
     "output_type": "display_data"
    }
   ],
   "source": [
    "fig, ax = plt.subplots(4,3, figsize=(15,16))\n",
    "#fig.tight_layout(h_pad=5, w_pad=0.8)\n",
    "fig.delaxes(ax[3,2])\n",
    "\n",
    "color = sns.color_palette('tab10', n_colors=11)\n",
    "\n",
    "sns.histplot(x='fixed_acidity', data=wine_df, color=color[0], ax=ax[0,0], kde=True, element='step')\n",
    "sns.histplot(x='volatile_acidity', data=wine_df, color=color[1], ax=ax[0,1], kde=True, element='step')\n",
    "sns.histplot(x='citric_acid', data=wine_df, color=color[2], ax=ax[0,2], kde=True, element='step')\n",
    "sns.histplot(x='residual_sugar', data=wine_df, color=color[3], ax=ax[1,0], kde=True, element='step')\n",
    "sns.histplot(x='chlorides', data=wine_df, color=color[4], ax=ax[1,1], kde=True, element='step')\n",
    "sns.histplot(x='free_sulfur_dioxide', data=wine_df, color=color[5], ax=ax[1,2], kde=True, element='step')\n",
    "sns.histplot(x='total_sulfur_dioxide', data=wine_df, color=color[6], ax=ax[2,0], kde=True, element='step')\n",
    "sns.histplot(x='density', data=wine_df, color=color[7], ax=ax[2,1], kde=True, element='step')\n",
    "sns.histplot(x='pH', data=wine_df, color=color[8], ax=ax[2,2], kde=True, element='step')\n",
    "sns.histplot(x='sulphates', data=wine_df, color=color[9], ax=ax[3,0], kde=True, element='step')\n",
    "sns.histplot(x='alcohol', data=wine_df, color=color[10], ax=ax[3,1], kde=True, element='step')\n",
    "\n",
    "plt.show()"
   ]
  },
  {
   "cell_type": "code",
   "execution_count": 240,
   "id": "381da087",
   "metadata": {},
   "outputs": [],
   "source": [
    "#sns.pairplot(wine_df)"
   ]
  },
  {
   "cell_type": "code",
   "execution_count": 241,
   "id": "10eb0ef2",
   "metadata": {},
   "outputs": [],
   "source": [
    "# corr = red_wine.corr() # returns a dataframe with the correlation values\n",
    "# matrix = np.triu(corr) # sets all the values of the lower triangle (under the main diagonal) to 0 (= False)\n",
    "# \n",
    "# fig, ax = plt.subplots(1,1, figsize=(12,12))\n",
    "# \n",
    "# sns.heatmap(\n",
    "#     corr,  # the data for the heatmap\n",
    "#     annot=True,  # show the actual values of correlation\n",
    "#     cmap='seismic',  # provide the 'seismic' colormap\n",
    "#     center=0,  # specify the value at which to center the colormap\n",
    "#     fmt='.2g', # specify the format for the annotation \n",
    "#     mask=matrix # hides the values where mask = True (= upper triangle)\n",
    "#            )\n",
    "# plt.show()"
   ]
  },
  {
   "cell_type": "code",
   "execution_count": 242,
   "id": "f2a40df6",
   "metadata": {},
   "outputs": [],
   "source": [
    "# corr = white_wine.corr() # returns a dataframe with the correlation values\n",
    "# matrix = np.triu(corr) # sets all the values of the lower triangle (under the main diagonal) to 0 (= False)\n",
    "# \n",
    "# fig, ax = plt.subplots(1,1, figsize=(12,12))\n",
    "# \n",
    "# sns.heatmap(\n",
    "#     corr,  # the data for the heatmap\n",
    "#     annot=True,  # show the actual values of correlation\n",
    "#     cmap='seismic',  # provide the 'seismic' colormap\n",
    "#     center=0,  # specify the value at which to center the colormap\n",
    "#     fmt='.2g', # specify the format for the annotation \n",
    "#     mask=matrix # hides the values where mask = True (= upper triangle)\n",
    "#            )\n",
    "# plt.show()"
   ]
  },
  {
   "cell_type": "code",
   "execution_count": 243,
   "id": "68702f3f",
   "metadata": {},
   "outputs": [
    {
     "data": {
      "image/png": "[encoded data removed]",
      "text/plain": [
       "<Figure size 864x864 with 2 Axes>"
      ]
     },
     "metadata": {
      "needs_background": "light"
     },
     "output_type": "display_data"
    }
   ],
   "source": [
    "corr = wine_df.corr() # returns a dataframe with the correlation values\n",
    "matrix = np.triu(corr) # sets all the values of the lower triangle (under the main diagonal) to 0 (= False)\n",
    "\n",
    "fig, ax = plt.subplots(1,1, figsize=(12,12))\n",
    "\n",
    "sns.heatmap(\n",
    "    corr,  # the data for the heatmap\n",
    "    annot=True,  # show the actual values of correlation\n",
    "    cmap='seismic',  # provide the 'seismic' colormap\n",
    "    center=0,  # specify the value at which to center the colormap\n",
    "    fmt='.2g', # specify the format for the annotation \n",
    "    mask=matrix # hides the values where mask = True (= upper triangle)\n",
    "           )\n",
    "plt.show()"
   ]
  },
  {
   "cell_type": "code",
   "execution_count": 244,
   "id": "12d9e1be",
   "metadata": {},
   "outputs": [],
   "source": [
    "# sns.clustermap(corr)"
   ]
  },
  {
   "cell_type": "markdown",
   "id": "fd10fbbb",
   "metadata": {},
   "source": [
    "### Red or white: which is better?"
   ]
  },
  {
   "cell_type": "markdown",
   "id": "3e3f3f73",
   "metadata": {},
   "source": [
    "The mean, median and standard deviations for the `quality` are:\n",
    "\n",
    "```python\n",
    "# White wine\n",
    "white_wine['quality'].mean(), white_wine['quality'].std(), white_wine['quality'].median()\n",
    ">> (5.87790935075541, 0.8856385749678454, 6.0)\n",
    "\n",
    "# Red wine\n",
    "red_wine['quality'].mean(), red_wine['quality'].std(), red_wine['quality'].median()\n",
    ">> (5.6360225140712945, 0.8075694397347023, 6.0)\n",
    "```\n",
    "\n",
    "To answer our question, let's set up a hypothesis test as follows:<br>\n",
    "\n",
    "Null hypothesis - H<sub>0</sub>: $\\mu$<sub>red</sub> = $\\mu$<sub>white</sub><br>\n",
    "Alternative hypothesis - H<sub>A</sub>: $\\mu$<sub>red</sub> $\\neq$ $\\mu$<sub>white</sub><br>\n",
    "Significance level: $\\alpha$ = 0.05<br>\n",
    "\n",
    "As we don't know the population's variance, we should apply a t-test on the means."
   ]
  },
  {
   "cell_type": "code",
   "execution_count": 245,
   "id": "5ed1d678",
   "metadata": {},
   "outputs": [
    {
     "data": {
      "text/plain": [
       "(5.87790935075541, 0.8856385749678454, 6.0)"
      ]
     },
     "execution_count": 245,
     "metadata": {},
     "output_type": "execute_result"
    }
   ],
   "source": [
    "white_wine['quality'].mean(), white_wine['quality'].std(), white_wine['quality'].median()"
   ]
  },
  {
   "cell_type": "code",
   "execution_count": 246,
   "id": "681bf5e4",
   "metadata": {},
   "outputs": [
    {
     "data": {
      "text/plain": [
       "Ttest_indResult(statistic=9.685649554187696, pvalue=4.888069044201508e-22)"
      ]
     },
     "execution_count": 246,
     "metadata": {},
     "output_type": "execute_result"
    }
   ],
   "source": [
    "ttest_ind(white_wine['quality'], red_wine['quality'])"
   ]
  },
  {
   "cell_type": "markdown",
   "id": "9a705f64",
   "metadata": {},
   "source": [
    "With p-value = 4.88$\\cdot$10<sup>-22</sup> < $\\alpha$ = 0.05, there's strong evidence against the null hypothesis. Therefore, the means are different and the white wines performed better than the red wines on average."
   ]
  },
  {
   "cell_type": "markdown",
   "id": "fff6fb60",
   "metadata": {},
   "source": [
    "Kruskal-Wallis\n",
    "\n",
    "H<sub>0</sub>: Median<sub>red</sub> $=$ Median<sub>white</sub><br>\n",
    "H<sub>A</sub>: Median<sub>red</sub> $\\neq$ Median<sub>white</sub><br>\n",
    "$\\alpha =$ 0.05<br>"
   ]
  },
  {
   "cell_type": "code",
   "execution_count": 247,
   "id": "fdf7089d",
   "metadata": {},
   "outputs": [
    {
     "data": {
      "text/plain": [
       "KruskalResult(statistic=98.27897322693157, pvalue=3.6340426705992374e-23)"
      ]
     },
     "execution_count": 247,
     "metadata": {},
     "output_type": "execute_result"
    }
   ],
   "source": [
    "kruskal(white_wine['quality'], red_wine['quality'])"
   ]
  },
  {
   "cell_type": "markdown",
   "id": "59b9dc74",
   "metadata": {},
   "source": [
    "Chi-square"
   ]
  },
  {
   "cell_type": "code",
   "execution_count": 248,
   "id": "39d3e41b",
   "metadata": {},
   "outputs": [
    {
     "data": {
      "text/html": [
       "<div>\n",
       "<style scoped>\n",
       "    .dataframe tbody tr th:only-of-type {\n",
       "        vertical-align: middle;\n",
       "    }\n",
       "\n",
       "    .dataframe tbody tr th {\n",
       "        vertical-align: top;\n",
       "    }\n",
       "\n",
       "    .dataframe thead th {\n",
       "        text-align: right;\n",
       "    }\n",
       "</style>\n",
       "<table border=\"1\" class=\"dataframe\">\n",
       "  <thead>\n",
       "    <tr style=\"text-align: right;\">\n",
       "      <th>quality</th>\n",
       "      <th>3</th>\n",
       "      <th>4</th>\n",
       "      <th>5</th>\n",
       "      <th>6</th>\n",
       "      <th>7</th>\n",
       "      <th>8</th>\n",
       "      <th>9</th>\n",
       "    </tr>\n",
       "    <tr>\n",
       "      <th>quality</th>\n",
       "      <th></th>\n",
       "      <th></th>\n",
       "      <th></th>\n",
       "      <th></th>\n",
       "      <th></th>\n",
       "      <th></th>\n",
       "      <th></th>\n",
       "    </tr>\n",
       "  </thead>\n",
       "  <tbody>\n",
       "    <tr>\n",
       "      <th>3</th>\n",
       "      <td>0</td>\n",
       "      <td>1</td>\n",
       "      <td>3</td>\n",
       "      <td>3</td>\n",
       "      <td>2</td>\n",
       "      <td>1</td>\n",
       "      <td>0</td>\n",
       "    </tr>\n",
       "    <tr>\n",
       "      <th>4</th>\n",
       "      <td>1</td>\n",
       "      <td>4</td>\n",
       "      <td>15</td>\n",
       "      <td>22</td>\n",
       "      <td>10</td>\n",
       "      <td>0</td>\n",
       "      <td>1</td>\n",
       "    </tr>\n",
       "    <tr>\n",
       "      <th>5</th>\n",
       "      <td>2</td>\n",
       "      <td>32</td>\n",
       "      <td>207</td>\n",
       "      <td>286</td>\n",
       "      <td>124</td>\n",
       "      <td>28</td>\n",
       "      <td>2</td>\n",
       "    </tr>\n",
       "    <tr>\n",
       "      <th>6</th>\n",
       "      <td>5</td>\n",
       "      <td>19</td>\n",
       "      <td>197</td>\n",
       "      <td>278</td>\n",
       "      <td>110</td>\n",
       "      <td>28</td>\n",
       "      <td>1</td>\n",
       "    </tr>\n",
       "    <tr>\n",
       "      <th>7</th>\n",
       "      <td>2</td>\n",
       "      <td>8</td>\n",
       "      <td>53</td>\n",
       "      <td>83</td>\n",
       "      <td>45</td>\n",
       "      <td>8</td>\n",
       "      <td>0</td>\n",
       "    </tr>\n",
       "    <tr>\n",
       "      <th>8</th>\n",
       "      <td>0</td>\n",
       "      <td>1</td>\n",
       "      <td>4</td>\n",
       "      <td>8</td>\n",
       "      <td>4</td>\n",
       "      <td>1</td>\n",
       "      <td>0</td>\n",
       "    </tr>\n",
       "  </tbody>\n",
       "</table>\n",
       "</div>"
      ],
      "text/plain": [
       "quality  3   4    5    6    7   8  9\n",
       "quality                             \n",
       "3        0   1    3    3    2   1  0\n",
       "4        1   4   15   22   10   0  1\n",
       "5        2  32  207  286  124  28  2\n",
       "6        5  19  197  278  110  28  1\n",
       "7        2   8   53   83   45   8  0\n",
       "8        0   1    4    8    4   1  0"
      ]
     },
     "execution_count": 248,
     "metadata": {},
     "output_type": "execute_result"
    }
   ],
   "source": [
    "data_crosstab = pd.crosstab(red_wine['quality'],\n",
    "                            white_wine['quality'], \n",
    "                            margins = False)\n",
    "data_crosstab"
   ]
  },
  {
   "cell_type": "code",
   "execution_count": 249,
   "id": "19344c53",
   "metadata": {},
   "outputs": [],
   "source": [
    "#_, p, _, _ = chi2_contingency(data_crosstab)\n",
    "#p"
   ]
  },
  {
   "cell_type": "markdown",
   "id": "d7878dc1",
   "metadata": {},
   "source": [
    "## Modeling"
   ]
  },
  {
   "cell_type": "markdown",
   "id": "23f3bad9",
   "metadata": {},
   "source": [
    "## Linear regression"
   ]
  },
  {
   "cell_type": "code",
   "execution_count": 250,
   "id": "7be3ad7b",
   "metadata": {},
   "outputs": [],
   "source": [
    "X = wine_df.drop('quality', axis=1)\n",
    "y = wine_df['quality']"
   ]
  },
  {
   "cell_type": "code",
   "execution_count": 251,
   "id": "f608d1c1",
   "metadata": {},
   "outputs": [],
   "source": [
    "X_scaled = StandardScaler().fit_transform(X)"
   ]
  },
  {
   "cell_type": "code",
   "execution_count": 252,
   "id": "31613720",
   "metadata": {},
   "outputs": [],
   "source": [
    "X_train, X_test, y_train, y_test = train_test_split(X_scaled, y, test_size=.20, random_state=0)"
   ]
  },
  {
   "cell_type": "code",
   "execution_count": 253,
   "id": "2cc4f5de",
   "metadata": {},
   "outputs": [
    {
     "data": {
      "text/html": [
       "<div>\n",
       "<style scoped>\n",
       "    .dataframe tbody tr th:only-of-type {\n",
       "        vertical-align: middle;\n",
       "    }\n",
       "\n",
       "    .dataframe tbody tr th {\n",
       "        vertical-align: top;\n",
       "    }\n",
       "\n",
       "    .dataframe thead th {\n",
       "        text-align: right;\n",
       "    }\n",
       "</style>\n",
       "<table border=\"1\" class=\"dataframe\">\n",
       "  <thead>\n",
       "    <tr style=\"text-align: right;\">\n",
       "      <th></th>\n",
       "      <th>Attribute</th>\n",
       "      <th>Importance</th>\n",
       "    </tr>\n",
       "  </thead>\n",
       "  <tbody>\n",
       "    <tr>\n",
       "      <th>10</th>\n",
       "      <td>alcohol</td>\n",
       "      <td>0.314005</td>\n",
       "    </tr>\n",
       "    <tr>\n",
       "      <th>1</th>\n",
       "      <td>volatile_acidity</td>\n",
       "      <td>0.214490</td>\n",
       "    </tr>\n",
       "    <tr>\n",
       "      <th>3</th>\n",
       "      <td>residual_sugar</td>\n",
       "      <td>0.211905</td>\n",
       "    </tr>\n",
       "    <tr>\n",
       "      <th>7</th>\n",
       "      <td>density</td>\n",
       "      <td>0.172997</td>\n",
       "    </tr>\n",
       "    <tr>\n",
       "      <th>6</th>\n",
       "      <td>total_sulfur_dioxide</td>\n",
       "      <td>0.138472</td>\n",
       "    </tr>\n",
       "    <tr>\n",
       "      <th>9</th>\n",
       "      <td>sulphates</td>\n",
       "      <td>0.114128</td>\n",
       "    </tr>\n",
       "    <tr>\n",
       "      <th>5</th>\n",
       "      <td>free_sulfur_dioxide</td>\n",
       "      <td>0.100253</td>\n",
       "    </tr>\n",
       "    <tr>\n",
       "      <th>0</th>\n",
       "      <td>fixed_acidity</td>\n",
       "      <td>0.096663</td>\n",
       "    </tr>\n",
       "    <tr>\n",
       "      <th>8</th>\n",
       "      <td>pH</td>\n",
       "      <td>0.077096</td>\n",
       "    </tr>\n",
       "    <tr>\n",
       "      <th>4</th>\n",
       "      <td>chlorides</td>\n",
       "      <td>0.024278</td>\n",
       "    </tr>\n",
       "    <tr>\n",
       "      <th>2</th>\n",
       "      <td>citric_acid</td>\n",
       "      <td>0.016397</td>\n",
       "    </tr>\n",
       "  </tbody>\n",
       "</table>\n",
       "</div>"
      ],
      "text/plain": [
       "               Attribute  Importance\n",
       "10               alcohol    0.314005\n",
       "1       volatile_acidity    0.214490\n",
       "3         residual_sugar    0.211905\n",
       "7                density    0.172997\n",
       "6   total_sulfur_dioxide    0.138472\n",
       "9              sulphates    0.114128\n",
       "5    free_sulfur_dioxide    0.100253\n",
       "0          fixed_acidity    0.096663\n",
       "8                     pH    0.077096\n",
       "4              chlorides    0.024278\n",
       "2            citric_acid    0.016397"
      ]
     },
     "execution_count": 253,
     "metadata": {},
     "output_type": "execute_result"
    }
   ],
   "source": [
    "model=LinearRegression()\n",
    "model.fit(X_train, y_train)\n",
    "\n",
    "features_importances = pd.DataFrame(data={\n",
    "    'Attribute': X.columns,\n",
    "    'Importance': abs(model.coef_)\n",
    "})\n",
    "features_importances = features_importances.sort_values(by='Importance', ascending=False)\n",
    "features_importances"
   ]
  },
  {
   "cell_type": "code",
   "execution_count": 254,
   "id": "97d5b6c0",
   "metadata": {},
   "outputs": [
    {
     "data": {
      "text/plain": [
       "array([ 0.09666312, -0.21449011, -0.01639747,  0.21190512, -0.02427815,\n",
       "        0.10025295, -0.13847187, -0.1729969 ,  0.07709649,  0.11412805,\n",
       "        0.31400492])"
      ]
     },
     "execution_count": 254,
     "metadata": {},
     "output_type": "execute_result"
    }
   ],
   "source": [
    "model.coef_"
   ]
  },
  {
   "cell_type": "markdown",
   "id": "3c46fb23",
   "metadata": {},
   "source": [
    "USE STATSMODEL TO DEFINE THE MOST IMPORTANT VARIABLES"
   ]
  },
  {
   "cell_type": "code",
   "execution_count": 255,
   "id": "70d18a55",
   "metadata": {},
   "outputs": [
    {
     "name": "stdout",
     "output_type": "stream",
     "text": [
      "                            OLS Regression Results                            \n",
      "==============================================================================\n",
      "Dep. Variable:                quality   R-squared:                       0.291\n",
      "Model:                            OLS   Adj. R-squared:                  0.290\n",
      "Method:                 Least Squares   F-statistic:                     193.9\n",
      "Date:                Wed, 17 Nov 2021   Prob (F-statistic):               0.00\n",
      "Time:                        15:27:28   Log-Likelihood:                -5762.1\n",
      "No. Observations:                5197   AIC:                         1.155e+04\n",
      "Df Residuals:                    5185   BIC:                         1.163e+04\n",
      "Df Model:                          11                                         \n",
      "Covariance Type:            nonrobust                                         \n",
      "==============================================================================\n",
      "                 coef    std err          t      P>|t|      [0.025      0.975]\n",
      "------------------------------------------------------------------------------\n",
      "const          5.8220      0.010    571.589      0.000       5.802       5.842\n",
      "x1             0.0967      0.023      4.124      0.000       0.051       0.143\n",
      "x2            -0.2145      0.014    -15.098      0.000      -0.242      -0.187\n",
      "x3            -0.0164      0.013     -1.262      0.207      -0.042       0.009\n",
      "x4             0.2119      0.028      7.559      0.000       0.157       0.267\n",
      "x5            -0.0243      0.013     -1.876      0.061      -0.050       0.001\n",
      "x6             0.1003      0.015      6.800      0.000       0.071       0.129\n",
      "x7            -0.1385      0.017     -7.933      0.000      -0.173      -0.104\n",
      "x8            -0.1730      0.043     -4.001      0.000      -0.258      -0.088\n",
      "x9             0.0771      0.017      4.634      0.000       0.044       0.110\n",
      "x10            0.1141      0.013      9.086      0.000       0.090       0.139\n",
      "x11            0.3140      0.024     13.216      0.000       0.267       0.361\n",
      "==============================================================================\n",
      "Omnibus:                      127.111   Durbin-Watson:                   2.017\n",
      "Prob(Omnibus):                  0.000   Jarque-Bera (JB):              297.787\n",
      "Skew:                          -0.025   Prob(JB):                     2.17e-65\n",
      "Kurtosis:                       4.172   Cond. No.                         10.2\n",
      "==============================================================================\n",
      "\n",
      "Notes:\n",
      "[1] Standard Errors assume that the covariance matrix of the errors is correctly specified.\n"
     ]
    }
   ],
   "source": [
    "X_train_const = sm.add_constant(X_train) # adding a constant\n",
    "\n",
    "model = sm.OLS(y_train, X_train_const)\n",
    "results = model.fit()\n",
    "print(results.summary())"
   ]
  },
  {
   "cell_type": "markdown",
   "id": "fa8aca57",
   "metadata": {},
   "source": [
    "## Logistic regression"
   ]
  },
  {
   "cell_type": "markdown",
   "id": "f62cbd28",
   "metadata": {},
   "source": [
    "**Categorizing the quality score**<br>\n",
    "\n",
    "We can set an arbitrary threshold to classify the wines into 'low quality' e 'high quality'.<br>\n",
    "'Low quality': score lower than 6 - encoded as 0<br>\n",
    "'High quality': score equal or higher than 6 - encoded as 1"
   ]
  },
  {
   "cell_type": "markdown",
   "id": "59c9ff21",
   "metadata": {},
   "source": [
    "RED WINE"
   ]
  },
  {
   "cell_type": "code",
   "execution_count": 256,
   "id": "c6aee4d9",
   "metadata": {
    "scrolled": true
   },
   "outputs": [
    {
     "data": {
      "image/png": "[encoded data removed]",
      "text/plain": [
       "<Figure size 432x288 with 1 Axes>"
      ]
     },
     "metadata": {
      "needs_background": "light"
     },
     "output_type": "display_data"
    }
   ],
   "source": [
    "red_wine['quality_categorized'] = red_wine['quality'].apply(lambda x: 0 if x < 6 else 1)\n",
    "red_wine['quality_categorized'].value_counts(normalize=True).plot.bar(rot=0, color='#722F37')\n",
    "plt.title('Proportion of good and bad wines')\n",
    "plt.show()"
   ]
  },
  {
   "cell_type": "markdown",
   "id": "3e8cc9af",
   "metadata": {},
   "source": [
    "X/y split"
   ]
  },
  {
   "cell_type": "code",
   "execution_count": 257,
   "id": "da4b0b92",
   "metadata": {},
   "outputs": [],
   "source": [
    "X = red_wine.drop(['quality', 'quality_categorized'], axis=1)\n",
    "y = red_wine['quality_categorized']"
   ]
  },
  {
   "cell_type": "markdown",
   "id": "f087039c",
   "metadata": {},
   "source": [
    "Train/test split"
   ]
  },
  {
   "cell_type": "code",
   "execution_count": 258,
   "id": "895bf64a",
   "metadata": {},
   "outputs": [],
   "source": [
    "X_train, X_test, y_train, y_test = train_test_split(X, y, test_size=.20, random_state=0)"
   ]
  },
  {
   "cell_type": "markdown",
   "id": "9e275d38",
   "metadata": {},
   "source": [
    "Standardize data"
   ]
  },
  {
   "cell_type": "code",
   "execution_count": 259,
   "id": "46fee74f",
   "metadata": {},
   "outputs": [],
   "source": [
    "X_train_scaled = StandardScaler().fit_transform(X_train)\n",
    "X_test_scaled = StandardScaler().fit_transform(X_test)"
   ]
  },
  {
   "cell_type": "markdown",
   "id": "ab9e1604",
   "metadata": {},
   "source": [
    "Apply regression"
   ]
  },
  {
   "cell_type": "code",
   "execution_count": 260,
   "id": "5e71d566",
   "metadata": {},
   "outputs": [
    {
     "name": "stdout",
     "output_type": "stream",
     "text": [
      "Optimization terminated successfully.\n",
      "         Current function value: 0.524865\n",
      "         Iterations 6\n",
      "                            Logit Regression Results                           \n",
      "===============================================================================\n",
      "Dep. Variable:     quality_categorized   No. Observations:                 1279\n",
      "Model:                           Logit   Df Residuals:                     1268\n",
      "Method:                            MLE   Df Model:                           10\n",
      "Date:                 Wed, 17 Nov 2021   Pseudo R-squ.:                  0.2402\n",
      "Time:                         15:27:28   Log-Likelihood:                -671.30\n",
      "converged:                        True   LL-Null:                       -883.57\n",
      "Covariance Type:             nonrobust   LLR p-value:                 5.590e-85\n",
      "==============================================================================\n",
      "                 coef    std err          z      P>|z|      [0.025      0.975]\n",
      "------------------------------------------------------------------------------\n",
      "x1             0.2372      0.186      1.278      0.201      -0.127       0.601\n",
      "x2            -0.5958      0.099     -6.037      0.000      -0.789      -0.402\n",
      "x3            -0.2689      0.122     -2.209      0.027      -0.507      -0.030\n",
      "x4             0.1204      0.086      1.407      0.159      -0.047       0.288\n",
      "x5            -0.1959      0.084     -2.341      0.019      -0.360      -0.032\n",
      "x6             0.1753      0.096      1.826      0.068      -0.013       0.363\n",
      "x7            -0.5422      0.107     -5.049      0.000      -0.753      -0.332\n",
      "x8            -0.0866      0.166     -0.521      0.603      -0.413       0.239\n",
      "x9            -0.0455      0.122     -0.374      0.708      -0.284       0.193\n",
      "x10            0.4947      0.084      5.855      0.000       0.329       0.660\n",
      "x11            0.8644      0.119      7.261      0.000       0.631       1.098\n",
      "==============================================================================\n"
     ]
    }
   ],
   "source": [
    "#X_train_const = sm.add_constant(X_train_scaled)\n",
    "log_reg = sm.Logit(y_train, X_train_scaled)\n",
    "results = log_reg.fit()\n",
    "\n",
    "print(results.summary())"
   ]
  },
  {
   "cell_type": "markdown",
   "id": "a3bee0b2",
   "metadata": {},
   "source": [
    "Check model"
   ]
  },
  {
   "cell_type": "code",
   "execution_count": 262,
   "id": "51778fe1",
   "metadata": {
    "scrolled": true
   },
   "outputs": [
    {
     "ename": "NameError",
     "evalue": "name 'prediction' is not defined",
     "output_type": "error",
     "traceback": [
      "\u001b[1;31m---------------------------------------------------------------------------\u001b[0m",
      "\u001b[1;31mNameError\u001b[0m                                 Traceback (most recent call last)",
      "\u001b[1;32m~\\AppData\\Local\\Temp/ipykernel_17896/2741263594.py\u001b[0m in \u001b[0;36m<module>\u001b[1;34m\u001b[0m\n\u001b[0;32m      6\u001b[0m \u001b[1;33m\u001b[0m\u001b[0m\n\u001b[0;32m      7\u001b[0m \u001b[1;31m# Performance metrics\u001b[0m\u001b[1;33m\u001b[0m\u001b[1;33m\u001b[0m\u001b[1;33m\u001b[0m\u001b[0m\n\u001b[1;32m----> 8\u001b[1;33m \u001b[0maccuracy\u001b[0m \u001b[1;33m=\u001b[0m \u001b[0mmetrics\u001b[0m\u001b[1;33m.\u001b[0m\u001b[0maccuracy_score\u001b[0m\u001b[1;33m(\u001b[0m\u001b[0mprediction\u001b[0m\u001b[1;33m,\u001b[0m \u001b[0my_test\u001b[0m\u001b[1;33m)\u001b[0m\u001b[1;33m\u001b[0m\u001b[1;33m\u001b[0m\u001b[0m\n\u001b[0m\u001b[0;32m      9\u001b[0m \u001b[0mrecall\u001b[0m \u001b[1;33m=\u001b[0m \u001b[0mmetrics\u001b[0m\u001b[1;33m.\u001b[0m\u001b[0mrecall_score\u001b[0m\u001b[1;33m(\u001b[0m\u001b[0mprediction\u001b[0m\u001b[1;33m,\u001b[0m \u001b[0my_test\u001b[0m\u001b[1;33m)\u001b[0m\u001b[1;33m\u001b[0m\u001b[1;33m\u001b[0m\u001b[0m\n\u001b[0;32m     10\u001b[0m \u001b[1;33m\u001b[0m\u001b[0m\n",
      "\u001b[1;31mNameError\u001b[0m: name 'prediction' is not defined"
     ]
    }
   ],
   "source": [
    "# Add a constant\n",
    "X_test_const = sm.add_constant(X_test_scaled)\n",
    "\n",
    "# Return float values between 0 and 1, so we round and convert them to int\n",
    "y_hat = results.predict(X_test_scaled).round().astype(int)  \n",
    "\n",
    "# Performance metrics\n",
    "accuracy = metrics.accuracy_score(prediction, y_test)\n",
    "recall = metrics.recall_score(prediction, y_test)\n",
    "\n",
    "print('Accuracy: {:.4f}\\nRecall: {:.4f}'.format(accuracy, recall))"
   ]
  },
  {
   "cell_type": "code",
   "execution_count": 263,
   "id": "90bc9dc6",
   "metadata": {},
   "outputs": [
    {
     "ename": "NameError",
     "evalue": "name 'prediction' is not defined",
     "output_type": "error",
     "traceback": [
      "\u001b[1;31m---------------------------------------------------------------------------\u001b[0m",
      "\u001b[1;31mNameError\u001b[0m                                 Traceback (most recent call last)",
      "\u001b[1;32m~\\AppData\\Local\\Temp/ipykernel_17896/473763611.py\u001b[0m in \u001b[0;36m<module>\u001b[1;34m\u001b[0m\n\u001b[1;32m----> 1\u001b[1;33m \u001b[0mpd\u001b[0m\u001b[1;33m.\u001b[0m\u001b[0mDataFrame\u001b[0m\u001b[1;33m(\u001b[0m\u001b[0mconfusion_matrix\u001b[0m\u001b[1;33m(\u001b[0m\u001b[0mprediction\u001b[0m\u001b[1;33m,\u001b[0m\u001b[0my_test\u001b[0m\u001b[1;33m)\u001b[0m\u001b[1;33m)\u001b[0m\u001b[1;33m\u001b[0m\u001b[1;33m\u001b[0m\u001b[0m\n\u001b[0m",
      "\u001b[1;31mNameError\u001b[0m: name 'prediction' is not defined"
     ]
    }
   ],
   "source": [
    "pd.DataFrame(confusion_matrix(prediction,y_test))"
   ]
  },
  {
   "cell_type": "code",
   "execution_count": 264,
   "id": "5914a4d8",
   "metadata": {
    "scrolled": false
   },
   "outputs": [],
   "source": [
    "#X_train_const = sm.add_constant(X_train_scaled)\n",
    "\n",
    "#log_reg = sm.Logit(y_train, X_train_scaled)\n",
    "#results = log_reg.fit()\n",
    "#print(results.summary())"
   ]
  },
  {
   "cell_type": "code",
   "execution_count": 265,
   "id": "21896eea",
   "metadata": {},
   "outputs": [
    {
     "data": {
      "text/plain": [
       "LogisticRegression(penalty='none')"
      ]
     },
     "execution_count": 265,
     "metadata": {},
     "output_type": "execute_result"
    }
   ],
   "source": [
    "log_reg = LogisticRegression(penalty='none')\n",
    "log_reg.fit(X_train_scaled, y_train)"
   ]
  },
  {
   "cell_type": "code",
   "execution_count": 266,
   "id": "c82f9aa1",
   "metadata": {},
   "outputs": [
    {
     "data": {
      "text/plain": [
       "(0.7625, 0.7926829268292683)"
      ]
     },
     "execution_count": 266,
     "metadata": {},
     "output_type": "execute_result"
    }
   ],
   "source": [
    "y_hat = log_reg.predict(X_test_scaled)\n",
    "\n",
    "accuracy = metrics.accuracy_score(y_hat,y_test)\n",
    "recall = metrics.recall_score(y_hat,y_test)\n",
    "\n",
    "(accuracy, recall)"
   ]
  },
  {
   "cell_type": "code",
   "execution_count": 267,
   "id": "216555f6",
   "metadata": {},
   "outputs": [
    {
     "data": {
      "text/html": [
       "<div>\n",
       "<style scoped>\n",
       "    .dataframe tbody tr th:only-of-type {\n",
       "        vertical-align: middle;\n",
       "    }\n",
       "\n",
       "    .dataframe tbody tr th {\n",
       "        vertical-align: top;\n",
       "    }\n",
       "\n",
       "    .dataframe thead th {\n",
       "        text-align: right;\n",
       "    }\n",
       "</style>\n",
       "<table border=\"1\" class=\"dataframe\">\n",
       "  <thead>\n",
       "    <tr style=\"text-align: right;\">\n",
       "      <th></th>\n",
       "      <th>0</th>\n",
       "      <th>1</th>\n",
       "    </tr>\n",
       "  </thead>\n",
       "  <tbody>\n",
       "    <tr>\n",
       "      <th>0</th>\n",
       "      <td>114</td>\n",
       "      <td>42</td>\n",
       "    </tr>\n",
       "    <tr>\n",
       "      <th>1</th>\n",
       "      <td>34</td>\n",
       "      <td>130</td>\n",
       "    </tr>\n",
       "  </tbody>\n",
       "</table>\n",
       "</div>"
      ],
      "text/plain": [
       "     0    1\n",
       "0  114   42\n",
       "1   34  130"
      ]
     },
     "execution_count": 267,
     "metadata": {},
     "output_type": "execute_result"
    }
   ],
   "source": [
    "cm = pd.DataFrame(confusion_matrix(y_hat,y_test))\n",
    "cm"
   ]
  },
  {
   "cell_type": "markdown",
   "id": "0ba9b808",
   "metadata": {},
   "source": [
    "Define most important variables"
   ]
  },
  {
   "cell_type": "markdown",
   "id": "7939767b",
   "metadata": {},
   "source": [
    "Improve model"
   ]
  },
  {
   "cell_type": "code",
   "execution_count": 268,
   "id": "b9507acd",
   "metadata": {},
   "outputs": [],
   "source": [
    "def model_improvement():\n",
    "    \n",
    "    columns_to_keep = X.columns[results.pvalues[1:] < 0.05]\n",
    "    X_train, X_test, y_train, y_test = train_test_split(new_X_scaled, y, test_size=.20, random_state=0)\n",
    "    new_X = X[columns_to_keep]\n",
    "    new_X_scaled = StandardScaler().fit_transform(new_X)\n",
    "    \n",
    "    log_reg = LogisticRegression(penalty='none')\n",
    "    log_reg.fit(X_train, y_train)\n",
    "    y_hat = log_reg.predict(X_test)\n",
    "    acc = metrics.accuracy_score(y_hat,y_test)\n",
    "    cm = confusion_matrix(y_hat,y_test)\n",
    "       \n",
    "    return acc, pd.DataFrame(cm), new_X, X_train"
   ]
  },
  {
   "cell_type": "code",
   "execution_count": 269,
   "id": "abc7ccb1",
   "metadata": {},
   "outputs": [],
   "source": [
    "#def performance_metrics():\n",
    "#    \n",
    "#    y_hat = log_reg.predict(X_test)\n",
    "#    acc = metrics.accuracy_score(y_hat,y_test)\n",
    "#    recall = metrics.recall_score(y_hat,y_test)\n",
    "#    cm = confusion_matrix(y_hat,y_test)"
   ]
  },
  {
   "cell_type": "code",
   "execution_count": 270,
   "id": "ea266949",
   "metadata": {},
   "outputs": [
    {
     "ename": "IndexError",
     "evalue": "boolean index did not match indexed array along dimension 0; dimension is 11 but corresponding boolean dimension is 10",
     "output_type": "error",
     "traceback": [
      "\u001b[1;31m---------------------------------------------------------------------------\u001b[0m",
      "\u001b[1;31mIndexError\u001b[0m                                Traceback (most recent call last)",
      "\u001b[1;32m~\\AppData\\Local\\Temp/ipykernel_17896/558133195.py\u001b[0m in \u001b[0;36m<module>\u001b[1;34m\u001b[0m\n\u001b[0;32m      1\u001b[0m \u001b[1;31m# Removing variables with p > 0.05:\u001b[0m\u001b[1;33m\u001b[0m\u001b[1;33m\u001b[0m\u001b[1;33m\u001b[0m\u001b[0m\n\u001b[0;32m      2\u001b[0m \u001b[1;33m\u001b[0m\u001b[0m\n\u001b[1;32m----> 3\u001b[1;33m \u001b[0macc\u001b[0m\u001b[1;33m,\u001b[0m \u001b[0mcm\u001b[0m\u001b[1;33m,\u001b[0m \u001b[0mX\u001b[0m\u001b[1;33m,\u001b[0m \u001b[0mX_train\u001b[0m \u001b[1;33m=\u001b[0m \u001b[0mmodel_improvement\u001b[0m\u001b[1;33m(\u001b[0m\u001b[1;33m)\u001b[0m\u001b[1;33m\u001b[0m\u001b[1;33m\u001b[0m\u001b[0m\n\u001b[0m",
      "\u001b[1;32m~\\AppData\\Local\\Temp/ipykernel_17896/2548446885.py\u001b[0m in \u001b[0;36mmodel_improvement\u001b[1;34m()\u001b[0m\n\u001b[0;32m      1\u001b[0m \u001b[1;32mdef\u001b[0m \u001b[0mmodel_improvement\u001b[0m\u001b[1;33m(\u001b[0m\u001b[1;33m)\u001b[0m\u001b[1;33m:\u001b[0m\u001b[1;33m\u001b[0m\u001b[1;33m\u001b[0m\u001b[0m\n\u001b[0;32m      2\u001b[0m \u001b[1;33m\u001b[0m\u001b[0m\n\u001b[1;32m----> 3\u001b[1;33m     \u001b[0mcolumns_to_keep\u001b[0m \u001b[1;33m=\u001b[0m \u001b[0mX\u001b[0m\u001b[1;33m.\u001b[0m\u001b[0mcolumns\u001b[0m\u001b[1;33m[\u001b[0m\u001b[0mresults\u001b[0m\u001b[1;33m.\u001b[0m\u001b[0mpvalues\u001b[0m\u001b[1;33m[\u001b[0m\u001b[1;36m1\u001b[0m\u001b[1;33m:\u001b[0m\u001b[1;33m]\u001b[0m \u001b[1;33m<\u001b[0m \u001b[1;36m0.05\u001b[0m\u001b[1;33m]\u001b[0m\u001b[1;33m\u001b[0m\u001b[1;33m\u001b[0m\u001b[0m\n\u001b[0m\u001b[0;32m      4\u001b[0m     \u001b[0mX_train\u001b[0m\u001b[1;33m,\u001b[0m \u001b[0mX_test\u001b[0m\u001b[1;33m,\u001b[0m \u001b[0my_train\u001b[0m\u001b[1;33m,\u001b[0m \u001b[0my_test\u001b[0m \u001b[1;33m=\u001b[0m \u001b[0mtrain_test_split\u001b[0m\u001b[1;33m(\u001b[0m\u001b[0mnew_X_scaled\u001b[0m\u001b[1;33m,\u001b[0m \u001b[0my\u001b[0m\u001b[1;33m,\u001b[0m \u001b[0mtest_size\u001b[0m\u001b[1;33m=\u001b[0m\u001b[1;36m.20\u001b[0m\u001b[1;33m,\u001b[0m \u001b[0mrandom_state\u001b[0m\u001b[1;33m=\u001b[0m\u001b[1;36m0\u001b[0m\u001b[1;33m)\u001b[0m\u001b[1;33m\u001b[0m\u001b[1;33m\u001b[0m\u001b[0m\n\u001b[0;32m      5\u001b[0m     \u001b[0mnew_X\u001b[0m \u001b[1;33m=\u001b[0m \u001b[0mX\u001b[0m\u001b[1;33m[\u001b[0m\u001b[0mcolumns_to_keep\u001b[0m\u001b[1;33m]\u001b[0m\u001b[1;33m\u001b[0m\u001b[1;33m\u001b[0m\u001b[0m\n",
      "\u001b[1;32m~\\anaconda3\\envs\\DA_Envi_new\\lib\\site-packages\\pandas\\core\\indexes\\base.py\u001b[0m in \u001b[0;36m__getitem__\u001b[1;34m(self, key)\u001b[0m\n\u001b[0;32m   4614\u001b[0m             \u001b[0mkey\u001b[0m \u001b[1;33m=\u001b[0m \u001b[0mnp\u001b[0m\u001b[1;33m.\u001b[0m\u001b[0masarray\u001b[0m\u001b[1;33m(\u001b[0m\u001b[0mkey\u001b[0m\u001b[1;33m,\u001b[0m \u001b[0mdtype\u001b[0m\u001b[1;33m=\u001b[0m\u001b[0mbool\u001b[0m\u001b[1;33m)\u001b[0m\u001b[1;33m\u001b[0m\u001b[1;33m\u001b[0m\u001b[0m\n\u001b[0;32m   4615\u001b[0m \u001b[1;33m\u001b[0m\u001b[0m\n\u001b[1;32m-> 4616\u001b[1;33m         \u001b[0mresult\u001b[0m \u001b[1;33m=\u001b[0m \u001b[0mgetitem\u001b[0m\u001b[1;33m(\u001b[0m\u001b[0mkey\u001b[0m\u001b[1;33m)\u001b[0m\u001b[1;33m\u001b[0m\u001b[1;33m\u001b[0m\u001b[0m\n\u001b[0m\u001b[0;32m   4617\u001b[0m         \u001b[1;32mif\u001b[0m \u001b[1;32mnot\u001b[0m \u001b[0mis_scalar\u001b[0m\u001b[1;33m(\u001b[0m\u001b[0mresult\u001b[0m\u001b[1;33m)\u001b[0m\u001b[1;33m:\u001b[0m\u001b[1;33m\u001b[0m\u001b[1;33m\u001b[0m\u001b[0m\n\u001b[0;32m   4618\u001b[0m             \u001b[1;31m# error: Argument 1 to \"ndim\" has incompatible type \"Union[ExtensionArray,\u001b[0m\u001b[1;33m\u001b[0m\u001b[1;33m\u001b[0m\u001b[1;33m\u001b[0m\u001b[0m\n",
      "\u001b[1;31mIndexError\u001b[0m: boolean index did not match indexed array along dimension 0; dimension is 11 but corresponding boolean dimension is 10"
     ]
    }
   ],
   "source": [
    "# Removing variables with p > 0.05:\n",
    "\n",
    "acc, cm, X, X_train = model_improvement()"
   ]
  },
  {
   "cell_type": "code",
   "execution_count": 271,
   "id": "3832c1e7",
   "metadata": {},
   "outputs": [
    {
     "data": {
      "text/plain": [
       "(0.7338461538461538,\n",
       "      0    1\n",
       " 0  114   42\n",
       " 1   34  130)"
      ]
     },
     "execution_count": 271,
     "metadata": {},
     "output_type": "execute_result"
    }
   ],
   "source": [
    "acc, cm"
   ]
  },
  {
   "cell_type": "code",
   "execution_count": 272,
   "id": "c0c7da39",
   "metadata": {},
   "outputs": [
    {
     "name": "stdout",
     "output_type": "stream",
     "text": [
      "Optimization terminated successfully.\n",
      "         Current function value: 0.520224\n",
      "         Iterations 7\n",
      "                            Logit Regression Results                           \n",
      "===============================================================================\n",
      "Dep. Variable:     quality_categorized   No. Observations:                 1279\n",
      "Model:                           Logit   Df Residuals:                     1267\n",
      "Method:                            MLE   Df Model:                           11\n",
      "Date:                 Wed, 17 Nov 2021   Pseudo R-squ.:                  0.2470\n",
      "Time:                         15:27:36   Log-Likelihood:                -665.37\n",
      "converged:                        True   LL-Null:                       -883.57\n",
      "Covariance Type:             nonrobust   LLR p-value:                 1.118e-86\n",
      "========================================================================================\n",
      "                           coef    std err          z      P>|z|      [0.025      0.975]\n",
      "----------------------------------------------------------------------------------------\n",
      "const                   59.0015     87.805      0.672      0.502    -113.093     231.096\n",
      "fixed_acidity            0.1523      0.109      1.396      0.163      -0.062       0.366\n",
      "volatile_acidity        -3.2077      0.532     -6.029      0.000      -4.250      -2.165\n",
      "citric_acid             -1.2885      0.622     -2.072      0.038      -2.507      -0.070\n",
      "residual_sugar           0.0873      0.059      1.481      0.139      -0.028       0.203\n",
      "chlorides               -4.1606      1.735     -2.398      0.016      -7.561      -0.760\n",
      "free_sulfur_dioxide      0.0155      0.009      1.706      0.088      -0.002       0.033\n",
      "total_sulfur_dioxide    -0.0153      0.003     -4.930      0.000      -0.021      -0.009\n",
      "density                -67.3164     89.656     -0.751      0.453    -243.038     108.405\n",
      "pH                      -0.2834      0.799     -0.355      0.723      -1.849       1.282\n",
      "sulphates                2.8957      0.499      5.800      0.000       1.917       3.874\n",
      "alcohol                  0.8408      0.115      7.315      0.000       0.616       1.066\n",
      "========================================================================================\n"
     ]
    }
   ],
   "source": [
    "X_train_const = sm.add_constant(X_train)\n",
    "\n",
    "log_reg = sm.Logit(y_train, X_train_const)\n",
    "results = log_reg.fit()\n",
    "print(results.summary())"
   ]
  },
  {
   "cell_type": "code",
   "execution_count": 273,
   "id": "4c60833f",
   "metadata": {},
   "outputs": [
    {
     "ename": "UnboundLocalError",
     "evalue": "local variable 'new_X_scaled' referenced before assignment",
     "output_type": "error",
     "traceback": [
      "\u001b[1;31m---------------------------------------------------------------------------\u001b[0m",
      "\u001b[1;31mUnboundLocalError\u001b[0m                         Traceback (most recent call last)",
      "\u001b[1;32m~\\AppData\\Local\\Temp/ipykernel_17896/3246274250.py\u001b[0m in \u001b[0;36m<module>\u001b[1;34m\u001b[0m\n\u001b[1;32m----> 1\u001b[1;33m \u001b[0macc\u001b[0m\u001b[1;33m,\u001b[0m \u001b[0mcm\u001b[0m\u001b[1;33m,\u001b[0m \u001b[0mX\u001b[0m\u001b[1;33m,\u001b[0m \u001b[0mX_train\u001b[0m \u001b[1;33m=\u001b[0m \u001b[0mmodel_improvement\u001b[0m\u001b[1;33m(\u001b[0m\u001b[1;33m)\u001b[0m\u001b[1;33m\u001b[0m\u001b[1;33m\u001b[0m\u001b[0m\n\u001b[0m",
      "\u001b[1;32m~\\AppData\\Local\\Temp/ipykernel_17896/2548446885.py\u001b[0m in \u001b[0;36mmodel_improvement\u001b[1;34m()\u001b[0m\n\u001b[0;32m      2\u001b[0m \u001b[1;33m\u001b[0m\u001b[0m\n\u001b[0;32m      3\u001b[0m     \u001b[0mcolumns_to_keep\u001b[0m \u001b[1;33m=\u001b[0m \u001b[0mX\u001b[0m\u001b[1;33m.\u001b[0m\u001b[0mcolumns\u001b[0m\u001b[1;33m[\u001b[0m\u001b[0mresults\u001b[0m\u001b[1;33m.\u001b[0m\u001b[0mpvalues\u001b[0m\u001b[1;33m[\u001b[0m\u001b[1;36m1\u001b[0m\u001b[1;33m:\u001b[0m\u001b[1;33m]\u001b[0m \u001b[1;33m<\u001b[0m \u001b[1;36m0.05\u001b[0m\u001b[1;33m]\u001b[0m\u001b[1;33m\u001b[0m\u001b[1;33m\u001b[0m\u001b[0m\n\u001b[1;32m----> 4\u001b[1;33m     \u001b[0mX_train\u001b[0m\u001b[1;33m,\u001b[0m \u001b[0mX_test\u001b[0m\u001b[1;33m,\u001b[0m \u001b[0my_train\u001b[0m\u001b[1;33m,\u001b[0m \u001b[0my_test\u001b[0m \u001b[1;33m=\u001b[0m \u001b[0mtrain_test_split\u001b[0m\u001b[1;33m(\u001b[0m\u001b[0mnew_X_scaled\u001b[0m\u001b[1;33m,\u001b[0m \u001b[0my\u001b[0m\u001b[1;33m,\u001b[0m \u001b[0mtest_size\u001b[0m\u001b[1;33m=\u001b[0m\u001b[1;36m.20\u001b[0m\u001b[1;33m,\u001b[0m \u001b[0mrandom_state\u001b[0m\u001b[1;33m=\u001b[0m\u001b[1;36m0\u001b[0m\u001b[1;33m)\u001b[0m\u001b[1;33m\u001b[0m\u001b[1;33m\u001b[0m\u001b[0m\n\u001b[0m\u001b[0;32m      5\u001b[0m     \u001b[0mnew_X\u001b[0m \u001b[1;33m=\u001b[0m \u001b[0mX\u001b[0m\u001b[1;33m[\u001b[0m\u001b[0mcolumns_to_keep\u001b[0m\u001b[1;33m]\u001b[0m\u001b[1;33m\u001b[0m\u001b[1;33m\u001b[0m\u001b[0m\n\u001b[0;32m      6\u001b[0m     \u001b[0mnew_X_scaled\u001b[0m \u001b[1;33m=\u001b[0m \u001b[0mStandardScaler\u001b[0m\u001b[1;33m(\u001b[0m\u001b[1;33m)\u001b[0m\u001b[1;33m.\u001b[0m\u001b[0mfit_transform\u001b[0m\u001b[1;33m(\u001b[0m\u001b[0mnew_X\u001b[0m\u001b[1;33m)\u001b[0m\u001b[1;33m\u001b[0m\u001b[1;33m\u001b[0m\u001b[0m\n",
      "\u001b[1;31mUnboundLocalError\u001b[0m: local variable 'new_X_scaled' referenced before assignment"
     ]
    }
   ],
   "source": [
    "acc, cm, X, X_train = model_improvement()"
   ]
  },
  {
   "cell_type": "code",
   "execution_count": 274,
   "id": "2c70235d",
   "metadata": {},
   "outputs": [
    {
     "data": {
      "text/plain": [
       "0.7338461538461538"
      ]
     },
     "execution_count": 274,
     "metadata": {},
     "output_type": "execute_result"
    }
   ],
   "source": [
    "#decreased from the last iteration\n",
    "acc"
   ]
  },
  {
   "cell_type": "code",
   "execution_count": 275,
   "id": "704ba06a",
   "metadata": {},
   "outputs": [
    {
     "data": {
      "text/html": [
       "<div>\n",
       "<style scoped>\n",
       "    .dataframe tbody tr th:only-of-type {\n",
       "        vertical-align: middle;\n",
       "    }\n",
       "\n",
       "    .dataframe tbody tr th {\n",
       "        vertical-align: top;\n",
       "    }\n",
       "\n",
       "    .dataframe thead th {\n",
       "        text-align: right;\n",
       "    }\n",
       "</style>\n",
       "<table border=\"1\" class=\"dataframe\">\n",
       "  <thead>\n",
       "    <tr style=\"text-align: right;\">\n",
       "      <th></th>\n",
       "      <th>0</th>\n",
       "      <th>1</th>\n",
       "    </tr>\n",
       "  </thead>\n",
       "  <tbody>\n",
       "    <tr>\n",
       "      <th>0</th>\n",
       "      <td>114</td>\n",
       "      <td>42</td>\n",
       "    </tr>\n",
       "    <tr>\n",
       "      <th>1</th>\n",
       "      <td>34</td>\n",
       "      <td>130</td>\n",
       "    </tr>\n",
       "  </tbody>\n",
       "</table>\n",
       "</div>"
      ],
      "text/plain": [
       "     0    1\n",
       "0  114   42\n",
       "1   34  130"
      ]
     },
     "execution_count": 275,
     "metadata": {},
     "output_type": "execute_result"
    }
   ],
   "source": [
    "cm"
   ]
  },
  {
   "cell_type": "code",
   "execution_count": 276,
   "id": "9dbb083f",
   "metadata": {},
   "outputs": [
    {
     "name": "stdout",
     "output_type": "stream",
     "text": [
      "Optimization terminated successfully.\n",
      "         Current function value: 0.520224\n",
      "         Iterations 7\n",
      "                            Logit Regression Results                           \n",
      "===============================================================================\n",
      "Dep. Variable:     quality_categorized   No. Observations:                 1279\n",
      "Model:                           Logit   Df Residuals:                     1267\n",
      "Method:                            MLE   Df Model:                           11\n",
      "Date:                 Wed, 17 Nov 2021   Pseudo R-squ.:                  0.2470\n",
      "Time:                         15:27:37   Log-Likelihood:                -665.37\n",
      "converged:                        True   LL-Null:                       -883.57\n",
      "Covariance Type:             nonrobust   LLR p-value:                 1.118e-86\n",
      "========================================================================================\n",
      "                           coef    std err          z      P>|z|      [0.025      0.975]\n",
      "----------------------------------------------------------------------------------------\n",
      "const                   59.0015     87.805      0.672      0.502    -113.093     231.096\n",
      "fixed_acidity            0.1523      0.109      1.396      0.163      -0.062       0.366\n",
      "volatile_acidity        -3.2077      0.532     -6.029      0.000      -4.250      -2.165\n",
      "citric_acid             -1.2885      0.622     -2.072      0.038      -2.507      -0.070\n",
      "residual_sugar           0.0873      0.059      1.481      0.139      -0.028       0.203\n",
      "chlorides               -4.1606      1.735     -2.398      0.016      -7.561      -0.760\n",
      "free_sulfur_dioxide      0.0155      0.009      1.706      0.088      -0.002       0.033\n",
      "total_sulfur_dioxide    -0.0153      0.003     -4.930      0.000      -0.021      -0.009\n",
      "density                -67.3164     89.656     -0.751      0.453    -243.038     108.405\n",
      "pH                      -0.2834      0.799     -0.355      0.723      -1.849       1.282\n",
      "sulphates                2.8957      0.499      5.800      0.000       1.917       3.874\n",
      "alcohol                  0.8408      0.115      7.315      0.000       0.616       1.066\n",
      "========================================================================================\n"
     ]
    }
   ],
   "source": [
    "X_train_const = sm.add_constant(X_train)\n",
    "\n",
    "log_reg = sm.Logit(y_train, X_train_const)\n",
    "results = log_reg.fit()\n",
    "print(results.summary())"
   ]
  },
  {
   "cell_type": "code",
   "execution_count": 277,
   "id": "e9f10bfc",
   "metadata": {},
   "outputs": [
    {
     "data": {
      "text/plain": [
       "Index(['volatile_acidity', 'citric_acid', 'chlorides', 'total_sulfur_dioxide',\n",
       "       'sulphates', 'alcohol'],\n",
       "      dtype='object')"
      ]
     },
     "execution_count": 277,
     "metadata": {},
     "output_type": "execute_result"
    }
   ],
   "source": [
    "X.columns[results.pvalues[1:] < 0.05]"
   ]
  },
  {
   "cell_type": "code",
   "execution_count": 278,
   "id": "c4fa64fb",
   "metadata": {},
   "outputs": [
    {
     "data": {
      "text/plain": [
       "array([ 1.52347259e-01, -3.20770753e+00, -1.28849501e+00,  8.73152510e-02,\n",
       "       -4.16063319e+00,  1.55298653e-02, -1.53425151e-02, -6.73163728e+01,\n",
       "       -2.83365676e-01,  2.89572412e+00,  8.40837201e-01])"
      ]
     },
     "execution_count": 278,
     "metadata": {},
     "output_type": "execute_result"
    }
   ],
   "source": [
    "results.params[1:].values"
   ]
  },
  {
   "cell_type": "code",
   "execution_count": 279,
   "id": "a3ab4d0f",
   "metadata": {
    "scrolled": true
   },
   "outputs": [
    {
     "data": {
      "text/plain": [
       "<AxesSubplot:xlabel='Importance', ylabel='Attribute'>"
      ]
     },
     "execution_count": 279,
     "metadata": {},
     "output_type": "execute_result"
    },
    {
     "data": {
      "image/png": "[encoded data removed]",
      "text/plain": [
       "<Figure size 432x288 with 1 Axes>"
      ]
     },
     "metadata": {
      "needs_background": "light"
     },
     "output_type": "display_data"
    }
   ],
   "source": [
    "a = results.params[1:].values\n",
    "\n",
    "features_importances = pd.DataFrame(data={\n",
    "    'Attribute': X.columns,\n",
    "    'Importance': abs(a)\n",
    "})\n",
    "features_importances = features_importances.sort_values(by='Importance', ascending=False)\n",
    "\n",
    "\n",
    "sns.barplot(x = 'Importance', y = 'Attribute', data = features_importances)"
   ]
  },
  {
   "cell_type": "code",
   "execution_count": 280,
   "id": "9cbd83db",
   "metadata": {},
   "outputs": [
    {
     "data": {
      "text/plain": [
       "0.7926829268292683"
      ]
     },
     "execution_count": 280,
     "metadata": {},
     "output_type": "execute_result"
    }
   ],
   "source": [
    "metrics.recall_score(y_hat,y_test)"
   ]
  },
  {
   "cell_type": "markdown",
   "id": "d1501cf1",
   "metadata": {},
   "source": [
    "WHITE WINE"
   ]
  },
  {
   "cell_type": "code",
   "execution_count": 281,
   "id": "d8590c7e",
   "metadata": {},
   "outputs": [
    {
     "data": {
      "image/png": "[encoded data removed]",
      "text/plain": [
       "<Figure size 432x288 with 1 Axes>"
      ]
     },
     "metadata": {
      "needs_background": "light"
     },
     "output_type": "display_data"
    }
   ],
   "source": [
    "white_wine['quality_categorized'] = white_wine['quality'].apply(lambda x: 0 if x < 6 else 1)\n",
    "white_wine['quality_categorized'].value_counts(normalize=True).plot.bar(rot=0, color='#EEEDC4')\n",
    "plt.show()"
   ]
  },
  {
   "cell_type": "code",
   "execution_count": 282,
   "id": "1d7e9a42",
   "metadata": {},
   "outputs": [],
   "source": [
    "X = white_wine.drop(['quality', 'quality_categorized'], axis=1)\n",
    "y = white_wine['quality_categorized']"
   ]
  },
  {
   "cell_type": "code",
   "execution_count": 283,
   "id": "7207e702",
   "metadata": {},
   "outputs": [],
   "source": [
    "X_scaled = StandardScaler().fit_transform(X)"
   ]
  },
  {
   "cell_type": "code",
   "execution_count": 284,
   "id": "1151e7ef",
   "metadata": {},
   "outputs": [],
   "source": [
    "X_train, X_test, y_train, y_test = train_test_split(X_scaled, y, test_size=.20, random_state=0)"
   ]
  },
  {
   "cell_type": "code",
   "execution_count": 285,
   "id": "60867287",
   "metadata": {},
   "outputs": [
    {
     "data": {
      "text/plain": [
       "LogisticRegression(penalty='none')"
      ]
     },
     "execution_count": 285,
     "metadata": {},
     "output_type": "execute_result"
    }
   ],
   "source": [
    "log_reg = LogisticRegression(penalty='none')\n",
    "log_reg.fit(X_train, y_train)"
   ]
  },
  {
   "cell_type": "code",
   "execution_count": 286,
   "id": "9d78348b",
   "metadata": {},
   "outputs": [],
   "source": [
    "y_hat = log_reg.predict(X_test)"
   ]
  },
  {
   "cell_type": "code",
   "execution_count": 287,
   "id": "a4dfb190",
   "metadata": {},
   "outputs": [
    {
     "data": {
      "text/plain": [
       "0.7357142857142858"
      ]
     },
     "execution_count": 287,
     "metadata": {},
     "output_type": "execute_result"
    }
   ],
   "source": [
    "acc = metrics.accuracy_score(y_hat,y_test)\n",
    "acc"
   ]
  },
  {
   "cell_type": "code",
   "execution_count": 288,
   "id": "ea1879f6",
   "metadata": {
    "scrolled": true
   },
   "outputs": [
    {
     "data": {
      "text/html": [
       "<div>\n",
       "<style scoped>\n",
       "    .dataframe tbody tr th:only-of-type {\n",
       "        vertical-align: middle;\n",
       "    }\n",
       "\n",
       "    .dataframe tbody tr th {\n",
       "        vertical-align: top;\n",
       "    }\n",
       "\n",
       "    .dataframe thead th {\n",
       "        text-align: right;\n",
       "    }\n",
       "</style>\n",
       "<table border=\"1\" class=\"dataframe\">\n",
       "  <thead>\n",
       "    <tr style=\"text-align: right;\">\n",
       "      <th></th>\n",
       "      <th>0</th>\n",
       "      <th>1</th>\n",
       "    </tr>\n",
       "  </thead>\n",
       "  <tbody>\n",
       "    <tr>\n",
       "      <th>0</th>\n",
       "      <td>166</td>\n",
       "      <td>70</td>\n",
       "    </tr>\n",
       "    <tr>\n",
       "      <th>1</th>\n",
       "      <td>189</td>\n",
       "      <td>555</td>\n",
       "    </tr>\n",
       "  </tbody>\n",
       "</table>\n",
       "</div>"
      ],
      "text/plain": [
       "     0    1\n",
       "0  166   70\n",
       "1  189  555"
      ]
     },
     "execution_count": 288,
     "metadata": {},
     "output_type": "execute_result"
    }
   ],
   "source": [
    "cm = confusion_matrix(y_hat,y_test)\n",
    "pd.DataFrame(cm)"
   ]
  },
  {
   "cell_type": "markdown",
   "id": "e9408d8b",
   "metadata": {},
   "source": [
    "USE STATSMODEL TO DEFINE THE MOST IMPORTANT VARIABLES"
   ]
  },
  {
   "cell_type": "code",
   "execution_count": 289,
   "id": "62046c4a",
   "metadata": {},
   "outputs": [
    {
     "name": "stdout",
     "output_type": "stream",
     "text": [
      "Optimization terminated successfully.\n",
      "         Current function value: 0.499944\n",
      "         Iterations 6\n",
      "                            Logit Regression Results                           \n",
      "===============================================================================\n",
      "Dep. Variable:     quality_categorized   No. Observations:                 3918\n",
      "Model:                           Logit   Df Residuals:                     3906\n",
      "Method:                            MLE   Df Model:                           11\n",
      "Date:                 Wed, 17 Nov 2021   Pseudo R-squ.:                  0.2099\n",
      "Time:                         15:27:41   Log-Likelihood:                -1958.8\n",
      "converged:                        True   LL-Null:                       -2479.1\n",
      "Covariance Type:             nonrobust   LLR p-value:                3.599e-216\n",
      "==============================================================================\n",
      "                 coef    std err          z      P>|z|      [0.025      0.975]\n",
      "------------------------------------------------------------------------------\n",
      "const          0.9533      0.043     22.324      0.000       0.870       1.037\n",
      "x1             0.0991      0.072      1.385      0.166      -0.041       0.239\n",
      "x2            -0.6472      0.046    -13.973      0.000      -0.738      -0.556\n",
      "x3            -0.0206      0.041     -0.500      0.617      -0.101       0.060\n",
      "x4             1.0171      0.161      6.322      0.000       0.702       1.332\n",
      "x5            -0.0121      0.042     -0.290      0.772      -0.094       0.070\n",
      "x6             0.1527      0.054      2.822      0.005       0.047       0.259\n",
      "x7            -0.0416      0.058     -0.712      0.476      -0.156       0.073\n",
      "x8            -1.0870      0.253     -4.290      0.000      -1.584      -0.590\n",
      "x9             0.2302      0.063      3.657      0.000       0.107       0.354\n",
      "x10            0.2127      0.046      4.630      0.000       0.123       0.303\n",
      "x11            0.7357      0.134      5.500      0.000       0.474       0.998\n",
      "==============================================================================\n"
     ]
    }
   ],
   "source": [
    "X_train_const = sm.add_constant(X_train)\n",
    "\n",
    "log_reg = sm.Logit(y_train, X_train_const)\n",
    "results = log_reg.fit()\n",
    "print(results.summary())"
   ]
  },
  {
   "cell_type": "code",
   "execution_count": 290,
   "id": "73693d82",
   "metadata": {},
   "outputs": [
    {
     "ename": "UnboundLocalError",
     "evalue": "local variable 'new_X_scaled' referenced before assignment",
     "output_type": "error",
     "traceback": [
      "\u001b[1;31m---------------------------------------------------------------------------\u001b[0m",
      "\u001b[1;31mUnboundLocalError\u001b[0m                         Traceback (most recent call last)",
      "\u001b[1;32m~\\AppData\\Local\\Temp/ipykernel_17896/1613035935.py\u001b[0m in \u001b[0;36m<module>\u001b[1;34m\u001b[0m\n\u001b[1;32m----> 1\u001b[1;33m \u001b[0macc\u001b[0m\u001b[1;33m,\u001b[0m \u001b[0mcm\u001b[0m\u001b[1;33m,\u001b[0m \u001b[0mX\u001b[0m\u001b[1;33m,\u001b[0m \u001b[0mX_train\u001b[0m \u001b[1;33m=\u001b[0m \u001b[0mmodel_improvement\u001b[0m\u001b[1;33m(\u001b[0m\u001b[1;33m)\u001b[0m\u001b[1;33m\u001b[0m\u001b[1;33m\u001b[0m\u001b[0m\n\u001b[0m\u001b[0;32m      2\u001b[0m \u001b[0macc\u001b[0m\u001b[1;33m\u001b[0m\u001b[1;33m\u001b[0m\u001b[0m\n",
      "\u001b[1;32m~\\AppData\\Local\\Temp/ipykernel_17896/2548446885.py\u001b[0m in \u001b[0;36mmodel_improvement\u001b[1;34m()\u001b[0m\n\u001b[0;32m      2\u001b[0m \u001b[1;33m\u001b[0m\u001b[0m\n\u001b[0;32m      3\u001b[0m     \u001b[0mcolumns_to_keep\u001b[0m \u001b[1;33m=\u001b[0m \u001b[0mX\u001b[0m\u001b[1;33m.\u001b[0m\u001b[0mcolumns\u001b[0m\u001b[1;33m[\u001b[0m\u001b[0mresults\u001b[0m\u001b[1;33m.\u001b[0m\u001b[0mpvalues\u001b[0m\u001b[1;33m[\u001b[0m\u001b[1;36m1\u001b[0m\u001b[1;33m:\u001b[0m\u001b[1;33m]\u001b[0m \u001b[1;33m<\u001b[0m \u001b[1;36m0.05\u001b[0m\u001b[1;33m]\u001b[0m\u001b[1;33m\u001b[0m\u001b[1;33m\u001b[0m\u001b[0m\n\u001b[1;32m----> 4\u001b[1;33m     \u001b[0mX_train\u001b[0m\u001b[1;33m,\u001b[0m \u001b[0mX_test\u001b[0m\u001b[1;33m,\u001b[0m \u001b[0my_train\u001b[0m\u001b[1;33m,\u001b[0m \u001b[0my_test\u001b[0m \u001b[1;33m=\u001b[0m \u001b[0mtrain_test_split\u001b[0m\u001b[1;33m(\u001b[0m\u001b[0mnew_X_scaled\u001b[0m\u001b[1;33m,\u001b[0m \u001b[0my\u001b[0m\u001b[1;33m,\u001b[0m \u001b[0mtest_size\u001b[0m\u001b[1;33m=\u001b[0m\u001b[1;36m.20\u001b[0m\u001b[1;33m,\u001b[0m \u001b[0mrandom_state\u001b[0m\u001b[1;33m=\u001b[0m\u001b[1;36m0\u001b[0m\u001b[1;33m)\u001b[0m\u001b[1;33m\u001b[0m\u001b[1;33m\u001b[0m\u001b[0m\n\u001b[0m\u001b[0;32m      5\u001b[0m     \u001b[0mnew_X\u001b[0m \u001b[1;33m=\u001b[0m \u001b[0mX\u001b[0m\u001b[1;33m[\u001b[0m\u001b[0mcolumns_to_keep\u001b[0m\u001b[1;33m]\u001b[0m\u001b[1;33m\u001b[0m\u001b[1;33m\u001b[0m\u001b[0m\n\u001b[0;32m      6\u001b[0m     \u001b[0mnew_X_scaled\u001b[0m \u001b[1;33m=\u001b[0m \u001b[0mStandardScaler\u001b[0m\u001b[1;33m(\u001b[0m\u001b[1;33m)\u001b[0m\u001b[1;33m.\u001b[0m\u001b[0mfit_transform\u001b[0m\u001b[1;33m(\u001b[0m\u001b[0mnew_X\u001b[0m\u001b[1;33m)\u001b[0m\u001b[1;33m\u001b[0m\u001b[1;33m\u001b[0m\u001b[0m\n",
      "\u001b[1;31mUnboundLocalError\u001b[0m: local variable 'new_X_scaled' referenced before assignment"
     ]
    }
   ],
   "source": [
    "acc, cm, X, X_train = model_improvement()\n",
    "acc"
   ]
  },
  {
   "cell_type": "code",
   "execution_count": 291,
   "id": "779eb954",
   "metadata": {},
   "outputs": [
    {
     "data": {
      "text/plain": [
       "array([[166,  70],\n",
       "       [189, 555]], dtype=int64)"
      ]
     },
     "execution_count": 291,
     "metadata": {},
     "output_type": "execute_result"
    }
   ],
   "source": [
    "cm"
   ]
  },
  {
   "cell_type": "code",
   "execution_count": 292,
   "id": "ecce491d",
   "metadata": {},
   "outputs": [
    {
     "name": "stdout",
     "output_type": "stream",
     "text": [
      "Optimization terminated successfully.\n",
      "         Current function value: 0.499944\n",
      "         Iterations 6\n",
      "                            Logit Regression Results                           \n",
      "===============================================================================\n",
      "Dep. Variable:     quality_categorized   No. Observations:                 3918\n",
      "Model:                           Logit   Df Residuals:                     3906\n",
      "Method:                            MLE   Df Model:                           11\n",
      "Date:                 Wed, 17 Nov 2021   Pseudo R-squ.:                  0.2099\n",
      "Time:                         15:27:42   Log-Likelihood:                -1958.8\n",
      "converged:                        True   LL-Null:                       -2479.1\n",
      "Covariance Type:             nonrobust   LLR p-value:                3.599e-216\n",
      "==============================================================================\n",
      "                 coef    std err          z      P>|z|      [0.025      0.975]\n",
      "------------------------------------------------------------------------------\n",
      "const          0.9533      0.043     22.324      0.000       0.870       1.037\n",
      "x1             0.0991      0.072      1.385      0.166      -0.041       0.239\n",
      "x2            -0.6472      0.046    -13.973      0.000      -0.738      -0.556\n",
      "x3            -0.0206      0.041     -0.500      0.617      -0.101       0.060\n",
      "x4             1.0171      0.161      6.322      0.000       0.702       1.332\n",
      "x5            -0.0121      0.042     -0.290      0.772      -0.094       0.070\n",
      "x6             0.1527      0.054      2.822      0.005       0.047       0.259\n",
      "x7            -0.0416      0.058     -0.712      0.476      -0.156       0.073\n",
      "x8            -1.0870      0.253     -4.290      0.000      -1.584      -0.590\n",
      "x9             0.2302      0.063      3.657      0.000       0.107       0.354\n",
      "x10            0.2127      0.046      4.630      0.000       0.123       0.303\n",
      "x11            0.7357      0.134      5.500      0.000       0.474       0.998\n",
      "==============================================================================\n"
     ]
    }
   ],
   "source": [
    "X_train_const = sm.add_constant(X_train)\n",
    "\n",
    "log_reg = sm.Logit(y_train, X_train_const)\n",
    "results = log_reg.fit()\n",
    "print(results.summary())"
   ]
  },
  {
   "cell_type": "code",
   "execution_count": 293,
   "id": "0b5fb33c",
   "metadata": {},
   "outputs": [
    {
     "data": {
      "text/plain": [
       "array([ 0.09910587, -0.64724495, -0.02060653,  1.01706987, -0.01207328,\n",
       "        0.15272246, -0.04163527, -1.08695166,  0.23022132,  0.21269637,\n",
       "        0.73568534])"
      ]
     },
     "execution_count": 293,
     "metadata": {},
     "output_type": "execute_result"
    }
   ],
   "source": [
    "results.params[1:].values"
   ]
  },
  {
   "cell_type": "code",
   "execution_count": 294,
   "id": "074d4fcb",
   "metadata": {
    "scrolled": false
   },
   "outputs": [
    {
     "data": {
      "text/plain": [
       "<AxesSubplot:xlabel='Importance', ylabel='Attribute'>"
      ]
     },
     "execution_count": 294,
     "metadata": {},
     "output_type": "execute_result"
    },
    {
     "data": {
      "image/png": "[encoded data removed]",
      "text/plain": [
       "<Figure size 432x288 with 1 Axes>"
      ]
     },
     "metadata": {
      "needs_background": "light"
     },
     "output_type": "display_data"
    }
   ],
   "source": [
    "a = results.params[1:].values\n",
    "\n",
    "features_importances = pd.DataFrame(data={\n",
    "    'Attribute': X.columns,\n",
    "    'Importance': abs(a)\n",
    "})\n",
    "features_importances = features_importances.sort_values(by='Importance', ascending=False)\n",
    "\n",
    "sns.barplot(x = 'Importance', y = 'Attribute', data = features_importances)"
   ]
  },
  {
   "cell_type": "code",
   "execution_count": 295,
   "id": "b861f79b",
   "metadata": {},
   "outputs": [
    {
     "data": {
      "text/plain": [
       "Index(['fixed_acidity', 'volatile_acidity', 'citric_acid', 'residual_sugar',\n",
       "       'chlorides', 'free_sulfur_dioxide', 'total_sulfur_dioxide', 'density',\n",
       "       'pH', 'sulphates', 'alcohol'],\n",
       "      dtype='object')"
      ]
     },
     "execution_count": 295,
     "metadata": {},
     "output_type": "execute_result"
    }
   ],
   "source": [
    "X.columns"
   ]
  },
  {
   "cell_type": "code",
   "execution_count": 296,
   "id": "2160e9f4",
   "metadata": {},
   "outputs": [
    {
     "data": {
      "text/plain": [
       "0.7459677419354839"
      ]
     },
     "execution_count": 296,
     "metadata": {},
     "output_type": "execute_result"
    }
   ],
   "source": [
    "metrics.recall_score(y_hat,y_test)"
   ]
  },
  {
   "cell_type": "markdown",
   "id": "7dbbb80e",
   "metadata": {},
   "source": [
    "RED WINE: 'volatile_acidity', 'chlorides', 'total_sulfur_dioxide', 'sulphates', 'alcohol'<br>\n",
    "WHITE WINE: 'volatile_acidity', 'residual_sugar', 'free_sulfur_dioxide', 'density', 'pH', 'sulphates', 'alcohol'"
   ]
  },
  {
   "cell_type": "markdown",
   "id": "ca1980ab",
   "metadata": {},
   "source": [
    "COMBINED"
   ]
  },
  {
   "cell_type": "code",
   "execution_count": 297,
   "id": "33f89335",
   "metadata": {},
   "outputs": [
    {
     "data": {
      "image/png": "[encoded data removed]",
      "text/plain": [
       "<Figure size 432x288 with 1 Axes>"
      ]
     },
     "metadata": {
      "needs_background": "light"
     },
     "output_type": "display_data"
    }
   ],
   "source": [
    "wine_df['quality_categorized'] = wine_df['quality'].apply(lambda x: 0 if x < 6 else 1)\n",
    "wine_df['quality_categorized'].value_counts(normalize=True).plot.bar(rot=0, color='#9d5c75')\n",
    "plt.show()"
   ]
  },
  {
   "cell_type": "code",
   "execution_count": 298,
   "id": "55ebcc14",
   "metadata": {},
   "outputs": [],
   "source": [
    "X = wine_df.drop(['quality', 'quality_categorized'], axis=1)\n",
    "y = wine_df['quality_categorized']"
   ]
  },
  {
   "cell_type": "code",
   "execution_count": 299,
   "id": "1e346ea7",
   "metadata": {},
   "outputs": [],
   "source": [
    "X_scaled = StandardScaler().fit_transform(X)"
   ]
  },
  {
   "cell_type": "code",
   "execution_count": 300,
   "id": "5e9f0dde",
   "metadata": {},
   "outputs": [],
   "source": [
    "X_train, X_test, y_train, y_test = train_test_split(X_scaled, y, test_size=.20, random_state=0)"
   ]
  },
  {
   "cell_type": "code",
   "execution_count": 301,
   "id": "b45159a7",
   "metadata": {},
   "outputs": [
    {
     "data": {
      "text/plain": [
       "LogisticRegression()"
      ]
     },
     "execution_count": 301,
     "metadata": {},
     "output_type": "execute_result"
    }
   ],
   "source": [
    "log_reg = LogisticRegression()\n",
    "log_reg.fit(X_train,y_train)"
   ]
  },
  {
   "cell_type": "code",
   "execution_count": 302,
   "id": "6ec9d265",
   "metadata": {},
   "outputs": [],
   "source": [
    "y_hat = log_reg.predict(X_test)"
   ]
  },
  {
   "cell_type": "code",
   "execution_count": 303,
   "id": "ecad6d0d",
   "metadata": {},
   "outputs": [
    {
     "data": {
      "text/plain": [
       "0.7338461538461538"
      ]
     },
     "execution_count": 303,
     "metadata": {},
     "output_type": "execute_result"
    }
   ],
   "source": [
    "acc = metrics.accuracy_score(y_hat,y_test)\n",
    "acc"
   ]
  },
  {
   "cell_type": "code",
   "execution_count": 304,
   "id": "8ea79f70",
   "metadata": {},
   "outputs": [
    {
     "data": {
      "text/html": [
       "<div>\n",
       "<style scoped>\n",
       "    .dataframe tbody tr th:only-of-type {\n",
       "        vertical-align: middle;\n",
       "    }\n",
       "\n",
       "    .dataframe tbody tr th {\n",
       "        vertical-align: top;\n",
       "    }\n",
       "\n",
       "    .dataframe thead th {\n",
       "        text-align: right;\n",
       "    }\n",
       "</style>\n",
       "<table border=\"1\" class=\"dataframe\">\n",
       "  <thead>\n",
       "    <tr style=\"text-align: right;\">\n",
       "      <th></th>\n",
       "      <th>0</th>\n",
       "      <th>1</th>\n",
       "    </tr>\n",
       "  </thead>\n",
       "  <tbody>\n",
       "    <tr>\n",
       "      <th>0</th>\n",
       "      <td>254</td>\n",
       "      <td>132</td>\n",
       "    </tr>\n",
       "    <tr>\n",
       "      <th>1</th>\n",
       "      <td>214</td>\n",
       "      <td>700</td>\n",
       "    </tr>\n",
       "  </tbody>\n",
       "</table>\n",
       "</div>"
      ],
      "text/plain": [
       "     0    1\n",
       "0  254  132\n",
       "1  214  700"
      ]
     },
     "execution_count": 304,
     "metadata": {},
     "output_type": "execute_result"
    }
   ],
   "source": [
    "cm = confusion_matrix(y_hat,y_test)\n",
    "pd.DataFrame(cm)"
   ]
  },
  {
   "cell_type": "code",
   "execution_count": 305,
   "id": "fe02b4fd",
   "metadata": {},
   "outputs": [
    {
     "name": "stdout",
     "output_type": "stream",
     "text": [
      "Optimization terminated successfully.\n",
      "         Current function value: 0.515072\n",
      "         Iterations 6\n",
      "                            Logit Regression Results                           \n",
      "===============================================================================\n",
      "Dep. Variable:     quality_categorized   No. Observations:                 5197\n",
      "Model:                           Logit   Df Residuals:                     5185\n",
      "Method:                            MLE   Df Model:                           11\n",
      "Date:                 Wed, 17 Nov 2021   Pseudo R-squ.:                  0.2175\n",
      "Time:                         15:27:48   Log-Likelihood:                -2676.8\n",
      "converged:                        True   LL-Null:                       -3420.9\n",
      "Covariance Type:             nonrobust   LLR p-value:                     0.000\n",
      "==============================================================================\n",
      "                 coef    std err          z      P>|z|      [0.025      0.975]\n",
      "------------------------------------------------------------------------------\n",
      "const          0.7480      0.036     20.889      0.000       0.678       0.818\n",
      "x1             0.1757      0.077      2.268      0.023       0.024       0.328\n",
      "x2            -0.7269      0.051    -14.288      0.000      -0.827      -0.627\n",
      "x3            -0.0965      0.041     -2.332      0.020      -0.178      -0.015\n",
      "x4             0.4883      0.093      5.258      0.000       0.306       0.670\n",
      "x5            -0.0531      0.040     -1.315      0.189      -0.132       0.026\n",
      "x6             0.2906      0.050      5.858      0.000       0.193       0.388\n",
      "x7            -0.4465      0.057     -7.894      0.000      -0.557      -0.336\n",
      "x8            -0.2979      0.146     -2.044      0.041      -0.584      -0.012\n",
      "x9             0.1484      0.055      2.677      0.007       0.040       0.257\n",
      "x10            0.3143      0.044      7.159      0.000       0.228       0.400\n",
      "x11            0.9778      0.084     11.656      0.000       0.813       1.142\n",
      "==============================================================================\n"
     ]
    }
   ],
   "source": [
    "X_train_const = sm.add_constant(X_train)\n",
    "\n",
    "log_reg = sm.Logit(y_train, X_train_const)\n",
    "results = log_reg.fit()\n",
    "print(results.summary())"
   ]
  },
  {
   "cell_type": "code",
   "execution_count": 306,
   "id": "a07f478e",
   "metadata": {},
   "outputs": [
    {
     "ename": "UnboundLocalError",
     "evalue": "local variable 'new_X_scaled' referenced before assignment",
     "output_type": "error",
     "traceback": [
      "\u001b[1;31m---------------------------------------------------------------------------\u001b[0m",
      "\u001b[1;31mUnboundLocalError\u001b[0m                         Traceback (most recent call last)",
      "\u001b[1;32m~\\AppData\\Local\\Temp/ipykernel_17896/1613035935.py\u001b[0m in \u001b[0;36m<module>\u001b[1;34m\u001b[0m\n\u001b[1;32m----> 1\u001b[1;33m \u001b[0macc\u001b[0m\u001b[1;33m,\u001b[0m \u001b[0mcm\u001b[0m\u001b[1;33m,\u001b[0m \u001b[0mX\u001b[0m\u001b[1;33m,\u001b[0m \u001b[0mX_train\u001b[0m \u001b[1;33m=\u001b[0m \u001b[0mmodel_improvement\u001b[0m\u001b[1;33m(\u001b[0m\u001b[1;33m)\u001b[0m\u001b[1;33m\u001b[0m\u001b[1;33m\u001b[0m\u001b[0m\n\u001b[0m\u001b[0;32m      2\u001b[0m \u001b[0macc\u001b[0m\u001b[1;33m\u001b[0m\u001b[1;33m\u001b[0m\u001b[0m\n",
      "\u001b[1;32m~\\AppData\\Local\\Temp/ipykernel_17896/2548446885.py\u001b[0m in \u001b[0;36mmodel_improvement\u001b[1;34m()\u001b[0m\n\u001b[0;32m      2\u001b[0m \u001b[1;33m\u001b[0m\u001b[0m\n\u001b[0;32m      3\u001b[0m     \u001b[0mcolumns_to_keep\u001b[0m \u001b[1;33m=\u001b[0m \u001b[0mX\u001b[0m\u001b[1;33m.\u001b[0m\u001b[0mcolumns\u001b[0m\u001b[1;33m[\u001b[0m\u001b[0mresults\u001b[0m\u001b[1;33m.\u001b[0m\u001b[0mpvalues\u001b[0m\u001b[1;33m[\u001b[0m\u001b[1;36m1\u001b[0m\u001b[1;33m:\u001b[0m\u001b[1;33m]\u001b[0m \u001b[1;33m<\u001b[0m \u001b[1;36m0.05\u001b[0m\u001b[1;33m]\u001b[0m\u001b[1;33m\u001b[0m\u001b[1;33m\u001b[0m\u001b[0m\n\u001b[1;32m----> 4\u001b[1;33m     \u001b[0mX_train\u001b[0m\u001b[1;33m,\u001b[0m \u001b[0mX_test\u001b[0m\u001b[1;33m,\u001b[0m \u001b[0my_train\u001b[0m\u001b[1;33m,\u001b[0m \u001b[0my_test\u001b[0m \u001b[1;33m=\u001b[0m \u001b[0mtrain_test_split\u001b[0m\u001b[1;33m(\u001b[0m\u001b[0mnew_X_scaled\u001b[0m\u001b[1;33m,\u001b[0m \u001b[0my\u001b[0m\u001b[1;33m,\u001b[0m \u001b[0mtest_size\u001b[0m\u001b[1;33m=\u001b[0m\u001b[1;36m.20\u001b[0m\u001b[1;33m,\u001b[0m \u001b[0mrandom_state\u001b[0m\u001b[1;33m=\u001b[0m\u001b[1;36m0\u001b[0m\u001b[1;33m)\u001b[0m\u001b[1;33m\u001b[0m\u001b[1;33m\u001b[0m\u001b[0m\n\u001b[0m\u001b[0;32m      5\u001b[0m     \u001b[0mnew_X\u001b[0m \u001b[1;33m=\u001b[0m \u001b[0mX\u001b[0m\u001b[1;33m[\u001b[0m\u001b[0mcolumns_to_keep\u001b[0m\u001b[1;33m]\u001b[0m\u001b[1;33m\u001b[0m\u001b[1;33m\u001b[0m\u001b[0m\n\u001b[0;32m      6\u001b[0m     \u001b[0mnew_X_scaled\u001b[0m \u001b[1;33m=\u001b[0m \u001b[0mStandardScaler\u001b[0m\u001b[1;33m(\u001b[0m\u001b[1;33m)\u001b[0m\u001b[1;33m.\u001b[0m\u001b[0mfit_transform\u001b[0m\u001b[1;33m(\u001b[0m\u001b[0mnew_X\u001b[0m\u001b[1;33m)\u001b[0m\u001b[1;33m\u001b[0m\u001b[1;33m\u001b[0m\u001b[0m\n",
      "\u001b[1;31mUnboundLocalError\u001b[0m: local variable 'new_X_scaled' referenced before assignment"
     ]
    }
   ],
   "source": [
    "acc, cm, X, X_train = model_improvement()\n",
    "acc"
   ]
  },
  {
   "cell_type": "code",
   "execution_count": 307,
   "id": "d8e73319",
   "metadata": {},
   "outputs": [
    {
     "data": {
      "text/plain": [
       "array([[254, 132],\n",
       "       [214, 700]], dtype=int64)"
      ]
     },
     "execution_count": 307,
     "metadata": {},
     "output_type": "execute_result"
    }
   ],
   "source": [
    "cm"
   ]
  },
  {
   "cell_type": "code",
   "execution_count": 308,
   "id": "90580ed5",
   "metadata": {},
   "outputs": [
    {
     "name": "stdout",
     "output_type": "stream",
     "text": [
      "Optimization terminated successfully.\n",
      "         Current function value: 0.515072\n",
      "         Iterations 6\n",
      "                            Logit Regression Results                           \n",
      "===============================================================================\n",
      "Dep. Variable:     quality_categorized   No. Observations:                 5197\n",
      "Model:                           Logit   Df Residuals:                     5185\n",
      "Method:                            MLE   Df Model:                           11\n",
      "Date:                 Wed, 17 Nov 2021   Pseudo R-squ.:                  0.2175\n",
      "Time:                         15:27:49   Log-Likelihood:                -2676.8\n",
      "converged:                        True   LL-Null:                       -3420.9\n",
      "Covariance Type:             nonrobust   LLR p-value:                     0.000\n",
      "==============================================================================\n",
      "                 coef    std err          z      P>|z|      [0.025      0.975]\n",
      "------------------------------------------------------------------------------\n",
      "const          0.7480      0.036     20.889      0.000       0.678       0.818\n",
      "x1             0.1757      0.077      2.268      0.023       0.024       0.328\n",
      "x2            -0.7269      0.051    -14.288      0.000      -0.827      -0.627\n",
      "x3            -0.0965      0.041     -2.332      0.020      -0.178      -0.015\n",
      "x4             0.4883      0.093      5.258      0.000       0.306       0.670\n",
      "x5            -0.0531      0.040     -1.315      0.189      -0.132       0.026\n",
      "x6             0.2906      0.050      5.858      0.000       0.193       0.388\n",
      "x7            -0.4465      0.057     -7.894      0.000      -0.557      -0.336\n",
      "x8            -0.2979      0.146     -2.044      0.041      -0.584      -0.012\n",
      "x9             0.1484      0.055      2.677      0.007       0.040       0.257\n",
      "x10            0.3143      0.044      7.159      0.000       0.228       0.400\n",
      "x11            0.9778      0.084     11.656      0.000       0.813       1.142\n",
      "==============================================================================\n"
     ]
    }
   ],
   "source": [
    "X_train_const = sm.add_constant(X_train)\n",
    "\n",
    "log_reg = sm.Logit(y_train, X_train_const)\n",
    "results = log_reg.fit()\n",
    "print(results.summary())"
   ]
  },
  {
   "cell_type": "code",
   "execution_count": 309,
   "id": "c6941e7e",
   "metadata": {},
   "outputs": [
    {
     "data": {
      "text/plain": [
       "<AxesSubplot:xlabel='Importance', ylabel='Attribute'>"
      ]
     },
     "execution_count": 309,
     "metadata": {},
     "output_type": "execute_result"
    },
    {
     "data": {
      "image/png": "[encoded data removed]",
      "text/plain": [
       "<Figure size 432x288 with 1 Axes>"
      ]
     },
     "metadata": {
      "needs_background": "light"
     },
     "output_type": "display_data"
    }
   ],
   "source": [
    "a = results.params[1:].values\n",
    "\n",
    "features_importances = pd.DataFrame(data={\n",
    "    'Attribute': X.columns,\n",
    "    'Importance': abs(a)\n",
    "})\n",
    "features_importances = features_importances.sort_values(by='Importance', ascending=False)\n",
    "\n",
    "sns.barplot(x = 'Importance', y = 'Attribute', data = features_importances)"
   ]
  },
  {
   "cell_type": "markdown",
   "id": "f7d24a07",
   "metadata": {},
   "source": [
    "**Wine 'sweetness'**<br>\n",
    "\n",
    "We can create a column to address the `sweetness` of the wine. According to the [Commission Delegated Regulation (EU) 2019/33](https://eur-lex.europa.eu/legal-content/EN/TXT/PDF/?uri=CELEX:32019R0033&from=en) that regulates the wine sector, applying the terms dry, medium dry, medium sweet or sweet require the following criteria:\n",
    "\n",
    "**Dry:**<br>\n",
    "If its sugar content does not exceed:<br>\n",
    "&ensp;- 4 g$\\cdot$dm<sup>-3</sup>, or<br>\n",
    "&ensp;- 9 g$\\cdot$dm<sup>-3</sup>, provided that the total acidity is not more than 2 grams below the residual sugar content.<br>\n",
    "\n",
    "**Medium dry:**<br>\n",
    "If its sugar content exceeds the maximum permitted but does not exceed:<br>\n",
    "&ensp;- 12 g$\\cdot$dm<sup>-3</sup>, or<br>\n",
    "&ensp;- 18 g$\\cdot$dm<sup>-3</sup>, provided that the total acidity is not more than 10 grams below the residual sugar content.<br>\n",
    "\n",
    "**Medium sweet:**<br>\n",
    "&ensp;If its sugar content exceeds the maximum permitted but does not exceed 45 g$\\cdot$dm<sup>-3</sup>.<br>\n",
    "\n",
    "**Sweet:**<br>\n",
    "&ensp;If its sugar content is of at least 45 g$\\cdot$dm<sup>-3</sup>.<br>\n",
    "\n",
    "Let's apply these to our data:"
   ]
  },
  {
   "cell_type": "code",
   "execution_count": 310,
   "id": "f738031c",
   "metadata": {},
   "outputs": [],
   "source": [
    "#def sweet_or_dry(x):\n",
    "#    if (x['residual_sugar'] < 4) | (x['residual_sugar'] < 9 and (x['residual_sugar'] - x['fixed_acidity']) < 2):\n",
    "#        return 'dry'\n",
    "#    elif (x['residual_sugar'] < 12) | (x['residual_sugar'] < 18 and (x['residual_sugar'] - x['fixed_acidity']) < 10):\n",
    "#        return 'medium_dry'\n",
    "#    elif (x['residual_sugar'] < 45):\n",
    "#        return 'medium_sweet'\n",
    "#    else:\n",
    "#        return 'sweet'"
   ]
  },
  {
   "cell_type": "code",
   "execution_count": 311,
   "id": "cb7a09c2",
   "metadata": {},
   "outputs": [],
   "source": [
    "#wine_df['sweetness'] = wine_df.apply(lambda x: sweet_or_dry(x), axis=1)\n",
    "#wine_df['sweetness'].value_counts(normalize=True)"
   ]
  },
  {
   "cell_type": "markdown",
   "id": "9d227849",
   "metadata": {},
   "source": [
    "The data is totally inbalaced: dry wines correspond to over 77% of the total. Instead of having the other categories, we could further group them into 'sweet' (as opposed to 'dry', not taking into account the formal definition)."
   ]
  },
  {
   "cell_type": "code",
   "execution_count": 312,
   "id": "a701b377",
   "metadata": {
    "scrolled": true
   },
   "outputs": [],
   "source": [
    "#wine_df['sweetness'] = wine_df['sweetness'].apply(lambda x: 'dry' if x == 'dry' else 'sweet')\n",
    "#wine_df['sweetness'].value_counts(normalize=True)"
   ]
  },
  {
   "cell_type": "code",
   "execution_count": 313,
   "id": "787f3681",
   "metadata": {},
   "outputs": [],
   "source": [
    "#wine_df['sweetness_encoded'] = wine_df['sweetness'].apply(lambda x: 0 if x == 'dry' else 1)"
   ]
  },
  {
   "cell_type": "markdown",
   "id": "3792f4a5",
   "metadata": {},
   "source": [
    "### Outlier Removal"
   ]
  },
  {
   "cell_type": "code",
   "execution_count": 39,
   "id": "4d4681f3",
   "metadata": {
    "scrolled": false
   },
   "outputs": [
    {
     "data": {
      "text/html": [
       "<div>\n",
       "<style scoped>\n",
       "    .dataframe tbody tr th:only-of-type {\n",
       "        vertical-align: middle;\n",
       "    }\n",
       "\n",
       "    .dataframe tbody tr th {\n",
       "        vertical-align: top;\n",
       "    }\n",
       "\n",
       "    .dataframe thead th {\n",
       "        text-align: right;\n",
       "    }\n",
       "</style>\n",
       "<table border=\"1\" class=\"dataframe\">\n",
       "  <thead>\n",
       "    <tr style=\"text-align: right;\">\n",
       "      <th></th>\n",
       "      <th>fixed_acidity</th>\n",
       "      <th>volatile_acidity</th>\n",
       "      <th>citric_acid</th>\n",
       "      <th>residual_sugar</th>\n",
       "      <th>chlorides</th>\n",
       "      <th>free_sulfur_dioxide</th>\n",
       "      <th>total_sulfur_dioxide</th>\n",
       "      <th>density</th>\n",
       "      <th>pH</th>\n",
       "      <th>sulphates</th>\n",
       "      <th>alcohol</th>\n",
       "      <th>quality</th>\n",
       "      <th>quality_categorized</th>\n",
       "    </tr>\n",
       "  </thead>\n",
       "  <tbody>\n",
       "    <tr>\n",
       "      <th>0</th>\n",
       "      <td>7.4</td>\n",
       "      <td>0.70</td>\n",
       "      <td>0.00</td>\n",
       "      <td>1.9</td>\n",
       "      <td>0.076</td>\n",
       "      <td>11.0</td>\n",
       "      <td>34.0</td>\n",
       "      <td>0.99780</td>\n",
       "      <td>3.51</td>\n",
       "      <td>0.56</td>\n",
       "      <td>9.4</td>\n",
       "      <td>5</td>\n",
       "      <td>0</td>\n",
       "    </tr>\n",
       "    <tr>\n",
       "      <th>1</th>\n",
       "      <td>7.8</td>\n",
       "      <td>0.88</td>\n",
       "      <td>0.00</td>\n",
       "      <td>2.6</td>\n",
       "      <td>0.098</td>\n",
       "      <td>25.0</td>\n",
       "      <td>67.0</td>\n",
       "      <td>0.99680</td>\n",
       "      <td>3.20</td>\n",
       "      <td>0.68</td>\n",
       "      <td>9.8</td>\n",
       "      <td>5</td>\n",
       "      <td>0</td>\n",
       "    </tr>\n",
       "    <tr>\n",
       "      <th>2</th>\n",
       "      <td>7.8</td>\n",
       "      <td>0.76</td>\n",
       "      <td>0.04</td>\n",
       "      <td>2.3</td>\n",
       "      <td>0.092</td>\n",
       "      <td>15.0</td>\n",
       "      <td>54.0</td>\n",
       "      <td>0.99700</td>\n",
       "      <td>3.26</td>\n",
       "      <td>0.65</td>\n",
       "      <td>9.8</td>\n",
       "      <td>5</td>\n",
       "      <td>0</td>\n",
       "    </tr>\n",
       "    <tr>\n",
       "      <th>3</th>\n",
       "      <td>11.2</td>\n",
       "      <td>0.28</td>\n",
       "      <td>0.56</td>\n",
       "      <td>1.9</td>\n",
       "      <td>0.075</td>\n",
       "      <td>17.0</td>\n",
       "      <td>60.0</td>\n",
       "      <td>0.99800</td>\n",
       "      <td>3.16</td>\n",
       "      <td>0.58</td>\n",
       "      <td>9.8</td>\n",
       "      <td>6</td>\n",
       "      <td>1</td>\n",
       "    </tr>\n",
       "    <tr>\n",
       "      <th>4</th>\n",
       "      <td>7.4</td>\n",
       "      <td>0.70</td>\n",
       "      <td>0.00</td>\n",
       "      <td>1.9</td>\n",
       "      <td>0.076</td>\n",
       "      <td>11.0</td>\n",
       "      <td>34.0</td>\n",
       "      <td>0.99780</td>\n",
       "      <td>3.51</td>\n",
       "      <td>0.56</td>\n",
       "      <td>9.4</td>\n",
       "      <td>5</td>\n",
       "      <td>0</td>\n",
       "    </tr>\n",
       "    <tr>\n",
       "      <th>...</th>\n",
       "      <td>...</td>\n",
       "      <td>...</td>\n",
       "      <td>...</td>\n",
       "      <td>...</td>\n",
       "      <td>...</td>\n",
       "      <td>...</td>\n",
       "      <td>...</td>\n",
       "      <td>...</td>\n",
       "      <td>...</td>\n",
       "      <td>...</td>\n",
       "      <td>...</td>\n",
       "      <td>...</td>\n",
       "      <td>...</td>\n",
       "    </tr>\n",
       "    <tr>\n",
       "      <th>6491</th>\n",
       "      <td>6.5</td>\n",
       "      <td>0.23</td>\n",
       "      <td>0.38</td>\n",
       "      <td>1.3</td>\n",
       "      <td>0.032</td>\n",
       "      <td>29.0</td>\n",
       "      <td>112.0</td>\n",
       "      <td>0.99298</td>\n",
       "      <td>3.29</td>\n",
       "      <td>0.54</td>\n",
       "      <td>9.7</td>\n",
       "      <td>5</td>\n",
       "      <td>0</td>\n",
       "    </tr>\n",
       "    <tr>\n",
       "      <th>6492</th>\n",
       "      <td>6.2</td>\n",
       "      <td>0.21</td>\n",
       "      <td>0.29</td>\n",
       "      <td>1.6</td>\n",
       "      <td>0.039</td>\n",
       "      <td>24.0</td>\n",
       "      <td>92.0</td>\n",
       "      <td>0.99114</td>\n",
       "      <td>3.27</td>\n",
       "      <td>0.50</td>\n",
       "      <td>11.2</td>\n",
       "      <td>6</td>\n",
       "      <td>1</td>\n",
       "    </tr>\n",
       "    <tr>\n",
       "      <th>6493</th>\n",
       "      <td>6.6</td>\n",
       "      <td>0.32</td>\n",
       "      <td>0.36</td>\n",
       "      <td>8.0</td>\n",
       "      <td>0.047</td>\n",
       "      <td>57.0</td>\n",
       "      <td>168.0</td>\n",
       "      <td>0.99490</td>\n",
       "      <td>3.15</td>\n",
       "      <td>0.46</td>\n",
       "      <td>9.6</td>\n",
       "      <td>5</td>\n",
       "      <td>0</td>\n",
       "    </tr>\n",
       "    <tr>\n",
       "      <th>6494</th>\n",
       "      <td>6.5</td>\n",
       "      <td>0.24</td>\n",
       "      <td>0.19</td>\n",
       "      <td>1.2</td>\n",
       "      <td>0.041</td>\n",
       "      <td>30.0</td>\n",
       "      <td>111.0</td>\n",
       "      <td>0.99254</td>\n",
       "      <td>2.99</td>\n",
       "      <td>0.46</td>\n",
       "      <td>9.4</td>\n",
       "      <td>6</td>\n",
       "      <td>1</td>\n",
       "    </tr>\n",
       "    <tr>\n",
       "      <th>6495</th>\n",
       "      <td>5.5</td>\n",
       "      <td>0.29</td>\n",
       "      <td>0.30</td>\n",
       "      <td>1.1</td>\n",
       "      <td>0.022</td>\n",
       "      <td>20.0</td>\n",
       "      <td>110.0</td>\n",
       "      <td>0.98869</td>\n",
       "      <td>3.34</td>\n",
       "      <td>0.38</td>\n",
       "      <td>12.8</td>\n",
       "      <td>7</td>\n",
       "      <td>1</td>\n",
       "    </tr>\n",
       "  </tbody>\n",
       "</table>\n",
       "<p>5767 rows × 13 columns</p>\n",
       "</div>"
      ],
      "text/plain": [
       "      fixed_acidity  volatile_acidity  citric_acid  residual_sugar  chlorides  \\\n",
       "0               7.4              0.70         0.00             1.9      0.076   \n",
       "1               7.8              0.88         0.00             2.6      0.098   \n",
       "2               7.8              0.76         0.04             2.3      0.092   \n",
       "3              11.2              0.28         0.56             1.9      0.075   \n",
       "4               7.4              0.70         0.00             1.9      0.076   \n",
       "...             ...               ...          ...             ...        ...   \n",
       "6491            6.5              0.23         0.38             1.3      0.032   \n",
       "6492            6.2              0.21         0.29             1.6      0.039   \n",
       "6493            6.6              0.32         0.36             8.0      0.047   \n",
       "6494            6.5              0.24         0.19             1.2      0.041   \n",
       "6495            5.5              0.29         0.30             1.1      0.022   \n",
       "\n",
       "      free_sulfur_dioxide  total_sulfur_dioxide  density    pH  sulphates  \\\n",
       "0                    11.0                  34.0  0.99780  3.51       0.56   \n",
       "1                    25.0                  67.0  0.99680  3.20       0.68   \n",
       "2                    15.0                  54.0  0.99700  3.26       0.65   \n",
       "3                    17.0                  60.0  0.99800  3.16       0.58   \n",
       "4                    11.0                  34.0  0.99780  3.51       0.56   \n",
       "...                   ...                   ...      ...   ...        ...   \n",
       "6491                 29.0                 112.0  0.99298  3.29       0.54   \n",
       "6492                 24.0                  92.0  0.99114  3.27       0.50   \n",
       "6493                 57.0                 168.0  0.99490  3.15       0.46   \n",
       "6494                 30.0                 111.0  0.99254  2.99       0.46   \n",
       "6495                 20.0                 110.0  0.98869  3.34       0.38   \n",
       "\n",
       "      alcohol  quality  quality_categorized  \n",
       "0         9.4        5                    0  \n",
       "1         9.8        5                    0  \n",
       "2         9.8        5                    0  \n",
       "3         9.8        6                    1  \n",
       "4         9.4        5                    0  \n",
       "...       ...      ...                  ...  \n",
       "6491      9.7        5                    0  \n",
       "6492     11.2        6                    1  \n",
       "6493      9.6        5                    0  \n",
       "6494      9.4        6                    1  \n",
       "6495     12.8        7                    1  \n",
       "\n",
       "[5767 rows x 13 columns]"
      ]
     },
     "execution_count": 39,
     "metadata": {},
     "output_type": "execute_result"
    }
   ],
   "source": [
    "wine_df"
   ]
  },
  {
   "cell_type": "code",
   "execution_count": 45,
   "id": "d12414fa",
   "metadata": {},
   "outputs": [
    {
     "data": {
      "text/plain": [
       "fixed_acidity            12.00000\n",
       "volatile_acidity          0.88000\n",
       "citric_acid               0.74000\n",
       "residual_sugar           18.20000\n",
       "chlorides                 0.18616\n",
       "free_sulfur_dioxide      77.00000\n",
       "total_sulfur_dioxide    238.00000\n",
       "density                   1.00060\n",
       "pH                        3.64000\n",
       "sulphates                 0.99000\n",
       "alcohol                  13.40000\n",
       "quality                   8.00000\n",
       "Name: 0.99, dtype: float64"
      ]
     },
     "execution_count": 45,
     "metadata": {},
     "output_type": "execute_result"
    }
   ],
   "source": [
    "wine_df < wine_df.quantile(0.99)"
   ]
  },
  {
   "cell_type": "code",
   "execution_count": 42,
   "id": "6e3fc3c0",
   "metadata": {},
   "outputs": [
    {
     "data": {
      "text/html": [
       "<div>\n",
       "<style scoped>\n",
       "    .dataframe tbody tr th:only-of-type {\n",
       "        vertical-align: middle;\n",
       "    }\n",
       "\n",
       "    .dataframe tbody tr th {\n",
       "        vertical-align: top;\n",
       "    }\n",
       "\n",
       "    .dataframe thead th {\n",
       "        text-align: right;\n",
       "    }\n",
       "</style>\n",
       "<table border=\"1\" class=\"dataframe\">\n",
       "  <thead>\n",
       "    <tr style=\"text-align: right;\">\n",
       "      <th></th>\n",
       "      <th>fixed_acidity</th>\n",
       "      <th>volatile_acidity</th>\n",
       "      <th>citric_acid</th>\n",
       "      <th>residual_sugar</th>\n",
       "      <th>chlorides</th>\n",
       "      <th>free_sulfur_dioxide</th>\n",
       "      <th>total_sulfur_dioxide</th>\n",
       "      <th>density</th>\n",
       "      <th>pH</th>\n",
       "      <th>sulphates</th>\n",
       "      <th>alcohol</th>\n",
       "      <th>quality</th>\n",
       "    </tr>\n",
       "  </thead>\n",
       "  <tbody>\n",
       "    <tr>\n",
       "      <th>0</th>\n",
       "      <td>7.4</td>\n",
       "      <td>0.70</td>\n",
       "      <td>0.00</td>\n",
       "      <td>1.9</td>\n",
       "      <td>0.076</td>\n",
       "      <td>11.0</td>\n",
       "      <td>34.0</td>\n",
       "      <td>0.99780</td>\n",
       "      <td>3.51</td>\n",
       "      <td>0.56</td>\n",
       "      <td>9.4</td>\n",
       "      <td>5.0</td>\n",
       "    </tr>\n",
       "    <tr>\n",
       "      <th>1</th>\n",
       "      <td>7.8</td>\n",
       "      <td>NaN</td>\n",
       "      <td>0.00</td>\n",
       "      <td>2.6</td>\n",
       "      <td>0.098</td>\n",
       "      <td>25.0</td>\n",
       "      <td>67.0</td>\n",
       "      <td>0.99680</td>\n",
       "      <td>3.20</td>\n",
       "      <td>0.68</td>\n",
       "      <td>9.8</td>\n",
       "      <td>5.0</td>\n",
       "    </tr>\n",
       "    <tr>\n",
       "      <th>2</th>\n",
       "      <td>7.8</td>\n",
       "      <td>0.76</td>\n",
       "      <td>0.04</td>\n",
       "      <td>2.3</td>\n",
       "      <td>0.092</td>\n",
       "      <td>15.0</td>\n",
       "      <td>54.0</td>\n",
       "      <td>0.99700</td>\n",
       "      <td>3.26</td>\n",
       "      <td>0.65</td>\n",
       "      <td>9.8</td>\n",
       "      <td>5.0</td>\n",
       "    </tr>\n",
       "    <tr>\n",
       "      <th>3</th>\n",
       "      <td>11.2</td>\n",
       "      <td>0.28</td>\n",
       "      <td>0.56</td>\n",
       "      <td>1.9</td>\n",
       "      <td>0.075</td>\n",
       "      <td>17.0</td>\n",
       "      <td>60.0</td>\n",
       "      <td>0.99800</td>\n",
       "      <td>3.16</td>\n",
       "      <td>0.58</td>\n",
       "      <td>9.8</td>\n",
       "      <td>6.0</td>\n",
       "    </tr>\n",
       "    <tr>\n",
       "      <th>4</th>\n",
       "      <td>7.4</td>\n",
       "      <td>0.70</td>\n",
       "      <td>0.00</td>\n",
       "      <td>1.9</td>\n",
       "      <td>0.076</td>\n",
       "      <td>11.0</td>\n",
       "      <td>34.0</td>\n",
       "      <td>0.99780</td>\n",
       "      <td>3.51</td>\n",
       "      <td>0.56</td>\n",
       "      <td>9.4</td>\n",
       "      <td>5.0</td>\n",
       "    </tr>\n",
       "    <tr>\n",
       "      <th>...</th>\n",
       "      <td>...</td>\n",
       "      <td>...</td>\n",
       "      <td>...</td>\n",
       "      <td>...</td>\n",
       "      <td>...</td>\n",
       "      <td>...</td>\n",
       "      <td>...</td>\n",
       "      <td>...</td>\n",
       "      <td>...</td>\n",
       "      <td>...</td>\n",
       "      <td>...</td>\n",
       "      <td>...</td>\n",
       "    </tr>\n",
       "    <tr>\n",
       "      <th>6492</th>\n",
       "      <td>6.2</td>\n",
       "      <td>0.21</td>\n",
       "      <td>0.29</td>\n",
       "      <td>1.6</td>\n",
       "      <td>0.039</td>\n",
       "      <td>24.0</td>\n",
       "      <td>92.0</td>\n",
       "      <td>0.99114</td>\n",
       "      <td>3.27</td>\n",
       "      <td>0.50</td>\n",
       "      <td>11.2</td>\n",
       "      <td>6.0</td>\n",
       "    </tr>\n",
       "    <tr>\n",
       "      <th>6493</th>\n",
       "      <td>6.6</td>\n",
       "      <td>0.32</td>\n",
       "      <td>0.36</td>\n",
       "      <td>8.0</td>\n",
       "      <td>0.047</td>\n",
       "      <td>57.0</td>\n",
       "      <td>168.0</td>\n",
       "      <td>0.99490</td>\n",
       "      <td>3.15</td>\n",
       "      <td>0.46</td>\n",
       "      <td>9.6</td>\n",
       "      <td>5.0</td>\n",
       "    </tr>\n",
       "    <tr>\n",
       "      <th>6494</th>\n",
       "      <td>6.5</td>\n",
       "      <td>0.24</td>\n",
       "      <td>0.19</td>\n",
       "      <td>1.2</td>\n",
       "      <td>0.041</td>\n",
       "      <td>30.0</td>\n",
       "      <td>111.0</td>\n",
       "      <td>0.99254</td>\n",
       "      <td>2.99</td>\n",
       "      <td>0.46</td>\n",
       "      <td>9.4</td>\n",
       "      <td>6.0</td>\n",
       "    </tr>\n",
       "    <tr>\n",
       "      <th>6495</th>\n",
       "      <td>5.5</td>\n",
       "      <td>0.29</td>\n",
       "      <td>0.30</td>\n",
       "      <td>1.1</td>\n",
       "      <td>0.022</td>\n",
       "      <td>20.0</td>\n",
       "      <td>110.0</td>\n",
       "      <td>0.98869</td>\n",
       "      <td>3.34</td>\n",
       "      <td>0.38</td>\n",
       "      <td>12.8</td>\n",
       "      <td>7.0</td>\n",
       "    </tr>\n",
       "    <tr>\n",
       "      <th>6496</th>\n",
       "      <td>6.0</td>\n",
       "      <td>0.21</td>\n",
       "      <td>0.38</td>\n",
       "      <td>0.8</td>\n",
       "      <td>0.020</td>\n",
       "      <td>22.0</td>\n",
       "      <td>98.0</td>\n",
       "      <td>0.98941</td>\n",
       "      <td>3.26</td>\n",
       "      <td>0.32</td>\n",
       "      <td>11.8</td>\n",
       "      <td>6.0</td>\n",
       "    </tr>\n",
       "  </tbody>\n",
       "</table>\n",
       "<p>6497 rows × 12 columns</p>\n",
       "</div>"
      ],
      "text/plain": [
       "      fixed_acidity  volatile_acidity  citric_acid  residual_sugar  chlorides  \\\n",
       "0               7.4              0.70         0.00             1.9      0.076   \n",
       "1               7.8               NaN         0.00             2.6      0.098   \n",
       "2               7.8              0.76         0.04             2.3      0.092   \n",
       "3              11.2              0.28         0.56             1.9      0.075   \n",
       "4               7.4              0.70         0.00             1.9      0.076   \n",
       "...             ...               ...          ...             ...        ...   \n",
       "6492            6.2              0.21         0.29             1.6      0.039   \n",
       "6493            6.6              0.32         0.36             8.0      0.047   \n",
       "6494            6.5              0.24         0.19             1.2      0.041   \n",
       "6495            5.5              0.29         0.30             1.1      0.022   \n",
       "6496            6.0              0.21         0.38             0.8      0.020   \n",
       "\n",
       "      free_sulfur_dioxide  total_sulfur_dioxide  density    pH  sulphates  \\\n",
       "0                    11.0                  34.0  0.99780  3.51       0.56   \n",
       "1                    25.0                  67.0  0.99680  3.20       0.68   \n",
       "2                    15.0                  54.0  0.99700  3.26       0.65   \n",
       "3                    17.0                  60.0  0.99800  3.16       0.58   \n",
       "4                    11.0                  34.0  0.99780  3.51       0.56   \n",
       "...                   ...                   ...      ...   ...        ...   \n",
       "6492                 24.0                  92.0  0.99114  3.27       0.50   \n",
       "6493                 57.0                 168.0  0.99490  3.15       0.46   \n",
       "6494                 30.0                 111.0  0.99254  2.99       0.46   \n",
       "6495                 20.0                 110.0  0.98869  3.34       0.38   \n",
       "6496                 22.0                  98.0  0.98941  3.26       0.32   \n",
       "\n",
       "      alcohol  quality  \n",
       "0         9.4      5.0  \n",
       "1         9.8      5.0  \n",
       "2         9.8      5.0  \n",
       "3         9.8      6.0  \n",
       "4         9.4      5.0  \n",
       "...       ...      ...  \n",
       "6492     11.2      6.0  \n",
       "6493      9.6      5.0  \n",
       "6494      9.4      6.0  \n",
       "6495     12.8      7.0  \n",
       "6496     11.8      6.0  \n",
       "\n",
       "[6497 rows x 12 columns]"
      ]
     },
     "execution_count": 42,
     "metadata": {},
     "output_type": "execute_result"
    }
   ],
   "source": [
    "wine_clean = wine_df[wine_df < wine_df.quantile(0.99)]\n",
    "wine_clean"
   ]
  },
  {
   "cell_type": "code",
   "execution_count": 10,
   "id": "b2b73ef5",
   "metadata": {},
   "outputs": [],
   "source": [
    "def remove_outliers_box(df, column):\n",
    "    Q1 = df[column].quantile(0.25)\n",
    "    Q3 = df[column].quantile(0.75)\n",
    "    IQR = Q3 - Q1  # Interquartile range\n",
    "    \n",
    "    filter = (df[column] >= Q1 - 1.5 * IQR) & (df[column] <= Q3 + 1.5 *IQR)\n",
    "    \n",
    "    df=df.loc[filter]\n",
    "    \n",
    "    return  df"
   ]
  },
  {
   "cell_type": "code",
   "execution_count": 11,
   "id": "0d27f578",
   "metadata": {
    "scrolled": true
   },
   "outputs": [],
   "source": [
    "wine_df=remove_outliers_box(wine_df, 'alcohol')"
   ]
  },
  {
   "cell_type": "code",
   "execution_count": 12,
   "id": "caacaf26",
   "metadata": {},
   "outputs": [],
   "source": [
    "wine_df=remove_outliers_box(wine_df,'density')"
   ]
  },
  {
   "cell_type": "code",
   "execution_count": 13,
   "id": "da4fc0c3",
   "metadata": {},
   "outputs": [],
   "source": [
    "wine_df=remove_outliers_box(wine_df,'free_sulfur_dioxide')"
   ]
  },
  {
   "cell_type": "code",
   "execution_count": 14,
   "id": "69ccc3f3",
   "metadata": {},
   "outputs": [],
   "source": [
    "wine_df=remove_outliers_box(wine_df,'total_sulfur_dioxide')"
   ]
  },
  {
   "cell_type": "code",
   "execution_count": 15,
   "id": "fb2d5329",
   "metadata": {},
   "outputs": [
    {
     "data": {
      "text/html": [
       "<div>\n",
       "<style scoped>\n",
       "    .dataframe tbody tr th:only-of-type {\n",
       "        vertical-align: middle;\n",
       "    }\n",
       "\n",
       "    .dataframe tbody tr th {\n",
       "        vertical-align: top;\n",
       "    }\n",
       "\n",
       "    .dataframe thead th {\n",
       "        text-align: right;\n",
       "    }\n",
       "</style>\n",
       "<table border=\"1\" class=\"dataframe\">\n",
       "  <thead>\n",
       "    <tr style=\"text-align: right;\">\n",
       "      <th></th>\n",
       "      <th>fixed_acidity</th>\n",
       "      <th>volatile_acidity</th>\n",
       "      <th>citric_acid</th>\n",
       "      <th>residual_sugar</th>\n",
       "      <th>chlorides</th>\n",
       "      <th>free_sulfur_dioxide</th>\n",
       "      <th>total_sulfur_dioxide</th>\n",
       "      <th>density</th>\n",
       "      <th>pH</th>\n",
       "      <th>sulphates</th>\n",
       "      <th>alcohol</th>\n",
       "      <th>quality</th>\n",
       "    </tr>\n",
       "  </thead>\n",
       "  <tbody>\n",
       "    <tr>\n",
       "      <th>0</th>\n",
       "      <td>7.4</td>\n",
       "      <td>0.70</td>\n",
       "      <td>0.00</td>\n",
       "      <td>1.9</td>\n",
       "      <td>0.076</td>\n",
       "      <td>11.0</td>\n",
       "      <td>34.0</td>\n",
       "      <td>0.99780</td>\n",
       "      <td>3.51</td>\n",
       "      <td>0.56</td>\n",
       "      <td>9.4</td>\n",
       "      <td>5</td>\n",
       "    </tr>\n",
       "    <tr>\n",
       "      <th>1</th>\n",
       "      <td>7.8</td>\n",
       "      <td>0.88</td>\n",
       "      <td>0.00</td>\n",
       "      <td>2.6</td>\n",
       "      <td>0.098</td>\n",
       "      <td>25.0</td>\n",
       "      <td>67.0</td>\n",
       "      <td>0.99680</td>\n",
       "      <td>3.20</td>\n",
       "      <td>0.68</td>\n",
       "      <td>9.8</td>\n",
       "      <td>5</td>\n",
       "    </tr>\n",
       "    <tr>\n",
       "      <th>2</th>\n",
       "      <td>7.8</td>\n",
       "      <td>0.76</td>\n",
       "      <td>0.04</td>\n",
       "      <td>2.3</td>\n",
       "      <td>0.092</td>\n",
       "      <td>15.0</td>\n",
       "      <td>54.0</td>\n",
       "      <td>0.99700</td>\n",
       "      <td>3.26</td>\n",
       "      <td>0.65</td>\n",
       "      <td>9.8</td>\n",
       "      <td>5</td>\n",
       "    </tr>\n",
       "    <tr>\n",
       "      <th>3</th>\n",
       "      <td>11.2</td>\n",
       "      <td>0.28</td>\n",
       "      <td>0.56</td>\n",
       "      <td>1.9</td>\n",
       "      <td>0.075</td>\n",
       "      <td>17.0</td>\n",
       "      <td>60.0</td>\n",
       "      <td>0.99800</td>\n",
       "      <td>3.16</td>\n",
       "      <td>0.58</td>\n",
       "      <td>9.8</td>\n",
       "      <td>6</td>\n",
       "    </tr>\n",
       "    <tr>\n",
       "      <th>4</th>\n",
       "      <td>7.4</td>\n",
       "      <td>0.70</td>\n",
       "      <td>0.00</td>\n",
       "      <td>1.9</td>\n",
       "      <td>0.076</td>\n",
       "      <td>11.0</td>\n",
       "      <td>34.0</td>\n",
       "      <td>0.99780</td>\n",
       "      <td>3.51</td>\n",
       "      <td>0.56</td>\n",
       "      <td>9.4</td>\n",
       "      <td>5</td>\n",
       "    </tr>\n",
       "    <tr>\n",
       "      <th>...</th>\n",
       "      <td>...</td>\n",
       "      <td>...</td>\n",
       "      <td>...</td>\n",
       "      <td>...</td>\n",
       "      <td>...</td>\n",
       "      <td>...</td>\n",
       "      <td>...</td>\n",
       "      <td>...</td>\n",
       "      <td>...</td>\n",
       "      <td>...</td>\n",
       "      <td>...</td>\n",
       "      <td>...</td>\n",
       "    </tr>\n",
       "    <tr>\n",
       "      <th>6492</th>\n",
       "      <td>6.2</td>\n",
       "      <td>0.21</td>\n",
       "      <td>0.29</td>\n",
       "      <td>1.6</td>\n",
       "      <td>0.039</td>\n",
       "      <td>24.0</td>\n",
       "      <td>92.0</td>\n",
       "      <td>0.99114</td>\n",
       "      <td>3.27</td>\n",
       "      <td>0.50</td>\n",
       "      <td>11.2</td>\n",
       "      <td>6</td>\n",
       "    </tr>\n",
       "    <tr>\n",
       "      <th>6493</th>\n",
       "      <td>6.6</td>\n",
       "      <td>0.32</td>\n",
       "      <td>0.36</td>\n",
       "      <td>8.0</td>\n",
       "      <td>0.047</td>\n",
       "      <td>57.0</td>\n",
       "      <td>168.0</td>\n",
       "      <td>0.99490</td>\n",
       "      <td>3.15</td>\n",
       "      <td>0.46</td>\n",
       "      <td>9.6</td>\n",
       "      <td>5</td>\n",
       "    </tr>\n",
       "    <tr>\n",
       "      <th>6494</th>\n",
       "      <td>6.5</td>\n",
       "      <td>0.24</td>\n",
       "      <td>0.19</td>\n",
       "      <td>1.2</td>\n",
       "      <td>0.041</td>\n",
       "      <td>30.0</td>\n",
       "      <td>111.0</td>\n",
       "      <td>0.99254</td>\n",
       "      <td>2.99</td>\n",
       "      <td>0.46</td>\n",
       "      <td>9.4</td>\n",
       "      <td>6</td>\n",
       "    </tr>\n",
       "    <tr>\n",
       "      <th>6495</th>\n",
       "      <td>5.5</td>\n",
       "      <td>0.29</td>\n",
       "      <td>0.30</td>\n",
       "      <td>1.1</td>\n",
       "      <td>0.022</td>\n",
       "      <td>20.0</td>\n",
       "      <td>110.0</td>\n",
       "      <td>0.98869</td>\n",
       "      <td>3.34</td>\n",
       "      <td>0.38</td>\n",
       "      <td>12.8</td>\n",
       "      <td>7</td>\n",
       "    </tr>\n",
       "    <tr>\n",
       "      <th>6496</th>\n",
       "      <td>6.0</td>\n",
       "      <td>0.21</td>\n",
       "      <td>0.38</td>\n",
       "      <td>0.8</td>\n",
       "      <td>0.020</td>\n",
       "      <td>22.0</td>\n",
       "      <td>98.0</td>\n",
       "      <td>0.98941</td>\n",
       "      <td>3.26</td>\n",
       "      <td>0.32</td>\n",
       "      <td>11.8</td>\n",
       "      <td>6</td>\n",
       "    </tr>\n",
       "  </tbody>\n",
       "</table>\n",
       "<p>6422 rows × 12 columns</p>\n",
       "</div>"
      ],
      "text/plain": [
       "      fixed_acidity  volatile_acidity  citric_acid  residual_sugar  chlorides  \\\n",
       "0               7.4              0.70         0.00             1.9      0.076   \n",
       "1               7.8              0.88         0.00             2.6      0.098   \n",
       "2               7.8              0.76         0.04             2.3      0.092   \n",
       "3              11.2              0.28         0.56             1.9      0.075   \n",
       "4               7.4              0.70         0.00             1.9      0.076   \n",
       "...             ...               ...          ...             ...        ...   \n",
       "6492            6.2              0.21         0.29             1.6      0.039   \n",
       "6493            6.6              0.32         0.36             8.0      0.047   \n",
       "6494            6.5              0.24         0.19             1.2      0.041   \n",
       "6495            5.5              0.29         0.30             1.1      0.022   \n",
       "6496            6.0              0.21         0.38             0.8      0.020   \n",
       "\n",
       "      free_sulfur_dioxide  total_sulfur_dioxide  density    pH  sulphates  \\\n",
       "0                    11.0                  34.0  0.99780  3.51       0.56   \n",
       "1                    25.0                  67.0  0.99680  3.20       0.68   \n",
       "2                    15.0                  54.0  0.99700  3.26       0.65   \n",
       "3                    17.0                  60.0  0.99800  3.16       0.58   \n",
       "4                    11.0                  34.0  0.99780  3.51       0.56   \n",
       "...                   ...                   ...      ...   ...        ...   \n",
       "6492                 24.0                  92.0  0.99114  3.27       0.50   \n",
       "6493                 57.0                 168.0  0.99490  3.15       0.46   \n",
       "6494                 30.0                 111.0  0.99254  2.99       0.46   \n",
       "6495                 20.0                 110.0  0.98869  3.34       0.38   \n",
       "6496                 22.0                  98.0  0.98941  3.26       0.32   \n",
       "\n",
       "      alcohol  quality  \n",
       "0         9.4        5  \n",
       "1         9.8        5  \n",
       "2         9.8        5  \n",
       "3         9.8        6  \n",
       "4         9.4        5  \n",
       "...       ...      ...  \n",
       "6492     11.2        6  \n",
       "6493      9.6        5  \n",
       "6494      9.4        6  \n",
       "6495     12.8        7  \n",
       "6496     11.8        6  \n",
       "\n",
       "[6422 rows x 12 columns]"
      ]
     },
     "execution_count": 15,
     "metadata": {},
     "output_type": "execute_result"
    }
   ],
   "source": [
    "wine_df"
   ]
  },
  {
   "cell_type": "code",
   "execution_count": 16,
   "id": "82706155",
   "metadata": {},
   "outputs": [],
   "source": [
    "def outliers_count(df, column):\n",
    "    \n",
    "    Q1 = df[column].quantile(0.25)\n",
    "    Q3 = df[column].quantile(0.75)\n",
    "    IQR = Q3 - Q1  # Interquartile range\n",
    "    \n",
    "    # An array of booleans where the True values represent the outliers\n",
    "    outliers = (df[column] < (Q1 - 1.5 * IQR)) | (df[column] > (Q3 + 1.5 * IQR))\n",
    "    \n",
    "    # As True values are interpreted as 1, the sum() returns the number of outliers\n",
    "    return outliers.sum()"
   ]
  },
  {
   "cell_type": "code",
   "execution_count": 27,
   "id": "64cf0b13",
   "metadata": {
    "scrolled": false
   },
   "outputs": [
    {
     "data": {
      "text/plain": [
       "fixed_acidity           292\n",
       "volatile_acidity        287\n",
       "citric_acid             390\n",
       "residual_sugar           51\n",
       "chlorides               224\n",
       "free_sulfur_dioxide       0\n",
       "total_sulfur_dioxide      1\n",
       "density                   0\n",
       "pH                        5\n",
       "sulphates                96\n",
       "alcohol                   0\n",
       "quality                 190\n",
       "dtype: int64"
      ]
     },
     "execution_count": 27,
     "metadata": {},
     "output_type": "execute_result"
    }
   ],
   "source": [
    "outliers_count(wine_df, wine_df.columns)"
   ]
  },
  {
   "cell_type": "code",
   "execution_count": 18,
   "id": "efd2a0b7",
   "metadata": {},
   "outputs": [],
   "source": [
    "def remove_outliers_1pct(df, column):\n",
    "    \n",
    "    Q01 = df[column].quantile(0.01)\n",
    "    Q99 = df[column].quantile(0.99)\n",
    "    \n",
    "    filter = (df[column] >= Q01) & (df[column] <= Q99)\n",
    "    \n",
    "    df=df.loc[filter]\n",
    "    \n",
    "    return df"
   ]
  },
  {
   "cell_type": "code",
   "execution_count": 19,
   "id": "84648138",
   "metadata": {
    "scrolled": true
   },
   "outputs": [],
   "source": [
    "wine_df=remove_outliers_1pct(wine_df, 'chlorides')"
   ]
  },
  {
   "cell_type": "code",
   "execution_count": 20,
   "id": "b49c8b7c",
   "metadata": {},
   "outputs": [],
   "source": [
    "wine_df=remove_outliers_1pct(wine_df, 'citric_acid')"
   ]
  },
  {
   "cell_type": "code",
   "execution_count": 21,
   "id": "a48b836a",
   "metadata": {},
   "outputs": [],
   "source": [
    "wine_df=remove_outliers_1pct(wine_df,'volatile_acidity')"
   ]
  },
  {
   "cell_type": "code",
   "execution_count": 22,
   "id": "ac642067",
   "metadata": {},
   "outputs": [],
   "source": [
    "wine_df=remove_outliers_1pct(wine_df,'fixed_acidity')"
   ]
  },
  {
   "cell_type": "code",
   "execution_count": 23,
   "id": "ca678738",
   "metadata": {},
   "outputs": [],
   "source": [
    "wine_df=remove_outliers_1pct(wine_df,'sulphates')"
   ]
  },
  {
   "cell_type": "code",
   "execution_count": 24,
   "id": "723c708d",
   "metadata": {},
   "outputs": [],
   "source": [
    "wine_df=remove_outliers_1pct(wine_df,'residual_sugar')"
   ]
  },
  {
   "cell_type": "code",
   "execution_count": 25,
   "id": "03e97629",
   "metadata": {},
   "outputs": [],
   "source": [
    "wine_df=remove_outliers_1pct(wine_df,'pH')"
   ]
  },
  {
   "cell_type": "code",
   "execution_count": 26,
   "id": "20ee7c80",
   "metadata": {},
   "outputs": [
    {
     "data": {
      "text/html": [
       "<div>\n",
       "<style scoped>\n",
       "    .dataframe tbody tr th:only-of-type {\n",
       "        vertical-align: middle;\n",
       "    }\n",
       "\n",
       "    .dataframe tbody tr th {\n",
       "        vertical-align: top;\n",
       "    }\n",
       "\n",
       "    .dataframe thead th {\n",
       "        text-align: right;\n",
       "    }\n",
       "</style>\n",
       "<table border=\"1\" class=\"dataframe\">\n",
       "  <thead>\n",
       "    <tr style=\"text-align: right;\">\n",
       "      <th></th>\n",
       "      <th>fixed_acidity</th>\n",
       "      <th>volatile_acidity</th>\n",
       "      <th>citric_acid</th>\n",
       "      <th>residual_sugar</th>\n",
       "      <th>chlorides</th>\n",
       "      <th>free_sulfur_dioxide</th>\n",
       "      <th>total_sulfur_dioxide</th>\n",
       "      <th>density</th>\n",
       "      <th>pH</th>\n",
       "      <th>sulphates</th>\n",
       "      <th>alcohol</th>\n",
       "      <th>quality</th>\n",
       "    </tr>\n",
       "  </thead>\n",
       "  <tbody>\n",
       "    <tr>\n",
       "      <th>0</th>\n",
       "      <td>7.4</td>\n",
       "      <td>0.70</td>\n",
       "      <td>0.00</td>\n",
       "      <td>1.9</td>\n",
       "      <td>0.076</td>\n",
       "      <td>11.0</td>\n",
       "      <td>34.0</td>\n",
       "      <td>0.99780</td>\n",
       "      <td>3.51</td>\n",
       "      <td>0.56</td>\n",
       "      <td>9.4</td>\n",
       "      <td>5</td>\n",
       "    </tr>\n",
       "    <tr>\n",
       "      <th>1</th>\n",
       "      <td>7.8</td>\n",
       "      <td>0.88</td>\n",
       "      <td>0.00</td>\n",
       "      <td>2.6</td>\n",
       "      <td>0.098</td>\n",
       "      <td>25.0</td>\n",
       "      <td>67.0</td>\n",
       "      <td>0.99680</td>\n",
       "      <td>3.20</td>\n",
       "      <td>0.68</td>\n",
       "      <td>9.8</td>\n",
       "      <td>5</td>\n",
       "    </tr>\n",
       "    <tr>\n",
       "      <th>2</th>\n",
       "      <td>7.8</td>\n",
       "      <td>0.76</td>\n",
       "      <td>0.04</td>\n",
       "      <td>2.3</td>\n",
       "      <td>0.092</td>\n",
       "      <td>15.0</td>\n",
       "      <td>54.0</td>\n",
       "      <td>0.99700</td>\n",
       "      <td>3.26</td>\n",
       "      <td>0.65</td>\n",
       "      <td>9.8</td>\n",
       "      <td>5</td>\n",
       "    </tr>\n",
       "    <tr>\n",
       "      <th>3</th>\n",
       "      <td>11.2</td>\n",
       "      <td>0.28</td>\n",
       "      <td>0.56</td>\n",
       "      <td>1.9</td>\n",
       "      <td>0.075</td>\n",
       "      <td>17.0</td>\n",
       "      <td>60.0</td>\n",
       "      <td>0.99800</td>\n",
       "      <td>3.16</td>\n",
       "      <td>0.58</td>\n",
       "      <td>9.8</td>\n",
       "      <td>6</td>\n",
       "    </tr>\n",
       "    <tr>\n",
       "      <th>4</th>\n",
       "      <td>7.4</td>\n",
       "      <td>0.70</td>\n",
       "      <td>0.00</td>\n",
       "      <td>1.9</td>\n",
       "      <td>0.076</td>\n",
       "      <td>11.0</td>\n",
       "      <td>34.0</td>\n",
       "      <td>0.99780</td>\n",
       "      <td>3.51</td>\n",
       "      <td>0.56</td>\n",
       "      <td>9.4</td>\n",
       "      <td>5</td>\n",
       "    </tr>\n",
       "    <tr>\n",
       "      <th>...</th>\n",
       "      <td>...</td>\n",
       "      <td>...</td>\n",
       "      <td>...</td>\n",
       "      <td>...</td>\n",
       "      <td>...</td>\n",
       "      <td>...</td>\n",
       "      <td>...</td>\n",
       "      <td>...</td>\n",
       "      <td>...</td>\n",
       "      <td>...</td>\n",
       "      <td>...</td>\n",
       "      <td>...</td>\n",
       "    </tr>\n",
       "    <tr>\n",
       "      <th>6491</th>\n",
       "      <td>6.5</td>\n",
       "      <td>0.23</td>\n",
       "      <td>0.38</td>\n",
       "      <td>1.3</td>\n",
       "      <td>0.032</td>\n",
       "      <td>29.0</td>\n",
       "      <td>112.0</td>\n",
       "      <td>0.99298</td>\n",
       "      <td>3.29</td>\n",
       "      <td>0.54</td>\n",
       "      <td>9.7</td>\n",
       "      <td>5</td>\n",
       "    </tr>\n",
       "    <tr>\n",
       "      <th>6492</th>\n",
       "      <td>6.2</td>\n",
       "      <td>0.21</td>\n",
       "      <td>0.29</td>\n",
       "      <td>1.6</td>\n",
       "      <td>0.039</td>\n",
       "      <td>24.0</td>\n",
       "      <td>92.0</td>\n",
       "      <td>0.99114</td>\n",
       "      <td>3.27</td>\n",
       "      <td>0.50</td>\n",
       "      <td>11.2</td>\n",
       "      <td>6</td>\n",
       "    </tr>\n",
       "    <tr>\n",
       "      <th>6493</th>\n",
       "      <td>6.6</td>\n",
       "      <td>0.32</td>\n",
       "      <td>0.36</td>\n",
       "      <td>8.0</td>\n",
       "      <td>0.047</td>\n",
       "      <td>57.0</td>\n",
       "      <td>168.0</td>\n",
       "      <td>0.99490</td>\n",
       "      <td>3.15</td>\n",
       "      <td>0.46</td>\n",
       "      <td>9.6</td>\n",
       "      <td>5</td>\n",
       "    </tr>\n",
       "    <tr>\n",
       "      <th>6494</th>\n",
       "      <td>6.5</td>\n",
       "      <td>0.24</td>\n",
       "      <td>0.19</td>\n",
       "      <td>1.2</td>\n",
       "      <td>0.041</td>\n",
       "      <td>30.0</td>\n",
       "      <td>111.0</td>\n",
       "      <td>0.99254</td>\n",
       "      <td>2.99</td>\n",
       "      <td>0.46</td>\n",
       "      <td>9.4</td>\n",
       "      <td>6</td>\n",
       "    </tr>\n",
       "    <tr>\n",
       "      <th>6495</th>\n",
       "      <td>5.5</td>\n",
       "      <td>0.29</td>\n",
       "      <td>0.30</td>\n",
       "      <td>1.1</td>\n",
       "      <td>0.022</td>\n",
       "      <td>20.0</td>\n",
       "      <td>110.0</td>\n",
       "      <td>0.98869</td>\n",
       "      <td>3.34</td>\n",
       "      <td>0.38</td>\n",
       "      <td>12.8</td>\n",
       "      <td>7</td>\n",
       "    </tr>\n",
       "  </tbody>\n",
       "</table>\n",
       "<p>5767 rows × 12 columns</p>\n",
       "</div>"
      ],
      "text/plain": [
       "      fixed_acidity  volatile_acidity  citric_acid  residual_sugar  chlorides  \\\n",
       "0               7.4              0.70         0.00             1.9      0.076   \n",
       "1               7.8              0.88         0.00             2.6      0.098   \n",
       "2               7.8              0.76         0.04             2.3      0.092   \n",
       "3              11.2              0.28         0.56             1.9      0.075   \n",
       "4               7.4              0.70         0.00             1.9      0.076   \n",
       "...             ...               ...          ...             ...        ...   \n",
       "6491            6.5              0.23         0.38             1.3      0.032   \n",
       "6492            6.2              0.21         0.29             1.6      0.039   \n",
       "6493            6.6              0.32         0.36             8.0      0.047   \n",
       "6494            6.5              0.24         0.19             1.2      0.041   \n",
       "6495            5.5              0.29         0.30             1.1      0.022   \n",
       "\n",
       "      free_sulfur_dioxide  total_sulfur_dioxide  density    pH  sulphates  \\\n",
       "0                    11.0                  34.0  0.99780  3.51       0.56   \n",
       "1                    25.0                  67.0  0.99680  3.20       0.68   \n",
       "2                    15.0                  54.0  0.99700  3.26       0.65   \n",
       "3                    17.0                  60.0  0.99800  3.16       0.58   \n",
       "4                    11.0                  34.0  0.99780  3.51       0.56   \n",
       "...                   ...                   ...      ...   ...        ...   \n",
       "6491                 29.0                 112.0  0.99298  3.29       0.54   \n",
       "6492                 24.0                  92.0  0.99114  3.27       0.50   \n",
       "6493                 57.0                 168.0  0.99490  3.15       0.46   \n",
       "6494                 30.0                 111.0  0.99254  2.99       0.46   \n",
       "6495                 20.0                 110.0  0.98869  3.34       0.38   \n",
       "\n",
       "      alcohol  quality  \n",
       "0         9.4        5  \n",
       "1         9.8        5  \n",
       "2         9.8        5  \n",
       "3         9.8        6  \n",
       "4         9.4        5  \n",
       "...       ...      ...  \n",
       "6491      9.7        5  \n",
       "6492     11.2        6  \n",
       "6493      9.6        5  \n",
       "6494      9.4        6  \n",
       "6495     12.8        7  \n",
       "\n",
       "[5767 rows x 12 columns]"
      ]
     },
     "execution_count": 26,
     "metadata": {},
     "output_type": "execute_result"
    }
   ],
   "source": [
    "wine_df"
   ]
  },
  {
   "cell_type": "markdown",
   "id": "a03b53d8",
   "metadata": {},
   "source": [
    "#### some how the count is wrong, but the rows decreased and the histograms look good and like outliers were removed"
   ]
  },
  {
   "cell_type": "markdown",
   "id": "c7d99eac",
   "metadata": {},
   "source": [
    "def outliers_count_1pct(df, column):\n",
    "    \n",
    "    Q1 = df[column].quantile(0.01)\n",
    "    Q99 = df[column].quantile(0.99)\n",
    "        \n",
    "    # An array of booleans where the True values represent the outliers\n",
    "    outliers = df[column] > Q99\n",
    "    \n",
    "    # As True values are interpreted as 1, the sum() returns the number of outliers\n",
    "    return outliers.sum()"
   ]
  },
  {
   "cell_type": "markdown",
   "id": "c0f37cef",
   "metadata": {},
   "source": [
    "for c in wine_df.columns:\n",
    "    print(c, outliers_count_1pct(wine_df, c))"
   ]
  },
  {
   "cell_type": "code",
   "execution_count": 467,
   "id": "12cc3908",
   "metadata": {},
   "outputs": [
    {
     "data": {
      "image/png": "[encoded data removed]",
      "text/plain": [
       "<Figure size 1080x1152 with 11 Axes>"
      ]
     },
     "metadata": {
      "needs_background": "light"
     },
     "output_type": "display_data"
    }
   ],
   "source": [
    "fig, ax = plt.subplots(4,3, figsize=(15,16))\n",
    "#fig.tight_layout(h_pad=5, w_pad=0.8)\n",
    "fig.delaxes(ax[3,2])\n",
    "\n",
    "color = sns.color_palette('tab10', n_colors=11)\n",
    "\n",
    "sns.histplot(x='fixed_acidity', data=wine_df, color=color[0], ax=ax[0,0], kde=True, element='step')\n",
    "sns.histplot(x='volatile_acidity', data=wine_df, color=color[1], ax=ax[0,1], kde=True, element='step')\n",
    "sns.histplot(x='citric_acid', data=wine_df, color=color[2], ax=ax[0,2], kde=True, element='step')\n",
    "sns.histplot(x='residual_sugar', data=wine_df, color=color[3], ax=ax[1,0], kde=True, element='step')\n",
    "sns.histplot(x='chlorides', data=wine_df, color=color[4], ax=ax[1,1], kde=True, element='step')\n",
    "sns.histplot(x='free_sulfur_dioxide', data=wine_df, color=color[5], ax=ax[1,2], kde=True, element='step')\n",
    "sns.histplot(x='total_sulfur_dioxide', data=wine_df, color=color[6], ax=ax[2,0], kde=True, element='step')\n",
    "sns.histplot(x='density', data=wine_df, color=color[7], ax=ax[2,1], kde=True, element='step')\n",
    "sns.histplot(x='pH', data=wine_df, color=color[8], ax=ax[2,2], kde=True, element='step')\n",
    "sns.histplot(x='sulphates', data=wine_df, color=color[9], ax=ax[3,0], kde=True, element='step')\n",
    "sns.histplot(x='alcohol', data=wine_df, color=color[10], ax=ax[3,1], kde=True, element='step')\n",
    "\n",
    "plt.show()"
   ]
  },
  {
   "cell_type": "markdown",
   "id": "6df9a60c",
   "metadata": {},
   "source": [
    "#### Apply logistic regression"
   ]
  },
  {
   "cell_type": "code",
   "execution_count": 29,
   "id": "985e3fde",
   "metadata": {},
   "outputs": [
    {
     "data": {
      "text/plain": [
       "1    0.639674\n",
       "0    0.360326\n",
       "Name: quality_categorized, dtype: float64"
      ]
     },
     "execution_count": 29,
     "metadata": {},
     "output_type": "execute_result"
    }
   ],
   "source": [
    "wine_df['quality_categorized'] = wine_df['quality'].apply(lambda x: 0 if x < 6 else 1)\n",
    "wine_df['quality_categorized'].value_counts(normalize=True)"
   ]
  },
  {
   "cell_type": "code",
   "execution_count": 30,
   "id": "1f4991fb",
   "metadata": {},
   "outputs": [],
   "source": [
    "X = wine_df.drop(['quality', 'quality_categorized'], axis=1)\n",
    "y = wine_df['quality_categorized']"
   ]
  },
  {
   "cell_type": "code",
   "execution_count": 32,
   "id": "1839faf8",
   "metadata": {},
   "outputs": [],
   "source": [
    "X_train, X_test, y_train, y_test = train_test_split(X, y, test_size=.20, random_state=0)"
   ]
  },
  {
   "cell_type": "code",
   "execution_count": 33,
   "id": "06031786",
   "metadata": {},
   "outputs": [],
   "source": [
    "X_train_scaled = StandardScaler().fit_transform(X_train)\n",
    "X_test_scaled = StandardScaler().fit_transform(X_test)"
   ]
  },
  {
   "cell_type": "code",
   "execution_count": 34,
   "id": "f89c6edb",
   "metadata": {},
   "outputs": [
    {
     "name": "stdout",
     "output_type": "stream",
     "text": [
      "Optimization terminated successfully.\n",
      "         Current function value: 0.509274\n",
      "         Iterations 6\n",
      "                            Logit Regression Results                           \n",
      "===============================================================================\n",
      "Dep. Variable:     quality_categorized   No. Observations:                 4613\n",
      "Model:                           Logit   Df Residuals:                     4601\n",
      "Method:                            MLE   Df Model:                           11\n",
      "Date:                 Wed, 17 Nov 2021   Pseudo R-squ.:                  0.2218\n",
      "Time:                         16:31:35   Log-Likelihood:                -2349.3\n",
      "converged:                        True   LL-Null:                       -3019.0\n",
      "Covariance Type:             nonrobust   LLR p-value:                1.433e-280\n",
      "==============================================================================\n",
      "                 coef    std err          z      P>|z|      [0.025      0.975]\n",
      "------------------------------------------------------------------------------\n",
      "const          0.7873      0.038     20.476      0.000       0.712       0.863\n",
      "x1             0.1349      0.078      1.735      0.083      -0.017       0.287\n",
      "x2            -0.7065      0.054    -13.175      0.000      -0.812      -0.601\n",
      "x3            -0.1468      0.043     -3.415      0.001      -0.231      -0.063\n",
      "x4             0.4828      0.104      4.654      0.000       0.279       0.686\n",
      "x5             0.0408      0.049      0.840      0.401      -0.054       0.136\n",
      "x6             0.3297      0.054      6.162      0.000       0.225       0.435\n",
      "x7            -0.3927      0.061     -6.483      0.000      -0.511      -0.274\n",
      "x8            -0.3015      0.162     -1.857      0.063      -0.620       0.017\n",
      "x9             0.0975      0.058      1.681      0.093      -0.016       0.211\n",
      "x10            0.3823      0.048      8.010      0.000       0.289       0.476\n",
      "x11            1.0293      0.093     11.056      0.000       0.847       1.212\n",
      "==============================================================================\n"
     ]
    }
   ],
   "source": [
    "X_train_const = sm.add_constant(X_train_scaled)\n",
    "log_reg = sm.Logit(y_train, X_train_const)\n",
    "results = log_reg.fit()\n",
    "\n",
    "print(results.summary())"
   ]
  },
  {
   "cell_type": "code",
   "execution_count": 35,
   "id": "8cf5c0bd",
   "metadata": {},
   "outputs": [
    {
     "data": {
      "text/plain": [
       "Index(['volatile_acidity', 'citric_acid', 'residual_sugar',\n",
       "       'free_sulfur_dioxide', 'total_sulfur_dioxide', 'sulphates', 'alcohol'],\n",
       "      dtype='object')"
      ]
     },
     "execution_count": 35,
     "metadata": {},
     "output_type": "execute_result"
    }
   ],
   "source": [
    "X.columns[results.pvalues[1:] < 0.05]"
   ]
  },
  {
   "cell_type": "code",
   "execution_count": 36,
   "id": "4999ef32",
   "metadata": {},
   "outputs": [
    {
     "name": "stdout",
     "output_type": "stream",
     "text": [
      "Accuracy: 0.7409\n",
      "Recall: 0.7781\n"
     ]
    }
   ],
   "source": [
    "# Add a constant\n",
    "X_test_const = sm.add_constant(X_test_scaled)\n",
    "\n",
    "# Return float values between 0 and 1, so we round and convert them to int\n",
    "y_hat = results.predict(X_test_const).round().astype(int)  \n",
    "\n",
    "# Performance metrics\n",
    "accuracy1 = metrics.accuracy_score(y_hat, y_test)\n",
    "recall1 = metrics.recall_score(y_hat, y_test)\n",
    "\n",
    "print('Accuracy: {:.4f}\\nRecall: {:.4f}'.format(accuracy1, recall1))"
   ]
  },
  {
   "cell_type": "code",
   "execution_count": 37,
   "id": "babf3baf",
   "metadata": {},
   "outputs": [
    {
     "name": "stdout",
     "output_type": "stream",
     "text": [
      "Optimization terminated successfully.\n",
      "         Current function value: 0.509698\n",
      "         Iterations 6\n",
      "                            Logit Regression Results                           \n",
      "===============================================================================\n",
      "Dep. Variable:     quality_categorized   No. Observations:                 4613\n",
      "Model:                           Logit   Df Residuals:                     4605\n",
      "Method:                            MLE   Df Model:                            7\n",
      "Date:                 Wed, 17 Nov 2021   Pseudo R-squ.:                  0.2212\n",
      "Time:                         16:34:34   Log-Likelihood:                -2351.2\n",
      "converged:                        True   LL-Null:                       -3019.0\n",
      "Covariance Type:             nonrobust   LLR p-value:                3.526e-284\n",
      "==============================================================================\n",
      "                 coef    std err          z      P>|z|      [0.025      0.975]\n",
      "------------------------------------------------------------------------------\n",
      "const          0.7857      0.038     20.502      0.000       0.711       0.861\n",
      "x1            -0.7343      0.046    -15.937      0.000      -0.825      -0.644\n",
      "x2            -0.1451      0.039     -3.741      0.000      -0.221      -0.069\n",
      "x3             0.3032      0.043      7.020      0.000       0.219       0.388\n",
      "x4             0.3301      0.053      6.214      0.000       0.226       0.434\n",
      "x5            -0.3836      0.057     -6.700      0.000      -0.496      -0.271\n",
      "x6             0.3597      0.042      8.667      0.000       0.278       0.441\n",
      "x7             1.1679      0.049     23.867      0.000       1.072       1.264\n",
      "==============================================================================\n"
     ]
    }
   ],
   "source": [
    "# select only the significant colums\n",
    "columns_to_keep = X.columns[results.pvalues[1:] < 0.05]\n",
    "X_clean = X[columns_to_keep]\n",
    "\n",
    "# train/test split\n",
    "X_train, X_test, y_train, y_test = train_test_split(X_clean, y, test_size=.20, random_state=0)\n",
    "X_train_scaled = StandardScaler().fit_transform(X_train)\n",
    "X_test_scaled = StandardScaler().fit_transform(X_test)\n",
    "\n",
    "\n",
    "# apply regression\n",
    "X_train_const = sm.add_constant(X_train_scaled)\n",
    "log_reg = sm.Logit(y_train, X_train_const)\n",
    "results = log_reg.fit()\n",
    "\n",
    "print(results.summary())"
   ]
  },
  {
   "cell_type": "code",
   "execution_count": 38,
   "id": "bbb48071",
   "metadata": {},
   "outputs": [
    {
     "name": "stdout",
     "output_type": "stream",
     "text": [
      "Accuracy: 0.7409\n",
      "Recall: 0.7781\n"
     ]
    }
   ],
   "source": [
    "# Add a constant\n",
    "X_test_const = sm.add_constant(X_test_scaled)\n",
    "\n",
    "# Return float values between 0 and 1, so we round and convert them to int\n",
    "y_hat = results.predict(X_test_const).round().astype(int)  \n",
    "\n",
    "# Performance metrics\n",
    "accuracy1 = metrics.accuracy_score(y_hat, y_test)\n",
    "recall1 = metrics.recall_score(y_hat, y_test)\n",
    "\n",
    "print('Accuracy: {:.4f}\\nRecall: {:.4f}'.format(accuracy1, recall1))"
   ]
  },
  {
   "cell_type": "code",
   "execution_count": 477,
   "id": "1e626df6",
   "metadata": {},
   "outputs": [
    {
     "data": {
      "text/html": [
       "<div>\n",
       "<style scoped>\n",
       "    .dataframe tbody tr th:only-of-type {\n",
       "        vertical-align: middle;\n",
       "    }\n",
       "\n",
       "    .dataframe tbody tr th {\n",
       "        vertical-align: top;\n",
       "    }\n",
       "\n",
       "    .dataframe thead th {\n",
       "        text-align: right;\n",
       "    }\n",
       "</style>\n",
       "<table border=\"1\" class=\"dataframe\">\n",
       "  <thead>\n",
       "    <tr style=\"text-align: right;\">\n",
       "      <th></th>\n",
       "      <th>0</th>\n",
       "      <th>1</th>\n",
       "    </tr>\n",
       "  </thead>\n",
       "  <tbody>\n",
       "    <tr>\n",
       "      <th>0</th>\n",
       "      <td>186</td>\n",
       "      <td>73</td>\n",
       "    </tr>\n",
       "    <tr>\n",
       "      <th>1</th>\n",
       "      <td>164</td>\n",
       "      <td>564</td>\n",
       "    </tr>\n",
       "  </tbody>\n",
       "</table>\n",
       "</div>"
      ],
      "text/plain": [
       "     0    1\n",
       "0  186   73\n",
       "1  164  564"
      ]
     },
     "execution_count": 477,
     "metadata": {},
     "output_type": "execute_result"
    }
   ],
   "source": [
    "cm = confusion_matrix(y_hat,y_test)\n",
    "pd.DataFrame(cm)"
   ]
  },
  {
   "cell_type": "markdown",
   "id": "690e0663",
   "metadata": {},
   "source": [
    "#### Apply Linear Regression"
   ]
  },
  {
   "cell_type": "code",
   "execution_count": 478,
   "id": "36bf8ec8",
   "metadata": {},
   "outputs": [],
   "source": [
    "X = wine_df.drop('quality', axis=1)\n",
    "y = wine_df['quality']"
   ]
  },
  {
   "cell_type": "code",
   "execution_count": 479,
   "id": "0fe67c7e",
   "metadata": {},
   "outputs": [],
   "source": [
    "X_scaled = StandardScaler().fit_transform(X)"
   ]
  },
  {
   "cell_type": "code",
   "execution_count": 480,
   "id": "abc6573d",
   "metadata": {},
   "outputs": [],
   "source": [
    "X_train, X_test, y_train, y_test = train_test_split(X_scaled, y, test_size=.20, random_state=0)"
   ]
  },
  {
   "cell_type": "code",
   "execution_count": 481,
   "id": "0ac2dedd",
   "metadata": {},
   "outputs": [
    {
     "data": {
      "text/html": [
       "<div>\n",
       "<style scoped>\n",
       "    .dataframe tbody tr th:only-of-type {\n",
       "        vertical-align: middle;\n",
       "    }\n",
       "\n",
       "    .dataframe tbody tr th {\n",
       "        vertical-align: top;\n",
       "    }\n",
       "\n",
       "    .dataframe thead th {\n",
       "        text-align: right;\n",
       "    }\n",
       "</style>\n",
       "<table border=\"1\" class=\"dataframe\">\n",
       "  <thead>\n",
       "    <tr style=\"text-align: right;\">\n",
       "      <th></th>\n",
       "      <th>Attribute</th>\n",
       "      <th>Importance</th>\n",
       "    </tr>\n",
       "  </thead>\n",
       "  <tbody>\n",
       "    <tr>\n",
       "      <th>11</th>\n",
       "      <td>quality_categorized</td>\n",
       "      <td>0.631838</td>\n",
       "    </tr>\n",
       "    <tr>\n",
       "      <th>7</th>\n",
       "      <td>density</td>\n",
       "      <td>0.119727</td>\n",
       "    </tr>\n",
       "    <tr>\n",
       "      <th>3</th>\n",
       "      <td>residual_sugar</td>\n",
       "      <td>0.109387</td>\n",
       "    </tr>\n",
       "    <tr>\n",
       "      <th>10</th>\n",
       "      <td>alcohol</td>\n",
       "      <td>0.079015</td>\n",
       "    </tr>\n",
       "    <tr>\n",
       "      <th>5</th>\n",
       "      <td>free_sulfur_dioxide</td>\n",
       "      <td>0.056198</td>\n",
       "    </tr>\n",
       "    <tr>\n",
       "      <th>0</th>\n",
       "      <td>fixed_acidity</td>\n",
       "      <td>0.053524</td>\n",
       "    </tr>\n",
       "    <tr>\n",
       "      <th>6</th>\n",
       "      <td>total_sulfur_dioxide</td>\n",
       "      <td>0.049145</td>\n",
       "    </tr>\n",
       "    <tr>\n",
       "      <th>8</th>\n",
       "      <td>pH</td>\n",
       "      <td>0.036032</td>\n",
       "    </tr>\n",
       "    <tr>\n",
       "      <th>9</th>\n",
       "      <td>sulphates</td>\n",
       "      <td>0.032924</td>\n",
       "    </tr>\n",
       "    <tr>\n",
       "      <th>1</th>\n",
       "      <td>volatile_acidity</td>\n",
       "      <td>0.015976</td>\n",
       "    </tr>\n",
       "    <tr>\n",
       "      <th>2</th>\n",
       "      <td>citric_acid</td>\n",
       "      <td>0.009506</td>\n",
       "    </tr>\n",
       "    <tr>\n",
       "      <th>4</th>\n",
       "      <td>chlorides</td>\n",
       "      <td>0.002058</td>\n",
       "    </tr>\n",
       "  </tbody>\n",
       "</table>\n",
       "</div>"
      ],
      "text/plain": [
       "               Attribute  Importance\n",
       "11   quality_categorized    0.631838\n",
       "7                density    0.119727\n",
       "3         residual_sugar    0.109387\n",
       "10               alcohol    0.079015\n",
       "5    free_sulfur_dioxide    0.056198\n",
       "0          fixed_acidity    0.053524\n",
       "6   total_sulfur_dioxide    0.049145\n",
       "8                     pH    0.036032\n",
       "9              sulphates    0.032924\n",
       "1       volatile_acidity    0.015976\n",
       "2            citric_acid    0.009506\n",
       "4              chlorides    0.002058"
      ]
     },
     "execution_count": 481,
     "metadata": {},
     "output_type": "execute_result"
    }
   ],
   "source": [
    "model=LinearRegression()\n",
    "model.fit(X_train, y_train)\n",
    "\n",
    "features_importances = pd.DataFrame(data={\n",
    "    'Attribute': X.columns,\n",
    "    'Importance': abs(model.coef_)\n",
    "})\n",
    "features_importances = features_importances.sort_values(by='Importance', ascending=False)\n",
    "features_importances"
   ]
  },
  {
   "cell_type": "code",
   "execution_count": 482,
   "id": "94e6f6c5",
   "metadata": {},
   "outputs": [
    {
     "data": {
      "text/plain": [
       "array([ 0.05352393, -0.01597646,  0.00950591,  0.10938662, -0.00205826,\n",
       "        0.05619781, -0.0491448 , -0.11972676,  0.03603207,  0.03292375,\n",
       "        0.07901467,  0.63183771])"
      ]
     },
     "execution_count": 482,
     "metadata": {},
     "output_type": "execute_result"
    }
   ],
   "source": [
    "model.coef_"
   ]
  },
  {
   "cell_type": "code",
   "execution_count": 483,
   "id": "4334bbab",
   "metadata": {
    "scrolled": true
   },
   "outputs": [
    {
     "name": "stdout",
     "output_type": "stream",
     "text": [
      "                            OLS Regression Results                            \n",
      "==============================================================================\n",
      "Dep. Variable:                quality   R-squared:                       0.683\n",
      "Model:                            OLS   Adj. R-squared:                  0.682\n",
      "Method:                 Least Squares   F-statistic:                     706.9\n",
      "Date:                Wed, 17 Nov 2021   Prob (F-statistic):               0.00\n",
      "Time:                        15:57:48   Log-Likelihood:                -2763.3\n",
      "No. Observations:                3945   AIC:                             5553.\n",
      "Df Residuals:                    3932   BIC:                             5634.\n",
      "Df Model:                          12                                         \n",
      "Covariance Type:            nonrobust                                         \n",
      "==============================================================================\n",
      "                 coef    std err          t      P>|t|      [0.025      0.975]\n",
      "------------------------------------------------------------------------------\n",
      "const          5.8617      0.008    753.710      0.000       5.846       5.877\n",
      "x1             0.0535      0.015      3.578      0.000       0.024       0.083\n",
      "x2            -0.0160      0.011     -1.441      0.150      -0.038       0.006\n",
      "x3             0.0095      0.010      0.988      0.323      -0.009       0.028\n",
      "x4             0.1094      0.023      4.724      0.000       0.064       0.155\n",
      "x5            -0.0021      0.013     -0.153      0.878      -0.028       0.024\n",
      "x6             0.0562      0.011      5.020      0.000       0.034       0.078\n",
      "x7            -0.0491      0.013     -3.835      0.000      -0.074      -0.024\n",
      "x8            -0.1197      0.038     -3.157      0.002      -0.194      -0.045\n",
      "x9             0.0360      0.012      2.968      0.003       0.012       0.060\n",
      "x10            0.0329      0.009      3.535      0.000       0.015       0.051\n",
      "x11            0.0790      0.021      3.753      0.000       0.038       0.120\n",
      "x12            0.6318      0.009     70.713      0.000       0.614       0.649\n",
      "==============================================================================\n",
      "Omnibus:                      619.142   Durbin-Watson:                   2.012\n",
      "Prob(Omnibus):                  0.000   Jarque-Bera (JB):             1468.365\n",
      "Skew:                           0.891   Prob(JB):                         0.00\n",
      "Kurtosis:                       5.399   Cond. No.                         11.4\n",
      "==============================================================================\n",
      "\n",
      "Notes:\n",
      "[1] Standard Errors assume that the covariance matrix of the errors is correctly specified.\n"
     ]
    }
   ],
   "source": [
    "X_train_const = sm.add_constant(X_train) # adding a constant\n",
    "\n",
    "model = sm.OLS(y_train, X_train_const)\n",
    "results = model.fit()\n",
    "print(results.summary())"
   ]
  },
  {
   "cell_type": "code",
   "execution_count": null,
   "id": "07ce58a2",
   "metadata": {},
   "outputs": [],
   "source": []
  },
  {
   "cell_type": "markdown",
   "id": "635e2b01",
   "metadata": {},
   "source": [
    "**Future improvements:**\n",
    "\n",
    "These datasets can be viewed as classification or regression tasks. The classes are ordered and not balanced (e.g. there are many more normal wines than excellent or poor ones). Outlier detection algorithms could be used to detect the few excellent or poor wines. Also, we are not sure if all input variables are relevant. So it could be interesting to test feature selection methods.\n",
    "\n",
    "1. Use classification models such as Random Forests\n",
    "2. Deal with the class imbalancement"
   ]
  },
  {
   "cell_type": "code",
   "execution_count": null,
   "id": "1b7ffe2e",
   "metadata": {},
   "outputs": [],
   "source": []
  },
  {
   "cell_type": "code",
   "execution_count": null,
   "id": "841a3105",
   "metadata": {},
   "outputs": [],
   "source": []
  }
 ],
 "metadata": {
  "kernelspec": {
   "display_name": "Python 3",
   "language": "python",
   "name": "python3"
  },
  "language_info": {
   "codemirror_mode": {
    "name": "ipython",
    "version": 3
   },
   "file_extension": ".py",
   "mimetype": "text/x-python",
   "name": "python",
   "nbconvert_exporter": "python",
   "pygments_lexer": "ipython3",
   "version": "3.7.11"
  }
 },
 "nbformat": 4,
 "nbformat_minor": 5
}
